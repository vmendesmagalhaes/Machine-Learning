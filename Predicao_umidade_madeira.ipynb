{
  "nbformat": 4,
  "nbformat_minor": 0,
  "metadata": {
    "colab": {
      "provenance": [],
      "authorship_tag": "ABX9TyNSAtpGKPktNROgJWyg6Kwv",
      "include_colab_link": true
    },
    "kernelspec": {
      "name": "python3",
      "display_name": "Python 3"
    },
    "language_info": {
      "name": "python"
    }
  },
  "cells": [
    {
      "cell_type": "markdown",
      "metadata": {
        "id": "view-in-github",
        "colab_type": "text"
      },
      "source": [
        "<a href=\"https://colab.research.google.com/github/vmendesmagalhaes/machine-learning/blob/main/Predicao_umidade_madeira.ipynb\" target=\"_parent\"><img src=\"https://colab.research.google.com/assets/colab-badge.svg\" alt=\"Open In Colab\"/></a>"
      ]
    },
    {
      "cell_type": "markdown",
      "source": [
        "# Predição de variação do teor de umidade em madeira\n",
        "\n",
        "**Autor:** Vitor Mendes Magalhaes\n",
        "\n",
        "**Email:** vitor.mendes.magalhaes@gmail.com\n",
        "\n",
        "**Data da última atualização:** 04/02/2023"
      ],
      "metadata": {
        "id": "9-10UdlcZ2sc"
      }
    },
    {
      "cell_type": "markdown",
      "source": [
        "Vamos iniciar carregando as bibliotecas necessárias."
      ],
      "metadata": {
        "id": "9zeGdHc22pSx"
      }
    },
    {
      "cell_type": "code",
      "execution_count": null,
      "metadata": {
        "id": "R0A8j7EeWB75"
      },
      "outputs": [],
      "source": [
        "import pandas as pandas\n",
        "import numpy as numpy\n",
        "import matplotlib.pyplot as matplot\n",
        "import seaborn as seaborn\n",
        "from sklearn.model_selection import train_test_split as createDataPartition\n",
        "from sklearn import preprocessing\n",
        "from sklearn.preprocessing import LabelEncoder\n",
        "from sklearn.ensemble import RandomForestClassifier\n",
        "from sklearn import metrics\n",
        "from sklearn.metrics import confusion_matrix"
      ]
    },
    {
      "cell_type": "markdown",
      "source": [
        "O próximo passo é importar a planilha (arquivo .XLS)."
      ],
      "metadata": {
        "id": "VkYihumGjWdD"
      }
    },
    {
      "cell_type": "code",
      "source": [
        "dados = pandas.read_excel('datasetjan23.xls')"
      ],
      "metadata": {
        "id": "SbTwRtmBo9Qo"
      },
      "execution_count": null,
      "outputs": []
    },
    {
      "cell_type": "markdown",
      "source": [
        "Agora, vamos continuar pré-processando nossos dados. Vamos retirar os atributos que não são interessantes para a criação do modelos de aprendizado a serem aplicado.\n",
        "\n",
        "Primeiro, vamos criar um novo atributo, chamado *PERCENTUAL*. Ele significa o percentual de perda (estorno) em relação ao total de entradas da pilha."
      ],
      "metadata": {
        "id": "LyrokgrApkA3"
      }
    },
    {
      "cell_type": "code",
      "source": [
        "dados['PERCENTUAL'] = (dados['ESTORNO'] * 100) / dados['TOT_ENTR']"
      ],
      "metadata": {
        "id": "bHyUJDmopxo-"
      },
      "execution_count": null,
      "outputs": []
    },
    {
      "cell_type": "markdown",
      "source": [
        "Após a criação do novo atributo, vamos remover as instâncias de pilhas que não tiveram saídas de madeira. Em teoria, se não representam erro operacional, estas pilhas continuavam a receber cargas de madeira, ou ainda não estavam fechadas, no momento da captura dos dados.\n",
        "\n",
        "Também vamos remover as instâncias que não tiveram cargas estornadas, ou seja, que em teoria não houve perda de umidade. Em cargas de madeira armazenadas ao ar livre (tecnicamente, chama-se \"secagem natural\"), nas condições dos dados capturados, sempre haverá perda de umidade."
      ],
      "metadata": {
        "id": "uNpS1ChEr1SV"
      }
    },
    {
      "cell_type": "code",
      "source": [
        "dados.drop(dados[dados['TOT_SAID'] == 0].index, inplace=True)\n",
        "dados.drop(dados[dados['ESTORNO'] == 0].index, inplace=True)"
      ],
      "metadata": {
        "id": "uIiqzQgCr8ug"
      },
      "execution_count": null,
      "outputs": []
    },
    {
      "cell_type": "markdown",
      "source": [
        "Removidas as instâncias, vamos criar cópias do dataset original, que serão utilizadas para treinar diferentes modelos de resolução do problema utilizando aprendizado supervisionado: modelos de classificação (para diferentes classes) e de regressão."
      ],
      "metadata": {
        "id": "EDiAvLNw39VX"
      }
    },
    {
      "cell_type": "code",
      "source": [
        "dfClassificacao = dados\n",
        "dfRegressao = dados"
      ],
      "metadata": {
        "id": "hIL7O7x74Sqj"
      },
      "execution_count": null,
      "outputs": []
    },
    {
      "cell_type": "markdown",
      "source": [
        "Feito isso, vamos continuar pré-processando os dados, agora com uma seleção de características, enviesando os dados para ficarem de acordo com o tipo de aprendizado supervisionado ao que eles se propoem.\n",
        "\n",
        "Para o modelo de regressão, vamos retirar a identificação da pilha (*PILHA*), o total de saídas (*TOT_SAID*), a diferença entre a entrada e a saída (*DIFERENCA*), as datas (*DATA_INICIO* e *DATA_FIM*) e a quantidade estornada (*ESTORNO*). Assim, já tornamos claro que a classe que se deseja predizer é o *PERCENTUAL* de perda de peso relativo à entrada total de madeira na pilha."
      ],
      "metadata": {
        "id": "9w4ZJM9v4Xgb"
      }
    },
    {
      "cell_type": "code",
      "source": [
        "dfRegressao = dfRegressao.drop([\"PILHA\", \"TOT_SAID\", \"DIFERENCA\", \"DATA_INICIO\", \"DATA_FIM\", \"ESTORNO\"], axis=1)"
      ],
      "metadata": {
        "id": "6MUq60SD4rmu"
      },
      "execution_count": null,
      "outputs": []
    },
    {
      "cell_type": "markdown",
      "source": [
        "Já para a criação dos modelos de classificação, vamos criar um novo atributo, chamado *INTERVALOPERDA*. Os intervalos de perda nada mais são do que intervalos de percentuais de perda de peso, por ex.: entre 0% e 5% de perda; entre 5% e 10% de perda, e assim por diante, até o quanto os dados permitirem.\n",
        "\n",
        "Para definir os melhores intervalos de percentuais de perda de peso, primeiro vamos analisar visualmente, através de três distintas ferramentas visuais de análise: um *boxplot*, um resumo do atributo *PERCENTUAL* (que irá ditar os intervalos), e um histograma com a frequência de instâncias com diferentes percentuais."
      ],
      "metadata": {
        "id": "XN6RdFXO5bu5"
      }
    },
    {
      "cell_type": "code",
      "source": [
        "dfClassificacao.boxplot(column =['PERCENTUAL'], grid = True)"
      ],
      "metadata": {
        "colab": {
          "base_uri": "https://localhost:8080/",
          "height": 282
        },
        "id": "SvRSax9A52bY",
        "outputId": "1c7de7ca-ca80-42dd-ed22-1efa52a0859e"
      },
      "execution_count": null,
      "outputs": [
        {
          "output_type": "execute_result",
          "data": {
            "text/plain": [
              "<matplotlib.axes._subplots.AxesSubplot at 0x7f655a95d640>"
            ]
          },
          "metadata": {},
          "execution_count": 8
        },
        {
          "output_type": "display_data",
          "data": {
            "text/plain": [
              "<Figure size 432x288 with 1 Axes>"
            ],
            "image/png": "[encoded data removed]"
          },
          "metadata": {
            "needs_background": "light"
          }
        }
      ]
    },
    {
      "cell_type": "code",
      "source": [
        "dfClassificacao['PERCENTUAL'].hist()"
      ],
      "metadata": {
        "colab": {
          "base_uri": "https://localhost:8080/",
          "height": 282
        },
        "id": "BQWEh4K87S_Y",
        "outputId": "bc659677-c57c-4a3d-a351-09c690c4cea3"
      },
      "execution_count": null,
      "outputs": [
        {
          "output_type": "execute_result",
          "data": {
            "text/plain": [
              "<matplotlib.axes._subplots.AxesSubplot at 0x7f655a85dc70>"
            ]
          },
          "metadata": {},
          "execution_count": 9
        },
        {
          "output_type": "display_data",
          "data": {
            "text/plain": [
              "<Figure size 432x288 with 1 Axes>"
            ],
            "image/png": "[encoded data removed]"
          },
          "metadata": {
            "needs_background": "light"
          }
        }
      ]
    },
    {
      "cell_type": "code",
      "source": [
        "dfClassificacao.describe()"
      ],
      "metadata": {
        "colab": {
          "base_uri": "https://localhost:8080/",
          "height": 364
        },
        "id": "r-PxLgr79Aug",
        "outputId": "b8b2f450-0c11-4c9b-dfd6-3bf1936d3cd2"
      },
      "execution_count": null,
      "outputs": [
        {
          "output_type": "execute_result",
          "data": {
            "text/plain": [
              "            PILHA  COMPRIMENTO    TEMP_MIN    TEMP_MAX    TEMP_MED  \\\n",
              "count  502.000000   502.000000  502.000000  502.000000  502.000000   \n",
              "mean   380.834661     5.191633    6.353386   30.933068   17.668108   \n",
              "std    201.004887     0.380277    4.468436    6.301451    3.514570   \n",
              "min      1.000000     3.900000    1.900000   18.100000   11.640000   \n",
              "25%    209.250000     5.200000    3.300000   26.700000   14.965000   \n",
              "50%    381.500000     5.200000    5.400000   32.500000   17.395000   \n",
              "75%    556.750000     5.200000    8.600000   34.400000   20.377500   \n",
              "max    722.000000     6.000000   24.000000   39.400000   26.930000   \n",
              "\n",
              "          TEMP_PO  PRECIPITACAO     PATM_MED      UR_MIN      UR_MED  \\\n",
              "count  502.000000    502.000000   502.000000  502.000000  502.000000   \n",
              "mean    13.021813    230.048207  1015.596673   29.844622   75.807032   \n",
              "std      2.811104    204.907322     2.839966    9.870406    4.102414   \n",
              "min      6.380000      0.000000  1005.890000   21.000000   64.360000   \n",
              "25%     11.017500     41.400000  1013.885000   21.000000   71.902500   \n",
              "50%     12.805000    184.300000  1016.310000   26.000000   76.105000   \n",
              "75%     14.797500    392.200000  1016.920000   36.000000   79.260000   \n",
              "max     23.340000   1156.000000  1026.700000   70.000000   84.670000   \n",
              "\n",
              "        VENTO_MED  RAJ_MAX_MED    QTD_DIAS      TOT_ENTR      TOT_SAID  \\\n",
              "count  502.000000   502.000000  502.000000  5.020000e+02  5.020000e+02   \n",
              "mean     3.020159    10.148426   82.864542  2.955402e+05  2.608087e+05   \n",
              "std      0.423014     1.044224   70.283867  4.209043e+05  3.530809e+05   \n",
              "min      1.430000     5.700000    0.000000  1.144000e+04  3.030000e+03   \n",
              "25%      2.700000     9.480000   22.000000  1.312050e+05  1.127950e+05   \n",
              "50%      3.155000    10.440000   69.000000  2.329100e+05  2.047900e+05   \n",
              "75%      3.260000    10.660000  133.750000  3.658750e+05  3.268445e+05   \n",
              "max      4.630000    14.300000  425.000000  8.128820e+06  6.628260e+06   \n",
              "\n",
              "          DIFERENCA       ESTORNO  PERCENTUAL  \n",
              "count  5.020000e+02  5.020000e+02  502.000000  \n",
              "mean   3.473146e+04  3.217752e+04   11.404791  \n",
              "std    8.307838e+04  7.519074e+04   11.723297  \n",
              "min   -1.996000e+04  2.000000e+01    0.005657  \n",
              "25%    6.310000e+03  6.310000e+03    3.414372  \n",
              "50%    1.883000e+04  1.746000e+04    8.179170  \n",
              "75%    3.958000e+04  3.842550e+04   15.792322  \n",
              "max    1.500560e+06  1.500560e+06   91.583333  "
            ],
            "text/html": [
              "\n",
              "  <div id=\"df-8f1f8ce8-f7ce-4fa9-aeda-5d47f61c0f02\">\n",
              "    <div class=\"colab-df-container\">\n",
              "      <div>\n",
              "<style scoped>\n",
              "    .dataframe tbody tr th:only-of-type {\n",
              "        vertical-align: middle;\n",
              "    }\n",
              "\n",
              "    .dataframe tbody tr th {\n",
              "        vertical-align: top;\n",
              "    }\n",
              "\n",
              "    .dataframe thead th {\n",
              "        text-align: right;\n",
              "    }\n",
              "</style>\n",
              "<table border=\"1\" class=\"dataframe\">\n",
              "  <thead>\n",
              "    <tr style=\"text-align: right;\">\n",
              "      <th></th>\n",
              "      <th>PILHA</th>\n",
              "      <th>COMPRIMENTO</th>\n",
              "      <th>TEMP_MIN</th>\n",
              "      <th>TEMP_MAX</th>\n",
              "      <th>TEMP_MED</th>\n",
              "      <th>TEMP_PO</th>\n",
              "      <th>PRECIPITACAO</th>\n",
              "      <th>PATM_MED</th>\n",
              "      <th>UR_MIN</th>\n",
              "      <th>UR_MED</th>\n",
              "      <th>VENTO_MED</th>\n",
              "      <th>RAJ_MAX_MED</th>\n",
              "      <th>QTD_DIAS</th>\n",
              "      <th>TOT_ENTR</th>\n",
              "      <th>TOT_SAID</th>\n",
              "      <th>DIFERENCA</th>\n",
              "      <th>ESTORNO</th>\n",
              "      <th>PERCENTUAL</th>\n",
              "    </tr>\n",
              "  </thead>\n",
              "  <tbody>\n",
              "    <tr>\n",
              "      <th>count</th>\n",
              "      <td>502.000000</td>\n",
              "      <td>502.000000</td>\n",
              "      <td>502.000000</td>\n",
              "      <td>502.000000</td>\n",
              "      <td>502.000000</td>\n",
              "      <td>502.000000</td>\n",
              "      <td>502.000000</td>\n",
              "      <td>502.000000</td>\n",
              "      <td>502.000000</td>\n",
              "      <td>502.000000</td>\n",
              "      <td>502.000000</td>\n",
              "      <td>502.000000</td>\n",
              "      <td>502.000000</td>\n",
              "      <td>5.020000e+02</td>\n",
              "      <td>5.020000e+02</td>\n",
              "      <td>5.020000e+02</td>\n",
              "      <td>5.020000e+02</td>\n",
              "      <td>502.000000</td>\n",
              "    </tr>\n",
              "    <tr>\n",
              "      <th>mean</th>\n",
              "      <td>380.834661</td>\n",
              "      <td>5.191633</td>\n",
              "      <td>6.353386</td>\n",
              "      <td>30.933068</td>\n",
              "      <td>17.668108</td>\n",
              "      <td>13.021813</td>\n",
              "      <td>230.048207</td>\n",
              "      <td>1015.596673</td>\n",
              "      <td>29.844622</td>\n",
              "      <td>75.807032</td>\n",
              "      <td>3.020159</td>\n",
              "      <td>10.148426</td>\n",
              "      <td>82.864542</td>\n",
              "      <td>2.955402e+05</td>\n",
              "      <td>2.608087e+05</td>\n",
              "      <td>3.473146e+04</td>\n",
              "      <td>3.217752e+04</td>\n",
              "      <td>11.404791</td>\n",
              "    </tr>\n",
              "    <tr>\n",
              "      <th>std</th>\n",
              "      <td>201.004887</td>\n",
              "      <td>0.380277</td>\n",
              "      <td>4.468436</td>\n",
              "      <td>6.301451</td>\n",
              "      <td>3.514570</td>\n",
              "      <td>2.811104</td>\n",
              "      <td>204.907322</td>\n",
              "      <td>2.839966</td>\n",
              "      <td>9.870406</td>\n",
              "      <td>4.102414</td>\n",
              "      <td>0.423014</td>\n",
              "      <td>1.044224</td>\n",
              "      <td>70.283867</td>\n",
              "      <td>4.209043e+05</td>\n",
              "      <td>3.530809e+05</td>\n",
              "      <td>8.307838e+04</td>\n",
              "      <td>7.519074e+04</td>\n",
              "      <td>11.723297</td>\n",
              "    </tr>\n",
              "    <tr>\n",
              "      <th>min</th>\n",
              "      <td>1.000000</td>\n",
              "      <td>3.900000</td>\n",
              "      <td>1.900000</td>\n",
              "      <td>18.100000</td>\n",
              "      <td>11.640000</td>\n",
              "      <td>6.380000</td>\n",
              "      <td>0.000000</td>\n",
              "      <td>1005.890000</td>\n",
              "      <td>21.000000</td>\n",
              "      <td>64.360000</td>\n",
              "      <td>1.430000</td>\n",
              "      <td>5.700000</td>\n",
              "      <td>0.000000</td>\n",
              "      <td>1.144000e+04</td>\n",
              "      <td>3.030000e+03</td>\n",
              "      <td>-1.996000e+04</td>\n",
              "      <td>2.000000e+01</td>\n",
              "      <td>0.005657</td>\n",
              "    </tr>\n",
              "    <tr>\n",
              "      <th>25%</th>\n",
              "      <td>209.250000</td>\n",
              "      <td>5.200000</td>\n",
              "      <td>3.300000</td>\n",
              "      <td>26.700000</td>\n",
              "      <td>14.965000</td>\n",
              "      <td>11.017500</td>\n",
              "      <td>41.400000</td>\n",
              "      <td>1013.885000</td>\n",
              "      <td>21.000000</td>\n",
              "      <td>71.902500</td>\n",
              "      <td>2.700000</td>\n",
              "      <td>9.480000</td>\n",
              "      <td>22.000000</td>\n",
              "      <td>1.312050e+05</td>\n",
              "      <td>1.127950e+05</td>\n",
              "      <td>6.310000e+03</td>\n",
              "      <td>6.310000e+03</td>\n",
              "      <td>3.414372</td>\n",
              "    </tr>\n",
              "    <tr>\n",
              "      <th>50%</th>\n",
              "      <td>381.500000</td>\n",
              "      <td>5.200000</td>\n",
              "      <td>5.400000</td>\n",
              "      <td>32.500000</td>\n",
              "      <td>17.395000</td>\n",
              "      <td>12.805000</td>\n",
              "      <td>184.300000</td>\n",
              "      <td>1016.310000</td>\n",
              "      <td>26.000000</td>\n",
              "      <td>76.105000</td>\n",
              "      <td>3.155000</td>\n",
              "      <td>10.440000</td>\n",
              "      <td>69.000000</td>\n",
              "      <td>2.329100e+05</td>\n",
              "      <td>2.047900e+05</td>\n",
              "      <td>1.883000e+04</td>\n",
              "      <td>1.746000e+04</td>\n",
              "      <td>8.179170</td>\n",
              "    </tr>\n",
              "    <tr>\n",
              "      <th>75%</th>\n",
              "      <td>556.750000</td>\n",
              "      <td>5.200000</td>\n",
              "      <td>8.600000</td>\n",
              "      <td>34.400000</td>\n",
              "      <td>20.377500</td>\n",
              "      <td>14.797500</td>\n",
              "      <td>392.200000</td>\n",
              "      <td>1016.920000</td>\n",
              "      <td>36.000000</td>\n",
              "      <td>79.260000</td>\n",
              "      <td>3.260000</td>\n",
              "      <td>10.660000</td>\n",
              "      <td>133.750000</td>\n",
              "      <td>3.658750e+05</td>\n",
              "      <td>3.268445e+05</td>\n",
              "      <td>3.958000e+04</td>\n",
              "      <td>3.842550e+04</td>\n",
              "      <td>15.792322</td>\n",
              "    </tr>\n",
              "    <tr>\n",
              "      <th>max</th>\n",
              "      <td>722.000000</td>\n",
              "      <td>6.000000</td>\n",
              "      <td>24.000000</td>\n",
              "      <td>39.400000</td>\n",
              "      <td>26.930000</td>\n",
              "      <td>23.340000</td>\n",
              "      <td>1156.000000</td>\n",
              "      <td>1026.700000</td>\n",
              "      <td>70.000000</td>\n",
              "      <td>84.670000</td>\n",
              "      <td>4.630000</td>\n",
              "      <td>14.300000</td>\n",
              "      <td>425.000000</td>\n",
              "      <td>8.128820e+06</td>\n",
              "      <td>6.628260e+06</td>\n",
              "      <td>1.500560e+06</td>\n",
              "      <td>1.500560e+06</td>\n",
              "      <td>91.583333</td>\n",
              "    </tr>\n",
              "  </tbody>\n",
              "</table>\n",
              "</div>\n",
              "      <button class=\"colab-df-convert\" onclick=\"convertToInteractive('df-8f1f8ce8-f7ce-4fa9-aeda-5d47f61c0f02')\"\n",
              "              title=\"Convert this dataframe to an interactive table.\"\n",
              "              style=\"display:none;\">\n",
              "        \n",
              "  <svg xmlns=\"http://www.w3.org/2000/svg\" height=\"24px\"viewBox=\"0 0 24 24\"\n",
              "       width=\"24px\">\n",
              "    <path d=\"M0 0h24v24H0V0z\" fill=\"none\"/>\n",
              "    <path d=\"M18.56 5.44l.94 2.06.94-2.06 2.06-.94-2.06-.94-.94-2.06-.94 2.06-2.06.94zm-11 1L8.5 8.5l.94-2.06 2.06-.94-2.06-.94L8.5 2.5l-.94 2.06-2.06.94zm10 10l.94 2.06.94-2.06 2.06-.94-2.06-.94-.94-2.06-.94 2.06-2.06.94z\"/><path d=\"M17.41 7.96l-1.37-1.37c-.4-.4-.92-.59-1.43-.59-.52 0-1.04.2-1.43.59L10.3 9.45l-7.72 7.72c-.78.78-.78 2.05 0 2.83L4 21.41c.39.39.9.59 1.41.59.51 0 1.02-.2 1.41-.59l7.78-7.78 2.81-2.81c.8-.78.8-2.07 0-2.86zM5.41 20L4 18.59l7.72-7.72 1.47 1.35L5.41 20z\"/>\n",
              "  </svg>\n",
              "      </button>\n",
              "      \n",
              "  <style>\n",
              "    .colab-df-container {\n",
              "      display:flex;\n",
              "      flex-wrap:wrap;\n",
              "      gap: 12px;\n",
              "    }\n",
              "\n",
              "    .colab-df-convert {\n",
              "      background-color: #E8F0FE;\n",
              "      border: none;\n",
              "      border-radius: 50%;\n",
              "      cursor: pointer;\n",
              "      display: none;\n",
              "      fill: #1967D2;\n",
              "      height: 32px;\n",
              "      padding: 0 0 0 0;\n",
              "      width: 32px;\n",
              "    }\n",
              "\n",
              "    .colab-df-convert:hover {\n",
              "      background-color: #E2EBFA;\n",
              "      box-shadow: 0px 1px 2px rgba(60, 64, 67, 0.3), 0px 1px 3px 1px rgba(60, 64, 67, 0.15);\n",
              "      fill: #174EA6;\n",
              "    }\n",
              "\n",
              "    [theme=dark] .colab-df-convert {\n",
              "      background-color: #3B4455;\n",
              "      fill: #D2E3FC;\n",
              "    }\n",
              "\n",
              "    [theme=dark] .colab-df-convert:hover {\n",
              "      background-color: #434B5C;\n",
              "      box-shadow: 0px 1px 3px 1px rgba(0, 0, 0, 0.15);\n",
              "      filter: drop-shadow(0px 1px 2px rgba(0, 0, 0, 0.3));\n",
              "      fill: #FFFFFF;\n",
              "    }\n",
              "  </style>\n",
              "\n",
              "      <script>\n",
              "        const buttonEl =\n",
              "          document.querySelector('#df-8f1f8ce8-f7ce-4fa9-aeda-5d47f61c0f02 button.colab-df-convert');\n",
              "        buttonEl.style.display =\n",
              "          google.colab.kernel.accessAllowed ? 'block' : 'none';\n",
              "\n",
              "        async function convertToInteractive(key) {\n",
              "          const element = document.querySelector('#df-8f1f8ce8-f7ce-4fa9-aeda-5d47f61c0f02');\n",
              "          const dataTable =\n",
              "            await google.colab.kernel.invokeFunction('convertToInteractive',\n",
              "                                                     [key], {});\n",
              "          if (!dataTable) return;\n",
              "\n",
              "          const docLinkHtml = 'Like what you see? Visit the ' +\n",
              "            '<a target=\"_blank\" href=https://colab.research.google.com/notebooks/data_table.ipynb>data table notebook</a>'\n",
              "            + ' to learn more about interactive tables.';\n",
              "          element.innerHTML = '';\n",
              "          dataTable['output_type'] = 'display_data';\n",
              "          await google.colab.output.renderOutput(dataTable, element);\n",
              "          const docLink = document.createElement('div');\n",
              "          docLink.innerHTML = docLinkHtml;\n",
              "          element.appendChild(docLink);\n",
              "        }\n",
              "      </script>\n",
              "    </div>\n",
              "  </div>\n",
              "  "
            ]
          },
          "metadata": {},
          "execution_count": 51
        }
      ]
    },
    {
      "cell_type": "markdown",
      "source": [
        "Em uma breve análise, percebe-se que existem possíveis erros operacionais que podem gerar ruído no modelo de classificação, permitindo que sejam considerados outliers. Um exemplo claro é o percentual de perda. Existem percentuais que tendem a 100%, o que não ocorre neste processo; também existem percentuais que tendem a 0% - mesma situação.\n",
        "\n",
        "Então, vamos retirar as instâncias com perdas acima de 40%."
      ],
      "metadata": {
        "id": "k3dSCowT9S74"
      }
    },
    {
      "cell_type": "code",
      "source": [
        "dfClassificacao = dfClassificacao.drop(dfClassificacao[dados['PERCENTUAL'] >= 40].index)"
      ],
      "metadata": {
        "id": "eVxEJTPL9zoL"
      },
      "execution_count": null,
      "outputs": []
    },
    {
      "cell_type": "markdown",
      "source": [
        "Após, vamos verificar novamente através do *boxplot*."
      ],
      "metadata": {
        "id": "CpxYef71-EaQ"
      }
    },
    {
      "cell_type": "code",
      "source": [
        "dfClassificacao.boxplot(column =['PERCENTUAL'], grid = True)"
      ],
      "metadata": {
        "id": "ETCKYU_c-J9j"
      },
      "execution_count": null,
      "outputs": []
    },
    {
      "cell_type": "markdown",
      "source": [
        "Agora podemos retornar à criação do atributo *INTERVALOPERDA*, estabelecendo diferentes intervalos de percentuais de perda:\n",
        "\n",
        "DESCRIÇÃO | INTERVALO\n",
        "--- | ---\n",
        "1 | menos de 10%\n",
        "2 | entre 10% e 20%\n",
        "3 | entre 20% e 30%\n",
        "4 | mais de 30%"
      ],
      "metadata": {
        "id": "OMoSmpiQ-Xwc"
      }
    },
    {
      "cell_type": "code",
      "source": [
        "for i, linha in dfClassificacao.iterrows():\n",
        "  if (linha['PERCENTUAL'] <= 10):\n",
        "    dfClassificacao.loc[i, 'INTERVALOPERDA'] = 1;\n",
        "  elif ((linha['PERCENTUAL'] > 10) and (linha['PERCENTUAL'] <= 20)):\n",
        "    dfClassificacao.loc[i, 'INTERVALOPERDA'] = 2;\n",
        "  elif ((linha['PERCENTUAL'] > 20) and (linha['PERCENTUAL'] <= 30)):\n",
        "    dfClassificacao.loc[i, 'INTERVALOPERDA'] = 3;\n",
        "  else:\n",
        "    dfClassificacao.loc[i, 'INTERVALOPERDA'] = 4;"
      ],
      "metadata": {
        "id": "1_scqdvP_rZP"
      },
      "execution_count": null,
      "outputs": []
    },
    {
      "cell_type": "markdown",
      "source": [
        "Criada a nossa classe (target), vamos remover os atributos que não serão importantes para a criação dos modelos de aprendizado - mais especificamente, da classificação. Nesse sentido, vamos remover a identificação da pilha (*PILHA*), as datas (*DATA_INICIO* e *DATA_FIM*, o peso de saída (*TOT_SAID*), a diferença entre os totais de entrada e saída (*DIFERENCA*), a quantidade estornada (*ESTORNO*) e o percentual (*PERCENTUAL*).\n",
        "\n",
        "Assim, tornamos claro que a classe que se deseja predizer é o *INTERVALOPERDA*, recém criado, que contém o intervalo (em percentual) de perda de peso da madeira."
      ],
      "metadata": {
        "id": "kJo0hEjXUU3u"
      }
    },
    {
      "cell_type": "code",
      "source": [
        "dfClassificacao = dfClassificacao.drop([\"PILHA\", \"DATA_INICIO\", \"DATA_FIM\", \"TOT_SAID\", \"DIFERENCA\", \"ESTORNO\", \"PERCENTUAL\"], axis=1)"
      ],
      "metadata": {
        "id": "ln9OmaUNUyfG"
      },
      "execution_count": null,
      "outputs": []
    },
    {
      "cell_type": "markdown",
      "source": [
        "Depois de criado o atributo (classe) que será nosso target, e removidos os atributos que não serão preditores dos nossos modelos, vamos verificar o balanceamento do dataset."
      ],
      "metadata": {
        "id": "nDWfMrp2pE2-"
      }
    },
    {
      "cell_type": "code",
      "source": [
        "print(dfClassificacao['INTERVALOPERDA'].value_counts())"
      ],
      "metadata": {
        "id": "zHOCrgJPpllu"
      },
      "execution_count": null,
      "outputs": []
    },
    {
      "cell_type": "markdown",
      "source": [
        "Podemos claramente observar que o maior número de instâncias está representado nas classes 1 e 2, ou seja, a grande maioria das pilhas presentes no dataset possui uma perda de peso (em razão da perda do teor de umidade) menor do que 20%.\n",
        "\n",
        "Vamos verificar a integridade destes dados, analisando as perdas de umidade das pilhas em relação com a quantidade de dias em que as toras permaneceram armazenadas nas pilhas.\n",
        "\n"
      ],
      "metadata": {
        "id": "BMzbjanopy55"
      }
    },
    {
      "cell_type": "code",
      "source": [
        "print(dfClassificacao['QTD_DIAS'].describe())"
      ],
      "metadata": {
        "id": "e7X6S35iqHZu"
      },
      "execution_count": null,
      "outputs": []
    },
    {
      "cell_type": "markdown",
      "source": [
        "Considerando, então, que em se tratando de perda do teor de umidade em madeira armazenada ao ar-livre (*natural drying*) 20% é um percentual pequeno, pode-se depreender facilmente que estas toras, em razão da grande quantidade de dias média de vida das pilhas (81 dias), já haviam sido cortadas há mais tempo."
      ],
      "metadata": {
        "id": "0qZGUL4sqaNr"
      }
    },
    {
      "cell_type": "markdown",
      "source": [
        "Como existem atributos preditores não-numéricos, precisamos tratá-los, transformando em atributos numéricos para que possamos prosseguir com o treinamento dos modelos de aprendizado (no Weka, no R e em outros ambientes/linguagens, esta transformação não se faz necessária, mas é preciso analisar possíveis diferenças no resultado da predição).\n",
        "\n",
        "Vamos fazer o *one-hot-encoding* para os atributos categóricos que não possuem qualquer necessidade de ordenação, como produto, casca e espécie."
      ],
      "metadata": {
        "id": "iQrV5sGVIY5k"
      }
    },
    {
      "cell_type": "code",
      "source": [
        "atributos_a_codificar = ['PRODUTO', 'CASCA', 'ESPECIE', 'DIAMETRO']\n",
        "\n",
        "atributos_codificados = pandas.get_dummies(dfClassificacao[atributos_a_codificar])\n",
        "\n",
        "dfClassificacao = dfClassificacao.drop(atributos_a_codificar, axis=1).join(atributos_codificados)"
      ],
      "metadata": {
        "id": "ybIpFNznJGrp"
      },
      "execution_count": null,
      "outputs": []
    },
    {
      "cell_type": "markdown",
      "source": [
        "O dataset ainda não foi particionado, e a tendência é que as partições reproduzam o comportamento geral do dataset. Então, vamos particioná-lo antes de resolver o problema do desbalanceamento das classes."
      ],
      "metadata": {
        "id": "IZXhmAHDWgjO"
      }
    },
    {
      "cell_type": "code",
      "source": [
        "dados_treino, dados_teste, classe_treino, classe_teste = createDataPartition(dfClassificacao, dfClassificacao['INTERVALOPERDA'], test_size=0.25)\n"
      ],
      "metadata": {
        "id": "_KD4JvGPqk-s"
      },
      "execution_count": null,
      "outputs": []
    },
    {
      "cell_type": "code",
      "source": [
        "#classe_teste.head(10)"
      ],
      "metadata": {
        "id": "TkqTPrH5sTgO"
      },
      "execution_count": null,
      "outputs": []
    },
    {
      "cell_type": "markdown",
      "source": [
        "Sendo assim, podemos proceder com o treinamento dos modelos. Agora, temos o dataset particionado e já enviesado para o aprendizado supervisionado - classificação. Vamos, então, instanciar o modelo de classificação utilizando o algoritmo *Random Forest* (RF)."
      ],
      "metadata": {
        "id": "QLHaGszRto8n"
      }
    },
    {
      "cell_type": "code",
      "source": [
        "rf = RandomForestClassifier()"
      ],
      "metadata": {
        "id": "8WDlsvYauHDM"
      },
      "execution_count": null,
      "outputs": []
    },
    {
      "cell_type": "markdown",
      "source": [
        "Instanciado o modelo, é momento de treinar o modelo de classificação utilizando o algoritmo *Random Forest* (RF)."
      ],
      "metadata": {
        "id": "DMALP5sEp3L_"
      }
    },
    {
      "cell_type": "code",
      "source": [
        "rf.fit(dados_treino, classe_treino)"
      ],
      "metadata": {
        "id": "_bwCUeJ-uTOb",
        "colab": {
          "base_uri": "https://localhost:8080/"
        },
        "outputId": "d5600657-427b-4e8a-e23c-e0928fff9fec"
      },
      "execution_count": null,
      "outputs": [
        {
          "output_type": "execute_result",
          "data": {
            "text/plain": [
              "RandomForestClassifier()"
            ]
          },
          "metadata": {},
          "execution_count": 19
        }
      ]
    },
    {
      "cell_type": "markdown",
      "source": [
        "Estando o modelo treinado (utilizando tanto os dados de treino quanto a classe de treino), o próximo passo é verificar as predições, ou seja, o quê de fato o modelo criado foi capaz de aprender com os dados dispostos."
      ],
      "metadata": {
        "id": "0G50JebvqEJo"
      }
    },
    {
      "cell_type": "code",
      "source": [
        "predicoes = rf.predict(dados_teste)"
      ],
      "metadata": {
        "id": "I2ww95NPjJa9"
      },
      "execution_count": null,
      "outputs": []
    },
    {
      "cell_type": "markdown",
      "source": [
        "Guardadas as predições em uma variável, vamos verificar através de uma matriz de confusão os resultados das predições do modelo de aprendizado utilizando classificação com RF."
      ],
      "metadata": {
        "id": "Txiint5_qXso"
      }
    },
    {
      "cell_type": "code",
      "source": [
        "cm = confusion_matrix(classe_teste, predicoes)\n",
        "\n",
        "cm"
      ],
      "metadata": {
        "colab": {
          "base_uri": "https://localhost:8080/"
        },
        "id": "JSuYLsagqiKy",
        "outputId": "f4dc9c57-09ef-4e1c-df26-ffe68b3cce52"
      },
      "execution_count": null,
      "outputs": [
        {
          "output_type": "execute_result",
          "data": {
            "text/plain": [
              "array([[70,  0,  0,  0],\n",
              "       [ 0, 37,  0,  0],\n",
              "       [ 0,  3,  5,  0],\n",
              "       [ 0,  1,  6,  0]])"
            ]
          },
          "metadata": {},
          "execution_count": 23
        }
      ]
    },
    {
      "cell_type": "markdown",
      "source": [
        "Observando a matriz de confusão acima, pode-se observar a assertividade do método escolhido. Mas precisamos tornar a informação mais clara. Para isso, vamos utilizar algumas métricas, começando pela acurácia do modelo, ou seja, o quanto, em percentual, que o modelo é capaz de acertar suas predições (sempre com base nos dados que o modelo teve à disposição)."
      ],
      "metadata": {
        "id": "wp0Br_bxqphs"
      }
    },
    {
      "cell_type": "code",
      "source": [
        "print(\"Acurácia:\", metrics.accuracy_score(classe_teste, predicoes))"
      ],
      "metadata": {
        "colab": {
          "base_uri": "https://localhost:8080/"
        },
        "id": "UXnGx-baqmpG",
        "outputId": "57357762-1162-4404-d8e7-ab54e8d50801"
      },
      "execution_count": null,
      "outputs": [
        {
          "output_type": "stream",
          "name": "stdout",
          "text": [
            "Acurácia: 0.9180327868852459\n"
          ]
        }
      ]
    },
    {
      "cell_type": "markdown",
      "source": [
        "É importante ter em mente que, por mais que a acurácia seja a proporção de predições corretas em relação ao total de predições, ela é uma métrica simples, ou seja, nem sempre pode ser a métrica a mais adequada - especialmente em conjuntos de dados desbalanceados."
      ],
      "metadata": {
        "id": "r9vOjejZsfXz"
      }
    },
    {
      "cell_type": "code",
      "source": [
        "# Calcule a importância das features\n",
        "importance = rf.feature_importances_\n",
        "\n",
        "importance\n",
        "\n",
        "# Crie um gráfico para visualizar a importância das features\n",
        "matplot.barh(dados_teste.columns, importance)\n",
        "#matplot.xlabel('Importância da Feature')\n",
        "#matplot.ylabel('Feature')\n",
        "#matplot.title('Importância das Features no Modelo Random Forest')\n",
        "\n",
        "# Mostre o gráfico\n",
        "#matplot.show()"
      ],
      "metadata": {
        "colab": {
          "base_uri": "https://localhost:8080/",
          "height": 282
        },
        "id": "LphM_zYtvFOF",
        "outputId": "a4377df3-b536-4df4-ce8e-2e372c22673f"
      },
      "execution_count": null,
      "outputs": [
        {
          "output_type": "execute_result",
          "data": {
            "text/plain": [
              "<BarContainer object of 32 artists>"
            ]
          },
          "metadata": {},
          "execution_count": 27
        },
        {
          "output_type": "display_data",
          "data": {
            "text/plain": [
              "<Figure size 432x288 with 1 Axes>"
            ],
            "image/png": "[encoded data removed]"
          },
          "metadata": {
            "needs_background": "light"
          }
        }
      ]
    }
  ]
}