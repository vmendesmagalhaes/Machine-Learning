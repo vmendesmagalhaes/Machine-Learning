{
  "nbformat": 4,
  "nbformat_minor": 0,
  "metadata": {
    "colab": {
      "provenance": [],
      "include_colab_link": true
    },
    "kernelspec": {
      "name": "python3",
      "display_name": "Python 3"
    },
    "language_info": {
      "name": "python"
    }
  },
  "cells": [
    {
      "cell_type": "markdown",
      "metadata": {
        "id": "view-in-github",
        "colab_type": "text"
      },
      "source": [
        "<a href=\"https://colab.research.google.com/github/vmendesmagalhaes/machine-learning/blob/main/Moisture_content_on_wood_prediction.ipynb\" target=\"_parent\"><img src=\"https://colab.research.google.com/assets/colab-badge.svg\" alt=\"Open In Colab\"/></a>"
      ]
    },
    {
      "cell_type": "markdown",
      "source": [
        "# Variation of moisture content on wood prediction\n",
        "\n",
        "**Author:** Vitor Mendes Magalhaes\n",
        "\n",
        "**Email:** vitor.mendes.magalhaes@gmail.com\n",
        "\n",
        "**Last review:** Fev/2023"
      ],
      "metadata": {
        "id": "9-10UdlcZ2sc"
      }
    },
    {
      "cell_type": "markdown",
      "source": [
        "Wood is the raw material for many manufactured goods. Charcoal, cellulose for the paper industry, laminated wood furniture, and even explosive products, such as gunpowder cotton, are possible destinations for the wood. On the other hand, the growing use of wood as a raw material has increased illegal deforestation and, as a direct consequence, it has changed the climate at a global level.\n",
        "\n",
        "Regardless of the destination that will be given to the wood logs, many products that have wood as raw material go through the same stage: the storage of logs in piles."
      ],
      "metadata": {
        "id": "fltjEcPTtOMq"
      }
    },
    {
      "cell_type": "markdown",
      "source": [
        "![](https://drive.google.com/uc?export=view&id=1cvJZKoJ-6OyJ74RzLriWSX6rShB2wi5N)"
      ],
      "metadata": {
        "id": "DZfvFULttbI2"
      }
    },
    {
      "cell_type": "markdown",
      "source": [
        "But as the storage time on piles passes, the moisture content on wood will reduce.\n",
        "\n",
        "The use of wood in production processes must be optimized to mitigate these adverse effects. One of the determining factors for this optimization is moisture content on wood, i.e., the ratio between the mass of water contained in the wood and dry wood mass.\n",
        "\n",
        "Here, we develop a Artificial Intelligence-based model - specifically using machine learning classification and regression methods - to predict the moisture content on wood, contributing to a better use of the wood in industry.\n",
        "\n",
        "Let's start by loading the necessary libraries for solving the present applied research problem."
      ],
      "metadata": {
        "id": "6k1KTRedtZId"
      }
    },
    {
      "cell_type": "code",
      "execution_count": 1,
      "metadata": {
        "id": "R0A8j7EeWB75"
      },
      "outputs": [],
      "source": [
        "import pandas as pandas\n",
        "import numpy as numpy\n",
        "from numpy import absolute\n",
        "from numpy import std\n",
        "from numpy import mean\n",
        "import matplotlib.pyplot as matplot\n",
        "import seaborn as seaborn\n",
        "from sklearn.model_selection import train_test_split as createDataPartition\n",
        "from sklearn import preprocessing\n",
        "from sklearn.preprocessing import LabelEncoder\n",
        "\n",
        "from sklearn.ensemble import RandomForestClassifier\n",
        "from sklearn.linear_model import LogisticRegression\n",
        "import tensorflow as TensorFlow\n",
        "\n",
        "from sklearn.model_selection import GridSearchCV, RandomizedSearchCV\n",
        "\n",
        "from sklearn.linear_model import Lasso\n",
        "from sklearn.model_selection import RepeatedKFold\n",
        "from sklearn.model_selection import cross_val_score\n",
        "from sklearn import metrics\n",
        "from sklearn.metrics import classification_report\n",
        "from sklearn.metrics import confusion_matrix"
      ]
    },
    {
      "cell_type": "markdown",
      "source": [
        "The next step is importing the spreadsheet (.XLS file) containing the data."
      ],
      "metadata": {
        "id": "VkYihumGjWdD"
      }
    },
    {
      "cell_type": "code",
      "source": [
        "dados = pandas.read_excel('datasetjan23.xls')"
      ],
      "metadata": {
        "id": "SbTwRtmBo9Qo"
      },
      "execution_count": 2,
      "outputs": []
    },
    {
      "cell_type": "markdown",
      "source": [
        "Now we have the data, let's start working on it.\n",
        "\n",
        "First, let's create a new attribute, called *PERCENTUAL*. It means the percentage of weight loss in relation to the total amount of incoming wood logs in each pile."
      ],
      "metadata": {
        "id": "LyrokgrApkA3"
      }
    },
    {
      "cell_type": "code",
      "source": [
        "dados['PERCENTUAL'] = (dados['ESTORNO'] * 100) / dados['TOT_ENTR']"
      ],
      "metadata": {
        "id": "bHyUJDmopxo-"
      },
      "execution_count": 3,
      "outputs": []
    },
    {
      "cell_type": "markdown",
      "source": [
        "After creating the new attribute, we will remove the instances of piles that didn't have log outputs (in theory, if they do not represent an operational error, these piles continued to receive loads of wood, or were not yet closed, at the time of data capture).\n",
        "\n",
        "We will also remove instances of piles that have not had reversed charges, that is, that in theory there was no loss of moisture. In the case of wood logs stored outdoors (technically, it is called \"natural drying\"), under the conditions of the captured data, there will always be moisture loss."
      ],
      "metadata": {
        "id": "uNpS1ChEr1SV"
      }
    },
    {
      "cell_type": "code",
      "source": [
        "dados.drop(dados[dados['TOT_SAID'] == 0].index, inplace=True)\n",
        "dados.drop(dados[dados['ESTORNO'] == 0].index, inplace=True)"
      ],
      "metadata": {
        "id": "uIiqzQgCr8ug"
      },
      "execution_count": 4,
      "outputs": []
    },
    {
      "cell_type": "markdown",
      "source": [
        "After removing the instances, let's create copies of the original dataset, which will be used to train different problem solving models using supervised learning: classification models (for different classes) and regression models."
      ],
      "metadata": {
        "id": "EDiAvLNw39VX"
      }
    },
    {
      "cell_type": "code",
      "source": [
        "dfClassificacao = dados\n",
        "dfRegressao = dados"
      ],
      "metadata": {
        "id": "hIL7O7x74Sqj"
      },
      "execution_count": 5,
      "outputs": []
    },
    {
      "cell_type": "markdown",
      "source": [
        "Now, let's start the pre-processing step, removing the attributes that are not interesting for creating the learning models to be applied.\n",
        "\n",
        "Once this is done, we will continue pre-processing the data, now with a selection of features, removing attributes and biasing the data to conform to the type of supervised learning they propose.\n",
        "\n",
        "To create the regression model, we will remove the stack identification (*PILHA*), the total outputs (*TOT_SAID*), the difference between the input and output (*DIFERENCA*), the dates (*DATA_INICIO* and *DATA_FIM*) and the amount reversed (*ESTORNO*).\n",
        "\n",
        "Thus, we make it clear that the class we want to predict is the *PERCENTUAL* of weight loss relative to the total wood input in the pile."
      ],
      "metadata": {
        "id": "9w4ZJM9v4Xgb"
      }
    },
    {
      "cell_type": "code",
      "source": [
        "dfRegressao = dfRegressao.drop([\"PILHA\", \"TOT_SAID\", \"DIFERENCA\", \"DATA_INICIO\", \"DATA_FIM\", \"ESTORNO\"], axis=1)"
      ],
      "metadata": {
        "id": "6MUq60SD4rmu"
      },
      "execution_count": 6,
      "outputs": []
    },
    {
      "cell_type": "markdown",
      "source": [
        "For the creation of classification models, let's create a new attribute, called *INTERVALOPERDA*. Loss ranges are nothing more than weight loss percentage ranges, eg between 0% and 5% loss; between 5% and 10% loss, and so on, as far as the data allows.\n",
        "\n",
        "To define the best weight loss percentage ranges, we will first analyze visually, using three different visual analysis tools: a *boxplot*, a summary of the *PERCENTUAL* attribute (which will dictate the ranges), and a histogram with the frequency of instances with different percentages."
      ],
      "metadata": {
        "id": "XN6RdFXO5bu5"
      }
    },
    {
      "cell_type": "code",
      "source": [
        "dfClassificacao.boxplot(column =['PERCENTUAL'], grid = True)"
      ],
      "metadata": {
        "id": "SvRSax9A52bY",
        "colab": {
          "base_uri": "https://localhost:8080/",
          "height": 282
        },
        "outputId": "27d22891-93df-4216-f197-120eabea2259"
      },
      "execution_count": 7,
      "outputs": [
        {
          "output_type": "execute_result",
          "data": {
            "text/plain": [
              "<matplotlib.axes._subplots.AxesSubplot at 0x7fe89cdd9df0>"
            ]
          },
          "metadata": {},
          "execution_count": 7
        },
        {
          "output_type": "display_data",
          "data": {
            "text/plain": [
              "<Figure size 432x288 with 1 Axes>"
            ],
            "image/png": "[encoded data removed]"
          },
          "metadata": {
            "needs_background": "light"
          }
        }
      ]
    },
    {
      "cell_type": "code",
      "source": [
        "dfClassificacao['PERCENTUAL'].hist()"
      ],
      "metadata": {
        "id": "BQWEh4K87S_Y",
        "colab": {
          "base_uri": "https://localhost:8080/",
          "height": 282
        },
        "outputId": "7dae2c95-17f4-461d-dbf4-be508e6aaad4"
      },
      "execution_count": 8,
      "outputs": [
        {
          "output_type": "execute_result",
          "data": {
            "text/plain": [
              "<matplotlib.axes._subplots.AxesSubplot at 0x7fe89cf537c0>"
            ]
          },
          "metadata": {},
          "execution_count": 8
        },
        {
          "output_type": "display_data",
          "data": {
            "text/plain": [
              "<Figure size 432x288 with 1 Axes>"
            ],
            "image/png": "[encoded data removed]"
          },
          "metadata": {
            "needs_background": "light"
          }
        }
      ]
    },
    {
      "cell_type": "code",
      "source": [
        "dfClassificacao.describe()"
      ],
      "metadata": {
        "id": "r-PxLgr79Aug",
        "colab": {
          "base_uri": "https://localhost:8080/",
          "height": 364
        },
        "outputId": "d73b617c-f76d-40e7-afaf-bfd20f2e09fd"
      },
      "execution_count": 9,
      "outputs": [
        {
          "output_type": "execute_result",
          "data": {
            "text/plain": [
              "            PILHA  COMPRIMENTO    TEMP_MIN    TEMP_MAX    TEMP_MED  \\\n",
              "count  502.000000   502.000000  502.000000  502.000000  502.000000   \n",
              "mean   380.834661     5.191633    6.353386   30.933068   17.668108   \n",
              "std    201.004887     0.380277    4.468436    6.301451    3.514570   \n",
              "min      1.000000     3.900000    1.900000   18.100000   11.640000   \n",
              "25%    209.250000     5.200000    3.300000   26.700000   14.965000   \n",
              "50%    381.500000     5.200000    5.400000   32.500000   17.395000   \n",
              "75%    556.750000     5.200000    8.600000   34.400000   20.377500   \n",
              "max    722.000000     6.000000   24.000000   39.400000   26.930000   \n",
              "\n",
              "          TEMP_PO  PRECIPITACAO     PATM_MED      UR_MIN      UR_MED  \\\n",
              "count  502.000000    502.000000   502.000000  502.000000  502.000000   \n",
              "mean    13.021813    230.048207  1015.596673   29.844622   75.807032   \n",
              "std      2.811104    204.907322     2.839966    9.870406    4.102414   \n",
              "min      6.380000      0.000000  1005.890000   21.000000   64.360000   \n",
              "25%     11.017500     41.400000  1013.885000   21.000000   71.902500   \n",
              "50%     12.805000    184.300000  1016.310000   26.000000   76.105000   \n",
              "75%     14.797500    392.200000  1016.920000   36.000000   79.260000   \n",
              "max     23.340000   1156.000000  1026.700000   70.000000   84.670000   \n",
              "\n",
              "        VENTO_MED  RAJ_MAX_MED    QTD_DIAS      TOT_ENTR      TOT_SAID  \\\n",
              "count  502.000000   502.000000  502.000000  5.020000e+02  5.020000e+02   \n",
              "mean     3.020159    10.148426   82.864542  2.955402e+05  2.608087e+05   \n",
              "std      0.423014     1.044224   70.283867  4.209043e+05  3.530809e+05   \n",
              "min      1.430000     5.700000    0.000000  1.144000e+04  3.030000e+03   \n",
              "25%      2.700000     9.480000   22.000000  1.312050e+05  1.127950e+05   \n",
              "50%      3.155000    10.440000   69.000000  2.329100e+05  2.047900e+05   \n",
              "75%      3.260000    10.660000  133.750000  3.658750e+05  3.268445e+05   \n",
              "max      4.630000    14.300000  425.000000  8.128820e+06  6.628260e+06   \n",
              "\n",
              "          DIFERENCA       ESTORNO  PERCENTUAL  \n",
              "count  5.020000e+02  5.020000e+02  502.000000  \n",
              "mean   3.473146e+04  3.217752e+04   11.404791  \n",
              "std    8.307838e+04  7.519074e+04   11.723297  \n",
              "min   -1.996000e+04  2.000000e+01    0.005657  \n",
              "25%    6.310000e+03  6.310000e+03    3.414372  \n",
              "50%    1.883000e+04  1.746000e+04    8.179170  \n",
              "75%    3.958000e+04  3.842550e+04   15.792322  \n",
              "max    1.500560e+06  1.500560e+06   91.583333  "
            ],
            "text/html": [
              "\n",
              "  <div id=\"df-f9a7ad3e-fdc2-4cd5-a118-a15303f4d0c2\">\n",
              "    <div class=\"colab-df-container\">\n",
              "      <div>\n",
              "<style scoped>\n",
              "    .dataframe tbody tr th:only-of-type {\n",
              "        vertical-align: middle;\n",
              "    }\n",
              "\n",
              "    .dataframe tbody tr th {\n",
              "        vertical-align: top;\n",
              "    }\n",
              "\n",
              "    .dataframe thead th {\n",
              "        text-align: right;\n",
              "    }\n",
              "</style>\n",
              "<table border=\"1\" class=\"dataframe\">\n",
              "  <thead>\n",
              "    <tr style=\"text-align: right;\">\n",
              "      <th></th>\n",
              "      <th>PILHA</th>\n",
              "      <th>COMPRIMENTO</th>\n",
              "      <th>TEMP_MIN</th>\n",
              "      <th>TEMP_MAX</th>\n",
              "      <th>TEMP_MED</th>\n",
              "      <th>TEMP_PO</th>\n",
              "      <th>PRECIPITACAO</th>\n",
              "      <th>PATM_MED</th>\n",
              "      <th>UR_MIN</th>\n",
              "      <th>UR_MED</th>\n",
              "      <th>VENTO_MED</th>\n",
              "      <th>RAJ_MAX_MED</th>\n",
              "      <th>QTD_DIAS</th>\n",
              "      <th>TOT_ENTR</th>\n",
              "      <th>TOT_SAID</th>\n",
              "      <th>DIFERENCA</th>\n",
              "      <th>ESTORNO</th>\n",
              "      <th>PERCENTUAL</th>\n",
              "    </tr>\n",
              "  </thead>\n",
              "  <tbody>\n",
              "    <tr>\n",
              "      <th>count</th>\n",
              "      <td>502.000000</td>\n",
              "      <td>502.000000</td>\n",
              "      <td>502.000000</td>\n",
              "      <td>502.000000</td>\n",
              "      <td>502.000000</td>\n",
              "      <td>502.000000</td>\n",
              "      <td>502.000000</td>\n",
              "      <td>502.000000</td>\n",
              "      <td>502.000000</td>\n",
              "      <td>502.000000</td>\n",
              "      <td>502.000000</td>\n",
              "      <td>502.000000</td>\n",
              "      <td>502.000000</td>\n",
              "      <td>5.020000e+02</td>\n",
              "      <td>5.020000e+02</td>\n",
              "      <td>5.020000e+02</td>\n",
              "      <td>5.020000e+02</td>\n",
              "      <td>502.000000</td>\n",
              "    </tr>\n",
              "    <tr>\n",
              "      <th>mean</th>\n",
              "      <td>380.834661</td>\n",
              "      <td>5.191633</td>\n",
              "      <td>6.353386</td>\n",
              "      <td>30.933068</td>\n",
              "      <td>17.668108</td>\n",
              "      <td>13.021813</td>\n",
              "      <td>230.048207</td>\n",
              "      <td>1015.596673</td>\n",
              "      <td>29.844622</td>\n",
              "      <td>75.807032</td>\n",
              "      <td>3.020159</td>\n",
              "      <td>10.148426</td>\n",
              "      <td>82.864542</td>\n",
              "      <td>2.955402e+05</td>\n",
              "      <td>2.608087e+05</td>\n",
              "      <td>3.473146e+04</td>\n",
              "      <td>3.217752e+04</td>\n",
              "      <td>11.404791</td>\n",
              "    </tr>\n",
              "    <tr>\n",
              "      <th>std</th>\n",
              "      <td>201.004887</td>\n",
              "      <td>0.380277</td>\n",
              "      <td>4.468436</td>\n",
              "      <td>6.301451</td>\n",
              "      <td>3.514570</td>\n",
              "      <td>2.811104</td>\n",
              "      <td>204.907322</td>\n",
              "      <td>2.839966</td>\n",
              "      <td>9.870406</td>\n",
              "      <td>4.102414</td>\n",
              "      <td>0.423014</td>\n",
              "      <td>1.044224</td>\n",
              "      <td>70.283867</td>\n",
              "      <td>4.209043e+05</td>\n",
              "      <td>3.530809e+05</td>\n",
              "      <td>8.307838e+04</td>\n",
              "      <td>7.519074e+04</td>\n",
              "      <td>11.723297</td>\n",
              "    </tr>\n",
              "    <tr>\n",
              "      <th>min</th>\n",
              "      <td>1.000000</td>\n",
              "      <td>3.900000</td>\n",
              "      <td>1.900000</td>\n",
              "      <td>18.100000</td>\n",
              "      <td>11.640000</td>\n",
              "      <td>6.380000</td>\n",
              "      <td>0.000000</td>\n",
              "      <td>1005.890000</td>\n",
              "      <td>21.000000</td>\n",
              "      <td>64.360000</td>\n",
              "      <td>1.430000</td>\n",
              "      <td>5.700000</td>\n",
              "      <td>0.000000</td>\n",
              "      <td>1.144000e+04</td>\n",
              "      <td>3.030000e+03</td>\n",
              "      <td>-1.996000e+04</td>\n",
              "      <td>2.000000e+01</td>\n",
              "      <td>0.005657</td>\n",
              "    </tr>\n",
              "    <tr>\n",
              "      <th>25%</th>\n",
              "      <td>209.250000</td>\n",
              "      <td>5.200000</td>\n",
              "      <td>3.300000</td>\n",
              "      <td>26.700000</td>\n",
              "      <td>14.965000</td>\n",
              "      <td>11.017500</td>\n",
              "      <td>41.400000</td>\n",
              "      <td>1013.885000</td>\n",
              "      <td>21.000000</td>\n",
              "      <td>71.902500</td>\n",
              "      <td>2.700000</td>\n",
              "      <td>9.480000</td>\n",
              "      <td>22.000000</td>\n",
              "      <td>1.312050e+05</td>\n",
              "      <td>1.127950e+05</td>\n",
              "      <td>6.310000e+03</td>\n",
              "      <td>6.310000e+03</td>\n",
              "      <td>3.414372</td>\n",
              "    </tr>\n",
              "    <tr>\n",
              "      <th>50%</th>\n",
              "      <td>381.500000</td>\n",
              "      <td>5.200000</td>\n",
              "      <td>5.400000</td>\n",
              "      <td>32.500000</td>\n",
              "      <td>17.395000</td>\n",
              "      <td>12.805000</td>\n",
              "      <td>184.300000</td>\n",
              "      <td>1016.310000</td>\n",
              "      <td>26.000000</td>\n",
              "      <td>76.105000</td>\n",
              "      <td>3.155000</td>\n",
              "      <td>10.440000</td>\n",
              "      <td>69.000000</td>\n",
              "      <td>2.329100e+05</td>\n",
              "      <td>2.047900e+05</td>\n",
              "      <td>1.883000e+04</td>\n",
              "      <td>1.746000e+04</td>\n",
              "      <td>8.179170</td>\n",
              "    </tr>\n",
              "    <tr>\n",
              "      <th>75%</th>\n",
              "      <td>556.750000</td>\n",
              "      <td>5.200000</td>\n",
              "      <td>8.600000</td>\n",
              "      <td>34.400000</td>\n",
              "      <td>20.377500</td>\n",
              "      <td>14.797500</td>\n",
              "      <td>392.200000</td>\n",
              "      <td>1016.920000</td>\n",
              "      <td>36.000000</td>\n",
              "      <td>79.260000</td>\n",
              "      <td>3.260000</td>\n",
              "      <td>10.660000</td>\n",
              "      <td>133.750000</td>\n",
              "      <td>3.658750e+05</td>\n",
              "      <td>3.268445e+05</td>\n",
              "      <td>3.958000e+04</td>\n",
              "      <td>3.842550e+04</td>\n",
              "      <td>15.792322</td>\n",
              "    </tr>\n",
              "    <tr>\n",
              "      <th>max</th>\n",
              "      <td>722.000000</td>\n",
              "      <td>6.000000</td>\n",
              "      <td>24.000000</td>\n",
              "      <td>39.400000</td>\n",
              "      <td>26.930000</td>\n",
              "      <td>23.340000</td>\n",
              "      <td>1156.000000</td>\n",
              "      <td>1026.700000</td>\n",
              "      <td>70.000000</td>\n",
              "      <td>84.670000</td>\n",
              "      <td>4.630000</td>\n",
              "      <td>14.300000</td>\n",
              "      <td>425.000000</td>\n",
              "      <td>8.128820e+06</td>\n",
              "      <td>6.628260e+06</td>\n",
              "      <td>1.500560e+06</td>\n",
              "      <td>1.500560e+06</td>\n",
              "      <td>91.583333</td>\n",
              "    </tr>\n",
              "  </tbody>\n",
              "</table>\n",
              "</div>\n",
              "      <button class=\"colab-df-convert\" onclick=\"convertToInteractive('df-f9a7ad3e-fdc2-4cd5-a118-a15303f4d0c2')\"\n",
              "              title=\"Convert this dataframe to an interactive table.\"\n",
              "              style=\"display:none;\">\n",
              "        \n",
              "  <svg xmlns=\"http://www.w3.org/2000/svg\" height=\"24px\"viewBox=\"0 0 24 24\"\n",
              "       width=\"24px\">\n",
              "    <path d=\"M0 0h24v24H0V0z\" fill=\"none\"/>\n",
              "    <path d=\"M18.56 5.44l.94 2.06.94-2.06 2.06-.94-2.06-.94-.94-2.06-.94 2.06-2.06.94zm-11 1L8.5 8.5l.94-2.06 2.06-.94-2.06-.94L8.5 2.5l-.94 2.06-2.06.94zm10 10l.94 2.06.94-2.06 2.06-.94-2.06-.94-.94-2.06-.94 2.06-2.06.94z\"/><path d=\"M17.41 7.96l-1.37-1.37c-.4-.4-.92-.59-1.43-.59-.52 0-1.04.2-1.43.59L10.3 9.45l-7.72 7.72c-.78.78-.78 2.05 0 2.83L4 21.41c.39.39.9.59 1.41.59.51 0 1.02-.2 1.41-.59l7.78-7.78 2.81-2.81c.8-.78.8-2.07 0-2.86zM5.41 20L4 18.59l7.72-7.72 1.47 1.35L5.41 20z\"/>\n",
              "  </svg>\n",
              "      </button>\n",
              "      \n",
              "  <style>\n",
              "    .colab-df-container {\n",
              "      display:flex;\n",
              "      flex-wrap:wrap;\n",
              "      gap: 12px;\n",
              "    }\n",
              "\n",
              "    .colab-df-convert {\n",
              "      background-color: #E8F0FE;\n",
              "      border: none;\n",
              "      border-radius: 50%;\n",
              "      cursor: pointer;\n",
              "      display: none;\n",
              "      fill: #1967D2;\n",
              "      height: 32px;\n",
              "      padding: 0 0 0 0;\n",
              "      width: 32px;\n",
              "    }\n",
              "\n",
              "    .colab-df-convert:hover {\n",
              "      background-color: #E2EBFA;\n",
              "      box-shadow: 0px 1px 2px rgba(60, 64, 67, 0.3), 0px 1px 3px 1px rgba(60, 64, 67, 0.15);\n",
              "      fill: #174EA6;\n",
              "    }\n",
              "\n",
              "    [theme=dark] .colab-df-convert {\n",
              "      background-color: #3B4455;\n",
              "      fill: #D2E3FC;\n",
              "    }\n",
              "\n",
              "    [theme=dark] .colab-df-convert:hover {\n",
              "      background-color: #434B5C;\n",
              "      box-shadow: 0px 1px 3px 1px rgba(0, 0, 0, 0.15);\n",
              "      filter: drop-shadow(0px 1px 2px rgba(0, 0, 0, 0.3));\n",
              "      fill: #FFFFFF;\n",
              "    }\n",
              "  </style>\n",
              "\n",
              "      <script>\n",
              "        const buttonEl =\n",
              "          document.querySelector('#df-f9a7ad3e-fdc2-4cd5-a118-a15303f4d0c2 button.colab-df-convert');\n",
              "        buttonEl.style.display =\n",
              "          google.colab.kernel.accessAllowed ? 'block' : 'none';\n",
              "\n",
              "        async function convertToInteractive(key) {\n",
              "          const element = document.querySelector('#df-f9a7ad3e-fdc2-4cd5-a118-a15303f4d0c2');\n",
              "          const dataTable =\n",
              "            await google.colab.kernel.invokeFunction('convertToInteractive',\n",
              "                                                     [key], {});\n",
              "          if (!dataTable) return;\n",
              "\n",
              "          const docLinkHtml = 'Like what you see? Visit the ' +\n",
              "            '<a target=\"_blank\" href=https://colab.research.google.com/notebooks/data_table.ipynb>data table notebook</a>'\n",
              "            + ' to learn more about interactive tables.';\n",
              "          element.innerHTML = '';\n",
              "          dataTable['output_type'] = 'display_data';\n",
              "          await google.colab.output.renderOutput(dataTable, element);\n",
              "          const docLink = document.createElement('div');\n",
              "          docLink.innerHTML = docLinkHtml;\n",
              "          element.appendChild(docLink);\n",
              "        }\n",
              "      </script>\n",
              "    </div>\n",
              "  </div>\n",
              "  "
            ]
          },
          "metadata": {},
          "execution_count": 9
        }
      ]
    },
    {
      "cell_type": "markdown",
      "source": [
        "In a brief analysis, it is noticed that there are possible operational errors that can generate noise in the classification model, allowing them to be considered outliers.\n",
        "\n",
        "A clear example is the loss percentage. There are percentages that tend to 100%, which does not occur in this process; there are also percentages that tend to 0% - same situation.\n",
        "\n",
        "So let's remove the instances with losses above 40%."
      ],
      "metadata": {
        "id": "k3dSCowT9S74"
      }
    },
    {
      "cell_type": "code",
      "source": [
        "dfClassificacao = dfClassificacao.drop(dfClassificacao[dados['PERCENTUAL'] >= 40].index)"
      ],
      "metadata": {
        "id": "eVxEJTPL9zoL"
      },
      "execution_count": 10,
      "outputs": []
    },
    {
      "cell_type": "markdown",
      "source": [
        "Afterwards, let's check again through the *boxplot*."
      ],
      "metadata": {
        "id": "CpxYef71-EaQ"
      }
    },
    {
      "cell_type": "code",
      "source": [
        "dfClassificacao.boxplot(column =['PERCENTUAL'], grid = True)"
      ],
      "metadata": {
        "id": "ETCKYU_c-J9j",
        "colab": {
          "base_uri": "https://localhost:8080/",
          "height": 282
        },
        "outputId": "c52f653e-0b44-4e71-ef81-53e67a3614c0"
      },
      "execution_count": 11,
      "outputs": [
        {
          "output_type": "execute_result",
          "data": {
            "text/plain": [
              "<matplotlib.axes._subplots.AxesSubplot at 0x7fe89cf28fd0>"
            ]
          },
          "metadata": {},
          "execution_count": 11
        },
        {
          "output_type": "display_data",
          "data": {
            "text/plain": [
              "<Figure size 432x288 with 1 Axes>"
            ],
            "image/png": "[encoded data removed]"
          },
          "metadata": {
            "needs_background": "light"
          }
        }
      ]
    },
    {
      "cell_type": "markdown",
      "source": [
        "Now we can return to the creation of the attribute *INTERVALOPERDA*, establishing different intervals of loss percentages:\n",
        "\n",
        "CLASS | INTERVAL\n",
        "--- | ---\n",
        "1 | less than 10%\n",
        "2 | between 10% and 20%\n",
        "3 | between 20% and 30%\n",
        "4 | more than 30%"
      ],
      "metadata": {
        "id": "OMoSmpiQ-Xwc"
      }
    },
    {
      "cell_type": "code",
      "source": [
        "for i, linha in dfClassificacao.iterrows():\n",
        "  if (linha['PERCENTUAL'] <= 10):\n",
        "    dfClassificacao.loc[i, 'INTERVALOPERDA'] = 1;\n",
        "  elif ((linha['PERCENTUAL'] > 10) and (linha['PERCENTUAL'] <= 20)):\n",
        "    dfClassificacao.loc[i, 'INTERVALOPERDA'] = 2;\n",
        "  elif ((linha['PERCENTUAL'] > 20) and (linha['PERCENTUAL'] <= 30)):\n",
        "    dfClassificacao.loc[i, 'INTERVALOPERDA'] = 3;\n",
        "  else:\n",
        "    dfClassificacao.loc[i, 'INTERVALOPERDA'] = 4;"
      ],
      "metadata": {
        "id": "1_scqdvP_rZP"
      },
      "execution_count": 12,
      "outputs": []
    },
    {
      "cell_type": "code",
      "source": [
        "#seaborn.pairplot(dfClassificacao)"
      ],
      "metadata": {
        "id": "T9oIR2FEnXcA"
      },
      "execution_count": null,
      "outputs": []
    },
    {
      "cell_type": "markdown",
      "source": [
        "Once the *INTERVALOPERDA* attribute is created, let's remove the attributes that will not be important for the creation of the learning models - more specifically, the classification.\n",
        "\n",
        "In this sense, we will remove the stack identification (*PILHA*), the dates (*DATA_INICIO* and *DATA_FIM*, the output weight (*TOT_SAID*), the difference between the input and output totals (*DIFERENCA*) , the amount reversed (*ESTORNO*) and the percentage (*PERCENTUAL*).\n",
        "\n",
        "Thus, we make it clear that the class we want to predict is the *INTERVALOPERDA*, just created, which contains the interval (in percentage) of wood weight loss."
      ],
      "metadata": {
        "id": "kJo0hEjXUU3u"
      }
    },
    {
      "cell_type": "code",
      "source": [
        "dfClassificacao = dfClassificacao.drop([\"PILHA\", \"DATA_INICIO\", \"DATA_FIM\", \"TOT_SAID\", \"DIFERENCA\", \"ESTORNO\", \"PERCENTUAL\"], axis=1)"
      ],
      "metadata": {
        "id": "ln9OmaUNUyfG"
      },
      "execution_count": 13,
      "outputs": []
    },
    {
      "cell_type": "markdown",
      "source": [
        "After creating the attribute (class) that will be our target, and removing the attributes that will not be predictors of our models, we will check the balance of the dataset."
      ],
      "metadata": {
        "id": "nDWfMrp2pE2-"
      }
    },
    {
      "cell_type": "code",
      "source": [
        "print(dfClassificacao['INTERVALOPERDA'].value_counts())"
      ],
      "metadata": {
        "id": "zHOCrgJPpllu",
        "colab": {
          "base_uri": "https://localhost:8080/"
        },
        "outputId": "d8a8192d-283a-4443-ab4e-3cc7e2f3fb2e"
      },
      "execution_count": 14,
      "outputs": [
        {
          "output_type": "stream",
          "name": "stdout",
          "text": [
            "1.0    288\n",
            "2.0    142\n",
            "3.0     43\n",
            "4.0     14\n",
            "Name: INTERVALOPERDA, dtype: int64\n"
          ]
        }
      ]
    },
    {
      "cell_type": "markdown",
      "source": [
        "We can clearly observe that the largest number of instances is represented in classes 1 and 2, that is, the vast majority of the piles present in the dataset have a weight loss (due to the loss of moisture content) of less than 20%.\n",
        "\n",
        "We will verify the integrity of these data, analyzing the moisture losses from the piles in relation to the number of days that the logs remained stored (in the same piles)."
      ],
      "metadata": {
        "id": "BMzbjanopy55"
      }
    },
    {
      "cell_type": "code",
      "source": [
        "print(dfClassificacao['QTD_DIAS'].describe())"
      ],
      "metadata": {
        "id": "e7X6S35iqHZu",
        "colab": {
          "base_uri": "https://localhost:8080/"
        },
        "outputId": "e9415819-6375-4261-fd71-b39ce6196e58"
      },
      "execution_count": 15,
      "outputs": [
        {
          "output_type": "stream",
          "name": "stdout",
          "text": [
            "count    487.000000\n",
            "mean      81.266940\n",
            "std       68.858645\n",
            "min        0.000000\n",
            "25%       22.000000\n",
            "50%       68.000000\n",
            "75%      127.000000\n",
            "max      425.000000\n",
            "Name: QTD_DIAS, dtype: float64\n"
          ]
        }
      ]
    },
    {
      "cell_type": "markdown",
      "source": [
        "Considering, then, that when it comes to loss of moisture content in wood stored outdoors (*natural drying*) 20% is a small percentage, it can be easily inferred that these logs, due to the large number of days average battery life (81 days), had already been cut longer."
      ],
      "metadata": {
        "id": "0qZGUL4sqaNr"
      }
    },
    {
      "cell_type": "markdown",
      "source": [
        "As there are non-numeric predictor attributes, we need to treat them, transforming them into numerical attributes so that we can proceed with the training of the learning models (in Weka, in R and in other environments/languages, this transformation is not necessary, but it is need to analyze possible differences in the prediction result).\n",
        "\n",
        "Let's do the *one-hot-encoding* for categorical attributes that don't have any need for sorting, like product, bark, and species."
      ],
      "metadata": {
        "id": "iQrV5sGVIY5k"
      }
    },
    {
      "cell_type": "code",
      "source": [
        "atributos_a_codificar = ['PRODUTO', 'CASCA', 'ESPECIE', 'DIAMETRO']\n",
        "\n",
        "atributos_codificados = pandas.get_dummies(dfClassificacao[atributos_a_codificar])\n",
        "\n",
        "dfClassificacao = dfClassificacao.drop(atributos_a_codificar, axis=1).join(atributos_codificados)"
      ],
      "metadata": {
        "id": "ybIpFNznJGrp"
      },
      "execution_count": 16,
      "outputs": []
    },
    {
      "cell_type": "markdown",
      "source": [
        "Before the next step, it's time to remove the class (*INTERVALOPERDA* attritube) and prepare the dataset to be splitted."
      ],
      "metadata": {
        "id": "tEEosQa6lmsP"
      }
    },
    {
      "cell_type": "code",
      "source": [
        "dfClassificacaoTrain = dfClassificacao.drop([\"INTERVALOPERDA\"], axis=1)"
      ],
      "metadata": {
        "id": "V5ApgvegFr4g"
      },
      "execution_count": 17,
      "outputs": []
    },
    {
      "cell_type": "markdown",
      "source": [
        "The dataset has not yet been partitioned. The tendency is for the partitions to reproduce the general behavior of the dataset. So let's split it before going ahead."
      ],
      "metadata": {
        "id": "IZXhmAHDWgjO"
      }
    },
    {
      "cell_type": "code",
      "source": [
        "dados_treino, dados_teste, classe_treino, classe_teste = createDataPartition(dfClassificacaoTrain, dfClassificacao['INTERVALOPERDA'], test_size=0.3)"
      ],
      "metadata": {
        "id": "_KD4JvGPqk-s"
      },
      "execution_count": 18,
      "outputs": []
    },
    {
      "cell_type": "markdown",
      "source": [
        "Thus, with the dataset partitioned with 75% of the data separated for training, and 25% for testing, we can proceed with the training of the models, with the data already biased towards supervised learning - classification.\n",
        "\n",
        "Let's then instantiate the classification models using some algorithms. We will use *Random Forest* (RF), *Logistic Regression* (LR), ..."
      ],
      "metadata": {
        "id": "QLHaGszRto8n"
      }
    },
    {
      "cell_type": "code",
      "source": [
        "rf = RandomForestClassifier()\n",
        "lr = LogisticRegression()\n",
        "\n",
        "#model = TensorFlow.keras.models.Sequential([\n",
        "#                               TensorFlow.keras.layers.Flatten(),\n",
        "#                                   TensorFlow.keras.layers.Dense(128,activation='relu'),\n",
        "#                                   TensorFlow.keras.layers.Dropout(0.2),\n",
        "#                                   TensorFlow.keras.layers.Dense(10)\n",
        "#])"
      ],
      "metadata": {
        "id": "8WDlsvYauHDM"
      },
      "execution_count": 21,
      "outputs": []
    },
    {
      "cell_type": "code",
      "source": [
        "#loss_fn = TensorFlow.keras.losses.SparseCategoricalCrossentropy(from_logits=True)"
      ],
      "metadata": {
        "id": "yd_IJ9OisR8v"
      },
      "execution_count": null,
      "outputs": []
    },
    {
      "cell_type": "code",
      "source": [
        "#model.compile(optimizer='adam', loss=loss_fn, metrics=['accuracy'])"
      ],
      "metadata": {
        "id": "0MdwLSY3sVmC"
      },
      "execution_count": null,
      "outputs": []
    },
    {
      "cell_type": "code",
      "source": [
        "#model.fit(dados_treino, classe_treino, epochs=5)"
      ],
      "metadata": {
        "id": "kDXOY_VVsYMv"
      },
      "execution_count": null,
      "outputs": []
    },
    {
      "cell_type": "markdown",
      "source": [
        "Once the model is instantiated, it is time to train the classification model."
      ],
      "metadata": {
        "id": "DMALP5sEp3L_"
      }
    },
    {
      "cell_type": "code",
      "source": [
        "rf.fit(dados_treino, classe_treino)\n",
        "lr.fit(dados_treino, classe_treino)"
      ],
      "metadata": {
        "id": "_bwCUeJ-uTOb"
      },
      "execution_count": null,
      "outputs": []
    },
    {
      "cell_type": "markdown",
      "source": [
        "Once the model is trained (using both the training data and the training class), the next step is to verify the predictions, that is, what in fact the created model was able to learn from the available data."
      ],
      "metadata": {
        "id": "0G50JebvqEJo"
      }
    },
    {
      "cell_type": "code",
      "source": [
        "predicoes_rf = rf.predict(dados_teste)\n",
        "predicoes_lr = lr.predict(dados_teste)"
      ],
      "metadata": {
        "id": "I2ww95NPjJa9"
      },
      "execution_count": 23,
      "outputs": []
    },
    {
      "cell_type": "markdown",
      "source": [
        "Keeping the predictions in a variable, we will check through a confusion matrix the results of the learning model predictions using classification with RF."
      ],
      "metadata": {
        "id": "Txiint5_qXso"
      }
    },
    {
      "cell_type": "code",
      "source": [
        "cm_rf = confusion_matrix(classe_teste, predicoes_rf)\n",
        "cm_lr = confusion_matrix(classe_teste, predicoes_lr)"
      ],
      "metadata": {
        "id": "JSuYLsagqiKy"
      },
      "execution_count": 24,
      "outputs": []
    },
    {
      "cell_type": "markdown",
      "source": [
        "Observing the confusion matrix above, one can notice the assertiveness of the chosen method. But we need to make the information clearer.\n",
        "\n",
        "For this, we are going to use some metrics, starting with the accuracy of the model, that is, how much, in percentage, the model is able to hit its predictions (always based on the data that the model had at its disposal)."
      ],
      "metadata": {
        "id": "wp0Br_bxqphs"
      }
    },
    {
      "cell_type": "code",
      "source": [
        "print(\"RF accuracy:\", metrics.accuracy_score(classe_teste, predicoes_rf))\n",
        "\n",
        "print(\"LR accuracy:\", metrics.accuracy_score(classe_teste, predicoes_lr))\n",
        "\n",
        "#print(\"Deep learning:\", model.evaluate(dados_teste, classe_teste))\n"
      ],
      "metadata": {
        "colab": {
          "base_uri": "https://localhost:8080/"
        },
        "id": "UXnGx-baqmpG",
        "outputId": "1ef4e908-1fbf-4915-b065-626181f83929"
      },
      "execution_count": 25,
      "outputs": [
        {
          "output_type": "stream",
          "name": "stdout",
          "text": [
            "RF accuracy: 0.7142857142857143\n",
            "LR accuracy: 0.6666666666666666\n"
          ]
        }
      ]
    },
    {
      "cell_type": "markdown",
      "source": [
        "It is important to keep in mind that, although accuracy is the proportion of correct predictions in relation to the total number of predictions, it is a simple metric, that is, it may not always be the most suitable metric - especially in unbalanced datasets (like this one)."
      ],
      "metadata": {
        "id": "r9vOjejZsfXz"
      }
    },
    {
      "cell_type": "markdown",
      "source": [
        "Knowing that, let's take a look to another metrics, like *Precision*, *Recall* and *F1-Score*."
      ],
      "metadata": {
        "id": "MyTVp9cSqZz6"
      }
    },
    {
      "cell_type": "code",
      "source": [
        "print(\"Classification report (Random Forest): \\n\", classification_report(classe_teste, predicoes_rf))\n",
        "\n",
        "print(\"Classification report (Logistic Regression): \\n\", classification_report(classe_teste, predicoes_lr))"
      ],
      "metadata": {
        "id": "hZgli6yJqi0c",
        "colab": {
          "base_uri": "https://localhost:8080/"
        },
        "outputId": "15470b61-6f96-4ba3-ab41-69b1b5ace588"
      },
      "execution_count": 26,
      "outputs": [
        {
          "output_type": "stream",
          "name": "stdout",
          "text": [
            "Classification report (Random Forest): \n",
            "               precision    recall  f1-score   support\n",
            "\n",
            "         1.0       0.77      0.90      0.83        86\n",
            "         2.0       0.63      0.61      0.62        44\n",
            "         3.0       0.25      0.08      0.12        12\n",
            "         4.0       0.00      0.00      0.00         5\n",
            "\n",
            "    accuracy                           0.71       147\n",
            "   macro avg       0.41      0.40      0.39       147\n",
            "weighted avg       0.66      0.71      0.68       147\n",
            "\n",
            "Classification report (Logistic Regression): \n",
            "               precision    recall  f1-score   support\n",
            "\n",
            "         1.0       0.74      0.87      0.80        86\n",
            "         2.0       0.50      0.52      0.51        44\n",
            "         3.0       0.00      0.00      0.00        12\n",
            "         4.0       0.00      0.00      0.00         5\n",
            "\n",
            "    accuracy                           0.67       147\n",
            "   macro avg       0.31      0.35      0.33       147\n",
            "weighted avg       0.58      0.67      0.62       147\n",
            "\n"
          ]
        },
        {
          "output_type": "stream",
          "name": "stderr",
          "text": [
            "/usr/local/lib/python3.8/dist-packages/sklearn/metrics/_classification.py:1318: UndefinedMetricWarning: Precision and F-score are ill-defined and being set to 0.0 in labels with no predicted samples. Use `zero_division` parameter to control this behavior.\n",
            "  _warn_prf(average, modifier, msg_start, len(result))\n",
            "/usr/local/lib/python3.8/dist-packages/sklearn/metrics/_classification.py:1318: UndefinedMetricWarning: Precision and F-score are ill-defined and being set to 0.0 in labels with no predicted samples. Use `zero_division` parameter to control this behavior.\n",
            "  _warn_prf(average, modifier, msg_start, len(result))\n",
            "/usr/local/lib/python3.8/dist-packages/sklearn/metrics/_classification.py:1318: UndefinedMetricWarning: Precision and F-score are ill-defined and being set to 0.0 in labels with no predicted samples. Use `zero_division` parameter to control this behavior.\n",
            "  _warn_prf(average, modifier, msg_start, len(result))\n",
            "/usr/local/lib/python3.8/dist-packages/sklearn/metrics/_classification.py:1318: UndefinedMetricWarning: Precision and F-score are ill-defined and being set to 0.0 in labels with no predicted samples. Use `zero_division` parameter to control this behavior.\n",
            "  _warn_prf(average, modifier, msg_start, len(result))\n",
            "/usr/local/lib/python3.8/dist-packages/sklearn/metrics/_classification.py:1318: UndefinedMetricWarning: Precision and F-score are ill-defined and being set to 0.0 in labels with no predicted samples. Use `zero_division` parameter to control this behavior.\n",
            "  _warn_prf(average, modifier, msg_start, len(result))\n",
            "/usr/local/lib/python3.8/dist-packages/sklearn/metrics/_classification.py:1318: UndefinedMetricWarning: Precision and F-score are ill-defined and being set to 0.0 in labels with no predicted samples. Use `zero_division` parameter to control this behavior.\n",
            "  _warn_prf(average, modifier, msg_start, len(result))\n"
          ]
        }
      ]
    },
    {
      "cell_type": "markdown",
      "source": [
        "Now, let's take a look to the classifiers, trying to tune the hyperparamethers and improve the performance of the developed models. Tuning hyperparameters is an important step to increase the efficiency of the model.\n",
        "\n",
        "The first model to be tuned is the *Random Forest*. We will use the *GridCV* to search exhaustively over some parameters to (and) get the best possible tune."
      ],
      "metadata": {
        "id": "gapZ771vZUO5"
      }
    },
    {
      "cell_type": "code",
      "source": [
        "parametros_gridCV = {\n",
        "  'n_estimators': [25, 50, 100, 200],\n",
        "\t'max_features': ['sqrt', 'log2', None],\n",
        "\t'max_depth': [5, 10, None],\n",
        "\t'max_leaf_nodes': [3, 9, None],\n",
        "}"
      ],
      "metadata": {
        "id": "dd5fqINfcSIK"
      },
      "execution_count": 27,
      "outputs": []
    },
    {
      "cell_type": "markdown",
      "source": [
        "We setted some possible values of the *Random Forest* hyperparamethers, and now we will search for the best tuning of the hyperparamethers."
      ],
      "metadata": {
        "id": "pp2yaZwAi64w"
      }
    },
    {
      "cell_type": "code",
      "source": [
        "grid_search = GridSearchCV(RandomForestClassifier(), param_grid=parametros_gridCV)\n",
        "\n",
        "grid_search.fit(dados_treino, classe_treino)\n",
        "\n",
        "print(grid_search.best_estimator_)"
      ],
      "metadata": {
        "colab": {
          "base_uri": "https://localhost:8080/"
        },
        "id": "-oGY9NGqdECy",
        "outputId": "80e7fec9-b73a-460c-c868-406843eb7081"
      },
      "execution_count": 29,
      "outputs": [
        {
          "output_type": "stream",
          "name": "stdout",
          "text": [
            "RandomForestClassifier(max_depth=5, max_features='log2', max_leaf_nodes=9,\n",
            "                       n_estimators=50)\n"
          ]
        }
      ]
    },
    {
      "cell_type": "markdown",
      "source": [
        "And that's it: we know that the best tuning of the given options. Now we will update the parameters of the model by those obtained above and train again the Random Forest model."
      ],
      "metadata": {
        "id": "owmwUgkuk3sl"
      }
    },
    {
      "cell_type": "code",
      "source": [
        "rf_tunado = RandomForestClassifier(max_depth=5, max_features=\"log2\", max_leaf_nodes=9, n_estimators=50)\n",
        "\n",
        "rf_tunado.fit(dados_treino, classe_treino)\n",
        "\n",
        "predicoes_tunadas = rf_tunado.predict(dados_teste)\n",
        "\n",
        "print(\"Tuned RF accuracy:\", metrics.accuracy_score(classe_teste, predicoes_tunadas))\n",
        "\n",
        "print(classification_report(classe_teste, predicoes_tunadas))"
      ],
      "metadata": {
        "id": "UeuUo6p1ee6C"
      },
      "execution_count": null,
      "outputs": []
    },
    {
      "cell_type": "markdown",
      "source": [
        "With the changes in the hyperparameters tunings, we can see that the trained model using the *Random Forest* algorithm had its accuracy increased.\n",
        "\n",
        "Maybe if we had more data (more instances in the dataset), we could get better results. But in general lines, we got a good result."
      ],
      "metadata": {
        "id": "GCXHmy5RlwGB"
      }
    },
    {
      "cell_type": "markdown",
      "source": [
        "Now, let's go back to the second step: the creation of the regression model."
      ],
      "metadata": {
        "id": "Bk8Nfig711_5"
      }
    },
    {
      "cell_type": "code",
      "source": [
        "# Calcule a importância das features\n",
        "importance_rf = rf.feature_importances_\n",
        "importance_lr = pandas.DataFrame(data={\n",
        "                  'Attribute': dados_treino.columns,\n",
        "                  'Importance': lr.coef_[0]\n",
        "                })\n",
        "importance_lr = importance_lr.sort_values(by='Importance', ascending=False)\n",
        "\n",
        "#print(importance_rf)\n",
        "#print(importance_lr)\n",
        "\n",
        "# Crie um gráfico para visualizar a importância das features\n",
        "matplot.barh(dados_teste.columns, importance_rf)\n",
        "\n",
        "matplot.bar(x=importance_lr['Attribute'], height=importance_lr['Importance'], color='#087E8B')\n",
        "matplot.title('Feature importances obtained from coefficients', size=20)\n",
        "matplot.xticks(rotation='vertical')\n",
        "matplot.show()\n",
        "\n",
        "#matplot.xlabel('Importância da Feature')\n",
        "#matplot.ylabel('Feature')\n",
        "#matplot.title('Importância das Features no Modelo Random Forest')\n",
        "\n",
        "# Mostre o gráfico\n",
        "#matplot.show()"
      ],
      "metadata": {
        "id": "LphM_zYtvFOF",
        "colab": {
          "base_uri": "https://localhost:8080/",
          "height": 394
        },
        "outputId": "9df5b6c7-deb0-4c9a-ae25-63b173c4abd9"
      },
      "execution_count": null,
      "outputs": [
        {
          "output_type": "display_data",
          "data": {
            "text/plain": [
              "<Figure size 432x288 with 1 Axes>"
            ],
            "image/png": "[encoded data removed]"
          },
          "metadata": {
            "needs_background": "light"
          }
        }
      ]
    },
    {
      "cell_type": "code",
      "source": [
        "#dfRegressao.head(10)\n",
        "\n",
        "dados_treino, dados_teste, classe_treino, classe_teste = createDataPartition(dfRegressao, dfClassificacao['ESTORNO'], test_size=0.25)"
      ],
      "metadata": {
        "id": "7FZ0jkLxVP-8"
      },
      "execution_count": null,
      "outputs": []
    },
    {
      "cell_type": "code",
      "source": [
        "lasso = Lasso(alpha=1.0)"
      ],
      "metadata": {
        "id": "S4THUXptVy8Y"
      },
      "execution_count": null,
      "outputs": []
    },
    {
      "cell_type": "code",
      "source": [
        "cv = RepeatedKFold(n_splits=10, n_repeats=3, random_state=1)"
      ],
      "metadata": {
        "id": "h74_mDTtWWa9"
      },
      "execution_count": null,
      "outputs": []
    },
    {
      "cell_type": "code",
      "source": [
        "scores = cross_val_score(lasso, dados_treino, classe_treino, scoring='neg_mean_absolute_error', cv=cv, n_jobs=-1)"
      ],
      "metadata": {
        "id": "otXwj4N0W_jU"
      },
      "execution_count": null,
      "outputs": []
    },
    {
      "cell_type": "code",
      "source": [
        "scores = absolute(scores)"
      ],
      "metadata": {
        "id": "IAwW0nIUXMsX"
      },
      "execution_count": null,
      "outputs": []
    },
    {
      "cell_type": "code",
      "source": [
        "print('Mean MAE: %.3f (%.3f)' % (mean(scores), std(scores)))"
      ],
      "metadata": {
        "colab": {
          "base_uri": "https://localhost:8080/"
        },
        "id": "LfvJF-AwXZqM",
        "outputId": "9ef32c15-6420-4d24-d2e8-ca229d44193c"
      },
      "execution_count": null,
      "outputs": [
        {
          "output_type": "stream",
          "name": "stdout",
          "text": [
            "Mean MAE: nan (nan)\n"
          ]
        }
      ]
    }
  ]
}