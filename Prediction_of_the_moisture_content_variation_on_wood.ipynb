{
  "cells": [
    {
      "cell_type": "markdown",
      "metadata": {
        "id": "view-in-github",
        "colab_type": "text"
      },
      "source": [
        "<a href=\"https://colab.research.google.com/github/vmendesmagalhaes/machine-learning/blob/main/Prediction_of_the_moisture_content_variation_on_wood.ipynb\" target=\"_parent\"><img src=\"https://colab.research.google.com/assets/colab-badge.svg\" alt=\"Open In Colab\"/></a>"
      ]
    },
    {
      "cell_type": "markdown",
      "metadata": {
        "id": "9-10UdlcZ2sc"
      },
      "source": [
        "# Prediction of the moisture content variation on wood\n",
        "\n",
        "**Author:** Vitor Mendes Magalhaes\n",
        "\n",
        "**Email:** vitor.mendes.magalhaes@gmail.com\n",
        "\n",
        "**Last review:** Jun/2023"
      ]
    },
    {
      "cell_type": "markdown",
      "metadata": {
        "id": "fltjEcPTtOMq"
      },
      "source": [
        "Wood is the raw material for many manufactured goods. Charcoal, cellulose for the paper industry, laminated wood furniture, and even explosive products, such as gunpowder cotton, are possible destinations for the wood. On the other hand, the growing use of wood as a raw material has increased illegal deforestation and, as a direct consequence, it has changed the climate at a global level.\n",
        "\n",
        "Regardless of the destination that will be given to the wood logs, many products that have wood as raw material go through the same stage: the storage of logs in piles."
      ]
    },
    {
      "cell_type": "markdown",
      "metadata": {
        "id": "6k1KTRedtZId"
      },
      "source": [
        "But as the storage time on piles passes, the moisture content on wood will reduce.\n",
        "\n",
        "The use of wood in production processes must be optimized to mitigate these adverse effects. One of the determining factors for this optimization is moisture content on wood, i.e., the ratio between the mass of water contained in the wood and dry wood mass.\n",
        "\n",
        "Here, we develop a Artificial Intelligence-based model - specifically using machine learning classification and regression methods - to predict the moisture content on wood, contributing to a better use of the wood in industry.\n",
        "\n",
        "Let's start by loading the necessary libraries for solving the present applied research problem."
      ]
    },
    {
      "cell_type": "code",
      "execution_count": null,
      "metadata": {
        "id": "R0A8j7EeWB75"
      },
      "outputs": [],
      "source": [
        "import pandas as pandas\n",
        "import numpy as numpy\n",
        "import matplotlib.pyplot as plt\n",
        "from numpy import absolute\n",
        "from numpy import std\n",
        "from numpy import mean\n",
        "from sklearn.model_selection import train_test_split as createDataPartition\n",
        "from sklearn.preprocessing import LabelEncoder\n",
        "\n",
        "import os\n",
        "import random\n",
        "\n",
        "from sklearn.ensemble import RandomForestClassifier\n",
        "from sklearn.linear_model import LogisticRegression\n",
        "from sklearn import svm\n",
        "from sklearn.naive_bayes import GaussianNB\n",
        "from sklearn.ensemble import AdaBoostClassifier\n",
        "from sklearn.ensemble import GradientBoostingClassifier\n",
        "from sklearn.neural_network import MLPClassifier\n",
        "\n",
        "from sklearn.model_selection import GridSearchCV\n",
        "from imblearn.over_sampling import SMOTE\n",
        "from sklearn.model_selection import cross_val_score\n",
        "from sklearn import metrics\n",
        "from sklearn.metrics import classification_report\n",
        "from sklearn.metrics import confusion_matrix\n",
        "from sklearn.metrics import accuracy_score, precision_score, recall_score, f1_score\n",
        "\n",
        "from scipy.stats import friedmanchisquare\n",
        "!pip install pingouin\n",
        "import pingouin as pg\n",
        "\n",
        "import warnings\n",
        "warnings.filterwarnings('ignore')"
      ]
    },
    {
      "cell_type": "markdown",
      "metadata": {
        "id": "VkYihumGjWdD"
      },
      "source": [
        "The very first step is to import the spreadsheet (.XLS file) containing the raw data."
      ]
    },
    {
      "cell_type": "code",
      "execution_count": null,
      "metadata": {
        "id": "SbTwRtmBo9Qo"
      },
      "outputs": [],
      "source": [
        "dados = pandas.read_excel('datasetjan23.xls')"
      ]
    },
    {
      "cell_type": "markdown",
      "metadata": {
        "id": "LyrokgrApkA3"
      },
      "source": [
        "Now we have the data, let's start working on it.\n",
        "\n",
        "First, let's create a new attribute, called *PERCENTUAL*. It means the percentage of weight loss in relation to the total amount of incoming wood logs in each pile."
      ]
    },
    {
      "cell_type": "code",
      "execution_count": null,
      "metadata": {
        "id": "bHyUJDmopxo-"
      },
      "outputs": [],
      "source": [
        "dados['PERCENTUAL'] = (dados['ESTORNO'] * 100) / dados['TOT_ENTR']"
      ]
    },
    {
      "cell_type": "markdown",
      "metadata": {
        "id": "uNpS1ChEr1SV"
      },
      "source": [
        "After creating the new attribute, we will remove the instances of piles that didn't have log outputs (in theory, if they do not represent an operational error, these piles continued to receive loads of wood, or were not yet closed, at the time of data capture).\n",
        "\n",
        "We will also remove instances of piles that have not had reversed charges, that is, that in theory there was no loss of moisture. In the case of wood logs stored outdoors (technically, it is called \"natural drying\"), under the conditions of the captured data, there will always be moisture loss."
      ]
    },
    {
      "cell_type": "code",
      "execution_count": null,
      "metadata": {
        "id": "uIiqzQgCr8ug"
      },
      "outputs": [],
      "source": [
        "dados.drop(dados[dados['TOT_SAID'] == 0].index, inplace=True)\n",
        "dados.drop(dados[dados['ESTORNO'] == 0].index, inplace=True)"
      ]
    },
    {
      "cell_type": "markdown",
      "metadata": {
        "id": "EDiAvLNw39VX"
      },
      "source": [
        "After removing the instances, let's create a copy of the original dataset, which will be used to train different problem solving models using supervised learning. We will train classification models."
      ]
    },
    {
      "cell_type": "code",
      "execution_count": null,
      "metadata": {
        "id": "hIL7O7x74Sqj"
      },
      "outputs": [],
      "source": [
        "dfClassificacao = dados"
      ]
    },
    {
      "cell_type": "markdown",
      "metadata": {
        "id": "9w4ZJM9v4Xgb"
      },
      "source": [
        "Now, let's start the pre-processing step, removing the attributes that are not interesting for creating the learning models to be applied.\n",
        "\n",
        "Once this is done, we will continue pre-processing the data, now with a selection of features, removing attributes and biasing the data to conform to the type of supervised learning they propose."
      ]
    },
    {
      "cell_type": "markdown",
      "metadata": {
        "id": "XN6RdFXO5bu5"
      },
      "source": [
        "For the development of the classification models, let's create a new attribute, called *INTERVALOPERDA*, meaning the loss ranges. Loss ranges are nothing more than weight loss percentage ranges, eg between 0% and 5% loss; between 5% and 10% loss, and so on, as far as the data allows.\n",
        "\n",
        "To define the best weight loss percentage ranges, we will first analyze visually, using three different visual analysis tools: a *boxplot*, a summary of the *PERCENTUAL* attribute (which will dictate the ranges), and a histogram with the frequency of instances with different percentages."
      ]
    },
    {
      "cell_type": "code",
      "execution_count": null,
      "metadata": {
        "colab": {
          "base_uri": "https://localhost:8080/",
          "height": 448
        },
        "id": "SvRSax9A52bY",
        "outputId": "eef6d8be-c6f2-4a2a-da3b-b96b350c5313"
      },
      "outputs": [
        {
          "output_type": "execute_result",
          "data": {
            "text/plain": [
              "<Axes: >"
            ]
          },
          "metadata": {},
          "execution_count": 6
        },
        {
          "output_type": "display_data",
          "data": {
            "text/plain": [
              "<Figure size 640x480 with 1 Axes>"
            ],
            "image/png": "[encoded data removed]"
          },
          "metadata": {}
        }
      ],
      "source": [
        "dfClassificacao.boxplot(column =['PERCENTUAL'], grid = True)"
      ]
    },
    {
      "cell_type": "code",
      "execution_count": null,
      "metadata": {
        "colab": {
          "base_uri": "https://localhost:8080/",
          "height": 448
        },
        "id": "BQWEh4K87S_Y",
        "outputId": "dcad3e1b-440c-458b-c372-c322dec09e01"
      },
      "outputs": [
        {
          "output_type": "execute_result",
          "data": {
            "text/plain": [
              "<Axes: >"
            ]
          },
          "metadata": {},
          "execution_count": 7
        },
        {
          "output_type": "display_data",
          "data": {
            "text/plain": [
              "<Figure size 640x480 with 1 Axes>"
            ],
            "image/png": "[encoded data removed]"
          },
          "metadata": {}
        }
      ],
      "source": [
        "dfClassificacao['PERCENTUAL'].hist()"
      ]
    },
    {
      "cell_type": "code",
      "execution_count": null,
      "metadata": {
        "colab": {
          "base_uri": "https://localhost:8080/",
          "height": 364
        },
        "id": "r-PxLgr79Aug",
        "outputId": "ca0e2f00-5621-45b8-ad09-35d5ea3c0bd9"
      },
      "outputs": [
        {
          "output_type": "execute_result",
          "data": {
            "text/plain": [
              "            PILHA  COMPRIMENTO    TEMP_MIN    TEMP_MAX    TEMP_MED  \\\n",
              "count  502.000000   502.000000  502.000000  502.000000  502.000000   \n",
              "mean   380.834661     5.191633    6.353386   30.933068   17.668108   \n",
              "std    201.004887     0.380277    4.468436    6.301451    3.514570   \n",
              "min      1.000000     3.900000    1.900000   18.100000   11.640000   \n",
              "25%    209.250000     5.200000    3.300000   26.700000   14.965000   \n",
              "50%    381.500000     5.200000    5.400000   32.500000   17.395000   \n",
              "75%    556.750000     5.200000    8.600000   34.400000   20.377500   \n",
              "max    722.000000     6.000000   24.000000   39.400000   26.930000   \n",
              "\n",
              "          TEMP_PO  PRECIPITACAO     PATM_MED      UR_MIN      UR_MED  \\\n",
              "count  502.000000    502.000000   502.000000  502.000000  502.000000   \n",
              "mean    13.021813    230.048207  1015.596673   29.844622   75.807032   \n",
              "std      2.811104    204.907322     2.839966    9.870406    4.102414   \n",
              "min      6.380000      0.000000  1005.890000   21.000000   64.360000   \n",
              "25%     11.017500     41.400000  1013.885000   21.000000   71.902500   \n",
              "50%     12.805000    184.300000  1016.310000   26.000000   76.105000   \n",
              "75%     14.797500    392.200000  1016.920000   36.000000   79.260000   \n",
              "max     23.340000   1156.000000  1026.700000   70.000000   84.670000   \n",
              "\n",
              "        VENTO_MED  RAJ_MAX_MED    QTD_DIAS      TOT_ENTR      TOT_SAID  \\\n",
              "count  502.000000   502.000000  502.000000  5.020000e+02  5.020000e+02   \n",
              "mean     3.020159    10.148426   82.864542  2.955402e+05  2.608087e+05   \n",
              "std      0.423014     1.044224   70.283867  4.209043e+05  3.530809e+05   \n",
              "min      1.430000     5.700000    0.000000  1.144000e+04  3.030000e+03   \n",
              "25%      2.700000     9.480000   22.000000  1.312050e+05  1.127950e+05   \n",
              "50%      3.155000    10.440000   69.000000  2.329100e+05  2.047900e+05   \n",
              "75%      3.260000    10.660000  133.750000  3.658750e+05  3.268445e+05   \n",
              "max      4.630000    14.300000  425.000000  8.128820e+06  6.628260e+06   \n",
              "\n",
              "          DIFERENCA       ESTORNO  PERCENTUAL  \n",
              "count  5.020000e+02  5.020000e+02  502.000000  \n",
              "mean   3.473146e+04  3.217752e+04   11.404791  \n",
              "std    8.307838e+04  7.519074e+04   11.723297  \n",
              "min   -1.996000e+04  2.000000e+01    0.005657  \n",
              "25%    6.310000e+03  6.310000e+03    3.414372  \n",
              "50%    1.883000e+04  1.746000e+04    8.179170  \n",
              "75%    3.958000e+04  3.842550e+04   15.792322  \n",
              "max    1.500560e+06  1.500560e+06   91.583333  "
            ],
            "text/html": [
              "\n",
              "  <div id=\"df-8f8a4509-4e94-40a7-86fc-924c0495dde3\">\n",
              "    <div class=\"colab-df-container\">\n",
              "      <div>\n",
              "<style scoped>\n",
              "    .dataframe tbody tr th:only-of-type {\n",
              "        vertical-align: middle;\n",
              "    }\n",
              "\n",
              "    .dataframe tbody tr th {\n",
              "        vertical-align: top;\n",
              "    }\n",
              "\n",
              "    .dataframe thead th {\n",
              "        text-align: right;\n",
              "    }\n",
              "</style>\n",
              "<table border=\"1\" class=\"dataframe\">\n",
              "  <thead>\n",
              "    <tr style=\"text-align: right;\">\n",
              "      <th></th>\n",
              "      <th>PILHA</th>\n",
              "      <th>COMPRIMENTO</th>\n",
              "      <th>TEMP_MIN</th>\n",
              "      <th>TEMP_MAX</th>\n",
              "      <th>TEMP_MED</th>\n",
              "      <th>TEMP_PO</th>\n",
              "      <th>PRECIPITACAO</th>\n",
              "      <th>PATM_MED</th>\n",
              "      <th>UR_MIN</th>\n",
              "      <th>UR_MED</th>\n",
              "      <th>VENTO_MED</th>\n",
              "      <th>RAJ_MAX_MED</th>\n",
              "      <th>QTD_DIAS</th>\n",
              "      <th>TOT_ENTR</th>\n",
              "      <th>TOT_SAID</th>\n",
              "      <th>DIFERENCA</th>\n",
              "      <th>ESTORNO</th>\n",
              "      <th>PERCENTUAL</th>\n",
              "    </tr>\n",
              "  </thead>\n",
              "  <tbody>\n",
              "    <tr>\n",
              "      <th>count</th>\n",
              "      <td>502.000000</td>\n",
              "      <td>502.000000</td>\n",
              "      <td>502.000000</td>\n",
              "      <td>502.000000</td>\n",
              "      <td>502.000000</td>\n",
              "      <td>502.000000</td>\n",
              "      <td>502.000000</td>\n",
              "      <td>502.000000</td>\n",
              "      <td>502.000000</td>\n",
              "      <td>502.000000</td>\n",
              "      <td>502.000000</td>\n",
              "      <td>502.000000</td>\n",
              "      <td>502.000000</td>\n",
              "      <td>5.020000e+02</td>\n",
              "      <td>5.020000e+02</td>\n",
              "      <td>5.020000e+02</td>\n",
              "      <td>5.020000e+02</td>\n",
              "      <td>502.000000</td>\n",
              "    </tr>\n",
              "    <tr>\n",
              "      <th>mean</th>\n",
              "      <td>380.834661</td>\n",
              "      <td>5.191633</td>\n",
              "      <td>6.353386</td>\n",
              "      <td>30.933068</td>\n",
              "      <td>17.668108</td>\n",
              "      <td>13.021813</td>\n",
              "      <td>230.048207</td>\n",
              "      <td>1015.596673</td>\n",
              "      <td>29.844622</td>\n",
              "      <td>75.807032</td>\n",
              "      <td>3.020159</td>\n",
              "      <td>10.148426</td>\n",
              "      <td>82.864542</td>\n",
              "      <td>2.955402e+05</td>\n",
              "      <td>2.608087e+05</td>\n",
              "      <td>3.473146e+04</td>\n",
              "      <td>3.217752e+04</td>\n",
              "      <td>11.404791</td>\n",
              "    </tr>\n",
              "    <tr>\n",
              "      <th>std</th>\n",
              "      <td>201.004887</td>\n",
              "      <td>0.380277</td>\n",
              "      <td>4.468436</td>\n",
              "      <td>6.301451</td>\n",
              "      <td>3.514570</td>\n",
              "      <td>2.811104</td>\n",
              "      <td>204.907322</td>\n",
              "      <td>2.839966</td>\n",
              "      <td>9.870406</td>\n",
              "      <td>4.102414</td>\n",
              "      <td>0.423014</td>\n",
              "      <td>1.044224</td>\n",
              "      <td>70.283867</td>\n",
              "      <td>4.209043e+05</td>\n",
              "      <td>3.530809e+05</td>\n",
              "      <td>8.307838e+04</td>\n",
              "      <td>7.519074e+04</td>\n",
              "      <td>11.723297</td>\n",
              "    </tr>\n",
              "    <tr>\n",
              "      <th>min</th>\n",
              "      <td>1.000000</td>\n",
              "      <td>3.900000</td>\n",
              "      <td>1.900000</td>\n",
              "      <td>18.100000</td>\n",
              "      <td>11.640000</td>\n",
              "      <td>6.380000</td>\n",
              "      <td>0.000000</td>\n",
              "      <td>1005.890000</td>\n",
              "      <td>21.000000</td>\n",
              "      <td>64.360000</td>\n",
              "      <td>1.430000</td>\n",
              "      <td>5.700000</td>\n",
              "      <td>0.000000</td>\n",
              "      <td>1.144000e+04</td>\n",
              "      <td>3.030000e+03</td>\n",
              "      <td>-1.996000e+04</td>\n",
              "      <td>2.000000e+01</td>\n",
              "      <td>0.005657</td>\n",
              "    </tr>\n",
              "    <tr>\n",
              "      <th>25%</th>\n",
              "      <td>209.250000</td>\n",
              "      <td>5.200000</td>\n",
              "      <td>3.300000</td>\n",
              "      <td>26.700000</td>\n",
              "      <td>14.965000</td>\n",
              "      <td>11.017500</td>\n",
              "      <td>41.400000</td>\n",
              "      <td>1013.885000</td>\n",
              "      <td>21.000000</td>\n",
              "      <td>71.902500</td>\n",
              "      <td>2.700000</td>\n",
              "      <td>9.480000</td>\n",
              "      <td>22.000000</td>\n",
              "      <td>1.312050e+05</td>\n",
              "      <td>1.127950e+05</td>\n",
              "      <td>6.310000e+03</td>\n",
              "      <td>6.310000e+03</td>\n",
              "      <td>3.414372</td>\n",
              "    </tr>\n",
              "    <tr>\n",
              "      <th>50%</th>\n",
              "      <td>381.500000</td>\n",
              "      <td>5.200000</td>\n",
              "      <td>5.400000</td>\n",
              "      <td>32.500000</td>\n",
              "      <td>17.395000</td>\n",
              "      <td>12.805000</td>\n",
              "      <td>184.300000</td>\n",
              "      <td>1016.310000</td>\n",
              "      <td>26.000000</td>\n",
              "      <td>76.105000</td>\n",
              "      <td>3.155000</td>\n",
              "      <td>10.440000</td>\n",
              "      <td>69.000000</td>\n",
              "      <td>2.329100e+05</td>\n",
              "      <td>2.047900e+05</td>\n",
              "      <td>1.883000e+04</td>\n",
              "      <td>1.746000e+04</td>\n",
              "      <td>8.179170</td>\n",
              "    </tr>\n",
              "    <tr>\n",
              "      <th>75%</th>\n",
              "      <td>556.750000</td>\n",
              "      <td>5.200000</td>\n",
              "      <td>8.600000</td>\n",
              "      <td>34.400000</td>\n",
              "      <td>20.377500</td>\n",
              "      <td>14.797500</td>\n",
              "      <td>392.200000</td>\n",
              "      <td>1016.920000</td>\n",
              "      <td>36.000000</td>\n",
              "      <td>79.260000</td>\n",
              "      <td>3.260000</td>\n",
              "      <td>10.660000</td>\n",
              "      <td>133.750000</td>\n",
              "      <td>3.658750e+05</td>\n",
              "      <td>3.268445e+05</td>\n",
              "      <td>3.958000e+04</td>\n",
              "      <td>3.842550e+04</td>\n",
              "      <td>15.792322</td>\n",
              "    </tr>\n",
              "    <tr>\n",
              "      <th>max</th>\n",
              "      <td>722.000000</td>\n",
              "      <td>6.000000</td>\n",
              "      <td>24.000000</td>\n",
              "      <td>39.400000</td>\n",
              "      <td>26.930000</td>\n",
              "      <td>23.340000</td>\n",
              "      <td>1156.000000</td>\n",
              "      <td>1026.700000</td>\n",
              "      <td>70.000000</td>\n",
              "      <td>84.670000</td>\n",
              "      <td>4.630000</td>\n",
              "      <td>14.300000</td>\n",
              "      <td>425.000000</td>\n",
              "      <td>8.128820e+06</td>\n",
              "      <td>6.628260e+06</td>\n",
              "      <td>1.500560e+06</td>\n",
              "      <td>1.500560e+06</td>\n",
              "      <td>91.583333</td>\n",
              "    </tr>\n",
              "  </tbody>\n",
              "</table>\n",
              "</div>\n",
              "      <button class=\"colab-df-convert\" onclick=\"convertToInteractive('df-8f8a4509-4e94-40a7-86fc-924c0495dde3')\"\n",
              "              title=\"Convert this dataframe to an interactive table.\"\n",
              "              style=\"display:none;\">\n",
              "        \n",
              "  <svg xmlns=\"http://www.w3.org/2000/svg\" height=\"24px\"viewBox=\"0 0 24 24\"\n",
              "       width=\"24px\">\n",
              "    <path d=\"M0 0h24v24H0V0z\" fill=\"none\"/>\n",
              "    <path d=\"M18.56 5.44l.94 2.06.94-2.06 2.06-.94-2.06-.94-.94-2.06-.94 2.06-2.06.94zm-11 1L8.5 8.5l.94-2.06 2.06-.94-2.06-.94L8.5 2.5l-.94 2.06-2.06.94zm10 10l.94 2.06.94-2.06 2.06-.94-2.06-.94-.94-2.06-.94 2.06-2.06.94z\"/><path d=\"M17.41 7.96l-1.37-1.37c-.4-.4-.92-.59-1.43-.59-.52 0-1.04.2-1.43.59L10.3 9.45l-7.72 7.72c-.78.78-.78 2.05 0 2.83L4 21.41c.39.39.9.59 1.41.59.51 0 1.02-.2 1.41-.59l7.78-7.78 2.81-2.81c.8-.78.8-2.07 0-2.86zM5.41 20L4 18.59l7.72-7.72 1.47 1.35L5.41 20z\"/>\n",
              "  </svg>\n",
              "      </button>\n",
              "      \n",
              "  <style>\n",
              "    .colab-df-container {\n",
              "      display:flex;\n",
              "      flex-wrap:wrap;\n",
              "      gap: 12px;\n",
              "    }\n",
              "\n",
              "    .colab-df-convert {\n",
              "      background-color: #E8F0FE;\n",
              "      border: none;\n",
              "      border-radius: 50%;\n",
              "      cursor: pointer;\n",
              "      display: none;\n",
              "      fill: #1967D2;\n",
              "      height: 32px;\n",
              "      padding: 0 0 0 0;\n",
              "      width: 32px;\n",
              "    }\n",
              "\n",
              "    .colab-df-convert:hover {\n",
              "      background-color: #E2EBFA;\n",
              "      box-shadow: 0px 1px 2px rgba(60, 64, 67, 0.3), 0px 1px 3px 1px rgba(60, 64, 67, 0.15);\n",
              "      fill: #174EA6;\n",
              "    }\n",
              "\n",
              "    [theme=dark] .colab-df-convert {\n",
              "      background-color: #3B4455;\n",
              "      fill: #D2E3FC;\n",
              "    }\n",
              "\n",
              "    [theme=dark] .colab-df-convert:hover {\n",
              "      background-color: #434B5C;\n",
              "      box-shadow: 0px 1px 3px 1px rgba(0, 0, 0, 0.15);\n",
              "      filter: drop-shadow(0px 1px 2px rgba(0, 0, 0, 0.3));\n",
              "      fill: #FFFFFF;\n",
              "    }\n",
              "  </style>\n",
              "\n",
              "      <script>\n",
              "        const buttonEl =\n",
              "          document.querySelector('#df-8f8a4509-4e94-40a7-86fc-924c0495dde3 button.colab-df-convert');\n",
              "        buttonEl.style.display =\n",
              "          google.colab.kernel.accessAllowed ? 'block' : 'none';\n",
              "\n",
              "        async function convertToInteractive(key) {\n",
              "          const element = document.querySelector('#df-8f8a4509-4e94-40a7-86fc-924c0495dde3');\n",
              "          const dataTable =\n",
              "            await google.colab.kernel.invokeFunction('convertToInteractive',\n",
              "                                                     [key], {});\n",
              "          if (!dataTable) return;\n",
              "\n",
              "          const docLinkHtml = 'Like what you see? Visit the ' +\n",
              "            '<a target=\"_blank\" href=https://colab.research.google.com/notebooks/data_table.ipynb>data table notebook</a>'\n",
              "            + ' to learn more about interactive tables.';\n",
              "          element.innerHTML = '';\n",
              "          dataTable['output_type'] = 'display_data';\n",
              "          await google.colab.output.renderOutput(dataTable, element);\n",
              "          const docLink = document.createElement('div');\n",
              "          docLink.innerHTML = docLinkHtml;\n",
              "          element.appendChild(docLink);\n",
              "        }\n",
              "      </script>\n",
              "    </div>\n",
              "  </div>\n",
              "  "
            ]
          },
          "metadata": {},
          "execution_count": 10
        }
      ],
      "source": [
        "dfClassificacao.describe()"
      ]
    },
    {
      "cell_type": "markdown",
      "metadata": {
        "id": "k3dSCowT9S74"
      },
      "source": [
        "In a brief analysis, it is noticed that there are possible operational errors that can generate noise in the classification model, allowing them to be considered outliers.\n",
        "\n",
        "A clear example is the loss percentage. There are percentages that tend to 100%, which does not occur in this process; there are also percentages that tend to 0% - same situation.\n",
        "\n",
        "So let's remove the instances with losses above 40%."
      ]
    },
    {
      "cell_type": "code",
      "execution_count": null,
      "metadata": {
        "id": "eVxEJTPL9zoL"
      },
      "outputs": [],
      "source": [
        "dfClassificacao = dfClassificacao.drop(dfClassificacao[dados['PERCENTUAL'] >= 40].index)"
      ]
    },
    {
      "cell_type": "markdown",
      "metadata": {
        "id": "CpxYef71-EaQ"
      },
      "source": [
        "Afterwards, let's check again through the *boxplot*."
      ]
    },
    {
      "cell_type": "code",
      "execution_count": null,
      "metadata": {
        "colab": {
          "base_uri": "https://localhost:8080/",
          "height": 448
        },
        "id": "ETCKYU_c-J9j",
        "outputId": "b6fcb32f-07bf-41cc-b95e-8d7323201ce3"
      },
      "outputs": [
        {
          "output_type": "execute_result",
          "data": {
            "text/plain": [
              "<Axes: >"
            ]
          },
          "metadata": {},
          "execution_count": 9
        },
        {
          "output_type": "display_data",
          "data": {
            "text/plain": [
              "<Figure size 640x480 with 1 Axes>"
            ],
            "image/png": "[encoded data removed]"
          },
          "metadata": {}
        }
      ],
      "source": [
        "dfClassificacao.boxplot(column =['PERCENTUAL'], grid = True)"
      ]
    },
    {
      "cell_type": "markdown",
      "metadata": {
        "id": "OMoSmpiQ-Xwc"
      },
      "source": [
        "Now we can return to the creation of the attribute *INTERVALOPERDA*, establishing different intervals of loss percentages:\n",
        "\n",
        "CLASS | INTERVAL\n",
        "--- | ---\n",
        "1 | less than 10%\n",
        "2 | between 10% and 20%\n",
        "3 | between 20% and 30%\n",
        "4 | more than 30%"
      ]
    },
    {
      "cell_type": "code",
      "execution_count": null,
      "metadata": {
        "id": "1_scqdvP_rZP"
      },
      "outputs": [],
      "source": [
        "for i, linha in dfClassificacao.iterrows():\n",
        "  if (linha['PERCENTUAL'] <= 10):\n",
        "    dfClassificacao.loc[i, 'INTERVALOPERDA'] = 1;\n",
        "  elif ((linha['PERCENTUAL'] > 10) and (linha['PERCENTUAL'] <= 20)):\n",
        "    dfClassificacao.loc[i, 'INTERVALOPERDA'] = 2;\n",
        "  elif ((linha['PERCENTUAL'] > 20) and (linha['PERCENTUAL'] <= 30)):\n",
        "    dfClassificacao.loc[i, 'INTERVALOPERDA'] = 3;\n",
        "  else:\n",
        "    dfClassificacao.loc[i, 'INTERVALOPERDA'] = 4;"
      ]
    },
    {
      "cell_type": "markdown",
      "metadata": {
        "id": "kJo0hEjXUU3u"
      },
      "source": [
        "Once the *INTERVALOPERDA* attribute is created, let's remove the attributes that will not be important for the creation of the learning models - more specifically, the classification.\n",
        "\n",
        "In this sense, we will remove the stack identification (*PILHA*), the dates (*DATA_INICIO* and *DATA_FIM*, the output weight (*TOT_SAID*), the difference between the input and output totals (*DIFERENCA*) , the amount reversed (*ESTORNO*) and the percentage (*PERCENTUAL*).\n",
        "\n",
        "Thus, we make it clear that the class we want to predict is the *INTERVALOPERDA*, just created, which contains the interval (in percentage) of wood weight loss."
      ]
    },
    {
      "cell_type": "code",
      "execution_count": null,
      "metadata": {
        "id": "ln9OmaUNUyfG"
      },
      "outputs": [],
      "source": [
        "dfClassificacao = dfClassificacao.drop([\"PILHA\", \"DATA_INICIO\", \"DATA_FIM\", \"TOT_SAID\", \"DIFERENCA\", \"ESTORNO\", \"PERCENTUAL\"], axis=1)"
      ]
    },
    {
      "cell_type": "markdown",
      "metadata": {
        "id": "nDWfMrp2pE2-"
      },
      "source": [
        "After creating the attribute (class) that will be our target, and removing the attributes that will not be predictors of our models, we will check the balance of the dataset."
      ]
    },
    {
      "cell_type": "code",
      "execution_count": null,
      "metadata": {
        "colab": {
          "base_uri": "https://localhost:8080/"
        },
        "id": "zHOCrgJPpllu",
        "outputId": "3c4abeec-e14c-44bc-e144-08ebf52a4c73"
      },
      "outputs": [
        {
          "output_type": "stream",
          "name": "stdout",
          "text": [
            "1.0    288\n",
            "2.0    142\n",
            "3.0     43\n",
            "4.0     14\n",
            "Name: INTERVALOPERDA, dtype: int64\n"
          ]
        }
      ],
      "source": [
        "print(dfClassificacao['INTERVALOPERDA'].value_counts())"
      ]
    },
    {
      "cell_type": "markdown",
      "metadata": {
        "id": "BMzbjanopy55"
      },
      "source": [
        "We can clearly observe that the largest number of instances is represented in classes 1 and 2, that is, the vast majority of the piles present in the dataset have a weight loss (due to the loss of moisture content) of less than 20%.\n",
        "\n",
        "We will verify the integrity of these data, analyzing the moisture losses from the piles in relation to the number of days that the logs remained stored (in the same piles)."
      ]
    },
    {
      "cell_type": "code",
      "execution_count": null,
      "metadata": {
        "colab": {
          "base_uri": "https://localhost:8080/"
        },
        "id": "e7X6S35iqHZu",
        "outputId": "d5bf6248-067d-4970-ec25-1993f317b2b4"
      },
      "outputs": [
        {
          "output_type": "stream",
          "name": "stdout",
          "text": [
            "count    487.000000\n",
            "mean      81.266940\n",
            "std       68.858645\n",
            "min        0.000000\n",
            "25%       22.000000\n",
            "50%       68.000000\n",
            "75%      127.000000\n",
            "max      425.000000\n",
            "Name: QTD_DIAS, dtype: float64\n"
          ]
        }
      ],
      "source": [
        "print(dfClassificacao['QTD_DIAS'].describe())"
      ]
    },
    {
      "cell_type": "markdown",
      "metadata": {
        "id": "0qZGUL4sqaNr"
      },
      "source": [
        "Considering, then, that when it comes to loss of moisture content in wood stored outdoors (*natural drying*) 20% is a small percentage, it can be easily inferred that these logs, due to the large number of days average battery life (81 days), had already been cut longer."
      ]
    },
    {
      "cell_type": "markdown",
      "metadata": {
        "id": "iQrV5sGVIY5k"
      },
      "source": [
        "As there are non-numeric predictor attributes, we need to treat them, transforming them into numerical attributes so that we can proceed with the training of the learning models (in Weka, in R and in other environments/languages, this transformation is not necessary, but it is need to analyze possible differences in the prediction result).\n",
        "\n",
        "Let's do the *one-hot-encoding* for categorical attributes that don't have any need for sorting, like product, bark, and species."
      ]
    },
    {
      "cell_type": "code",
      "execution_count": null,
      "metadata": {
        "id": "ybIpFNznJGrp"
      },
      "outputs": [],
      "source": [
        "atributos_a_codificar = ['PRODUTO', 'CASCA', 'ESPECIE', 'DIAMETRO']\n",
        "\n",
        "atributos_codificados = pandas.get_dummies(dfClassificacao[atributos_a_codificar])\n",
        "\n",
        "dfClassificacao = dfClassificacao.drop(atributos_a_codificar, axis=1).join(atributos_codificados)"
      ]
    },
    {
      "cell_type": "markdown",
      "metadata": {
        "id": "tEEosQa6lmsP"
      },
      "source": [
        "Before the next step, it's time to remove the class (*INTERVALOPERDA* attritube) and prepare the dataset to be splitted."
      ]
    },
    {
      "cell_type": "code",
      "execution_count": null,
      "metadata": {
        "id": "V5ApgvegFr4g"
      },
      "outputs": [],
      "source": [
        "dfClassificacaoTrain = dfClassificacao.drop([\"INTERVALOPERDA\"], axis=1)"
      ]
    },
    {
      "cell_type": "markdown",
      "metadata": {
        "id": "IZXhmAHDWgjO"
      },
      "source": [
        "The dataset has not yet been partitioned. The tendency is for the partitions to reproduce the general behavior of the dataset.\n",
        "\n",
        "But since we want to create generalists prediction models, that is, models that can be applied to any business that has the same data available, we need to test the created models several times and also apply some statistic tests.\n",
        "\n",
        "Before that, we need to ensure the reproducibility of the experiment. Let's do this by setting some seeds. We decided to create 10 different seeds, so that our data will be chosen differently in 10 consecutive times. Such creation will help us to verify through some metrics that will allow us to carry out more in-depth statistical analysis.\n",
        "\n",
        "First, let's create the 10 seeds."
      ]
    },
    {
      "cell_type": "code",
      "source": [
        "lista_seeds = [1, 10, 100, 500, 1000, 10000, 50000, 100000, 500000, 1000000]"
      ],
      "metadata": {
        "id": "taRkJAFOpUzY"
      },
      "execution_count": null,
      "outputs": []
    },
    {
      "cell_type": "markdown",
      "source": [
        "The next step is to iterate between the different seeds, partitioning the dataset with 80% of the data separated for training, and 20% for testing.\n",
        "\n",
        "For each data, we instantiate the classification models using some algorithms. We will use *Random Forest* (RF), *Logistic Regression* (LR), *Support Vector Machines* (SVM), *Gaussian Naive Bayes* (NB), *AdaBoost* (AB), *Gradient Boost* (GB) and *Multi-Layer Perceptrons* (MLP)."
      ],
      "metadata": {
        "id": "OiMRSgMJTFvc"
      }
    },
    {
      "cell_type": "code",
      "source": [
        "dados_treino, dados_teste, classe_treino, classe_teste = {}\n",
        "rf, lr, csvm, nb, ab, gb, mlp = {}\n",
        "\n",
        "for seed in lista_seeds:\n",
        "    dados_treino[seed], dados_teste[seed], classe_treino[seed], classe_teste[seed] = createDataPartition(dfClassificacaoTrain, dfClassificacao['INTERVALOPERDA'], test_size=0.2, random_state=seed)\n",
        "\n",
        "    rf[seed] = RandomForestClassifier()\n",
        "    lr[seed] = LogisticRegression()\n",
        "    csvm[seed] = svm.LinearSVC()\n",
        "    nb[seed] = GaussianNB()\n",
        "    ab[seed] = AdaBoostClassifier()\n",
        "    gb[seed] = GradientBoostingClassifier()\n",
        "    mlp[seed] = MLPClassifier()"
      ],
      "metadata": {
        "id": "pPNnTSune3Vq"
      },
      "execution_count": null,
      "outputs": []
    },
    {
      "cell_type": "markdown",
      "source": [
        "Once the models are instantiated, we will train the classification model with the data already biased towards supervised learning - classification. After the training step (using both the training data and the training class), the next step is to verify the predictions, that is, what in fact the created models were able to learn from the available data."
      ],
      "metadata": {
        "id": "372raD-ix-Qs"
      }
    },
    {
      "cell_type": "code",
      "source": [
        "predicoes_rf, predicoes_lr, predicoes_svm, predicoes_nb, predicoes_ab, predicoes_gb, predicoes_mlp = {}\n",
        "\n",
        "for seed in lista_seeds:\n",
        "    rf.fit(dados_treino[seed], classe_treino[seed])\n",
        "    lr.fit(dados_treino[seed], classe_treino[seed])\n",
        "    csvm.fit(dados_treino[seed], classe_treino[seed])\n",
        "    nb.fit(dados_treino[seed], classe_treino[seed])\n",
        "    ab.fit(dados_treino[seed], classe_treino[seed])\n",
        "    gb.fit(dados_treino[seed], classe_treino[seed])\n",
        "    mlp.fit(dados_treino[seed], classe_treino[seed])\n",
        "\n",
        "    predicoes_rf[seed] = rf[seed].predict(dados_teste[seed])\n",
        "    predicoes_lr[seed] = lr[seed].predict(dados_teste[seed])\n",
        "    predicoes_svm[seed] = csvm[seed].predict(dados_teste[seed])\n",
        "    predicoes_nb[seed] = nb[seed].predict(dados_teste[seed])\n",
        "    predicoes_ab[seed] = ab[seed].predict(dados_teste[seed])\n",
        "    predicoes_gb[seed] = gb[seed].predict(dados_teste[seed])\n",
        "    predicoes_mlp[seed] = mlp[seed].predict(dados_teste[seed])"
      ],
      "metadata": {
        "id": "9MtbyMkkyN9A"
      },
      "execution_count": null,
      "outputs": []
    },
    {
      "cell_type": "markdown",
      "source": [
        "After that, we need to create the arrays that will save the evaluation metrics (accuracy¹, precision, recall and F1-score) of each generated model in an array, to test it later. We also will save the classification report and the confusion matrix of each generated model.\n",
        "\n",
        "¹ it is important to keep in mind that, although accuracy is the proportion of correct predictions in relation to the total number of predictions, it is a simple metric, that is, it may not always be the most suitable metric - especially in unbalanced datasets (like this one).\n",
        "\n",
        "Finally, after that, we save the evaluation metrics into the (already created) arrays."
      ],
      "metadata": {
        "id": "zr0FZ3oRy9kp"
      }
    },
    {
      "cell_type": "code",
      "source": [
        "accuracy_default, precision_default, recall_default, f1_default = {}\n",
        "cm_default, clasreport_default = {}\n",
        "\n",
        "for seed in lista_seeds:\n",
        "    cm_default[seed] = {\n",
        "        'Random Forest': confusion_matrix(classe_teste[seed], predicoes_rf[seed]),\n",
        "        'Logistic Regression': confusion_matrix(classe_teste[seed], predicoes_lr[seed]),\n",
        "        'Linear SVM': confusion_matrix(classe_teste[seed], predicoes_svm[seed]),\n",
        "        'Gaussian Naive Bayes': confusion_matrix(classe_teste[seed], predicoes_nb[seed]),\n",
        "        'AdaBoost': confusion_matrix(classe_teste[seed], predicoes_ab[seed]),\n",
        "        'Gradient Boosting': confusion_matrix(classe_teste[seed], predicoes_gb[seed]),\n",
        "        'MLP': confusion_matrix(classe_teste[seed], predicoes_mlp[seed])\n",
        "    }\n",
        "\n",
        "    clasreport_default[seed] = {\n",
        "        'Random Forest': classification_report(classe_teste[seed], predicoes_rf[seed]),\n",
        "        'Logistic Regression': classification_report(classe_teste[seed], predicoes_lr[seed]),\n",
        "        'Linear SVM': classification_report(classe_teste[seed], predicoes_svm[seed]),\n",
        "        'Gaussian Naive Bayes': classification_report(classe_teste[seed], predicoes_nb[seed]),\n",
        "        'AdaBoost': classification_report(classe_teste[seed], predicoes_ab[seed]),\n",
        "        'Gradient Boosting': classification_report(classe_teste[seed], predicoes_gb[seed]),\n",
        "        'MLP': classification_report(classe_teste[seed], predicoes_mlp[seed])\n",
        "    }\n",
        "\n",
        "    accuracy_default[seed] = {\n",
        "        'Random Forest': accuracy_score(classe_teste[seed], predicoes_rf[seed]),\n",
        "        'Logistic Regression': accuracy_score(classe_teste[seed], predicoes_lr[seed]),\n",
        "        'Linear SVM': accuracy_score(classe_teste[seed], predicoes_svm[seed]),\n",
        "        'Gaussian Naive Bayes': accuracy_score(classe_teste[seed], predicoes_nb[seed]),\n",
        "        'AdaBoost': accuracy_score(classe_teste[seed], predicoes_ab[seed]),\n",
        "        'Gradient Boosting': accuracy_score(classe_teste[seed], predicoes_gb[seed]),\n",
        "        'MLP': accuracy_score(classe_teste[seed], predicoes_mlp[seed])\n",
        "    }\n",
        "\n",
        "    precision_default[seed] = {\n",
        "        'Random Forest': precision_score(classe_teste[seed], predicoes_rf[seed], average='weighted'),\n",
        "        'Logistic Regression': precision_score(classe_teste[seed], predicoes_lr[seed], average='weighted'),\n",
        "        'Linear SVM': precision_score(classe_teste[seed], predicoes_svm[seed], average='weighted'),\n",
        "        'Gaussian Naive Bayes': precision_score(classe_teste[seed], predicoes_nb[seed], average='weighted'),\n",
        "        'AdaBoost': precision_score(classe_teste[seed], predicoes_ab[seed], average='weighted'),\n",
        "        'Gradient Boosting': precision_score(classe_teste[seed], predicoes_gb[seed], average='weighted'),\n",
        "        'MLP': precision_score(classe_teste[seed], predicoes_mlp[seed], average='weighted')\n",
        "    }\n",
        "\n",
        "    recall_default[seed] = {\n",
        "        'Random Forest': recall_score(classe_teste[seed], predicoes_rf[seed], average='weighted'),\n",
        "        'Logistic Regression': recall_score(classe_teste[seed], predicoes_lr[seed], average='weighted'),\n",
        "        'Linear SVM': recall_score(classe_teste[seed], predicoes_svm[seed], average='weighted'),\n",
        "        'Gaussian Naive Bayes': recall_score(classe_teste[seed], predicoes_nb[seed], average='weighted'),\n",
        "        'AdaBoost': recall_score(classe_teste[seed], predicoes_ab[seed], average='weighted'),\n",
        "        'Gradient Boosting': recall_score(classe_teste[seed], predicoes_gb[seed], average='weighted'),\n",
        "        'MLP': recall_score(classe_teste[seed], predicoes_mlp[seed], average='weighted')\n",
        "    }\n",
        "\n",
        "    f1_default[seed] = {\n",
        "        'Random Forest': f1_score(classe_teste[seed], predicoes_rf[seed], average='weighted'),\n",
        "        'Logistic Regression': f1_score(classe_teste[seed], predicoes_lr[seed], average='weighted'),\n",
        "        'Linear SVM': f1_score(classe_teste[seed], predicoes_svm[seed], average='weighted'),\n",
        "        'Gaussian Naive Bayes': f1_score(classe_teste[seed], predicoes_nb[seed], average='weighted'),\n",
        "        'AdaBoost': f1_score(classe_teste[seed], predicoes_ab[seed], average='weighted'),\n",
        "        'Gradient Boosting': f1_score(classe_teste[seed], predicoes_gb[seed], average='weighted'),\n",
        "        'MLP': f1_score(classe_teste[seed], predicoes_mlp[seed], average='weighted')\n",
        "    }"
      ],
      "metadata": {
        "id": "09nXyj0Fyhri"
      },
      "execution_count": null,
      "outputs": []
    },
    {
      "cell_type": "markdown",
      "source": [
        "The next step is similar to the previous one, but we will tune the hyperparamethers of each algorithm in order to find better results. To find the best tuning that is possible, we will use the GridSearchCV library.\n",
        "\n",
        "At first, we will stablish an universe of possibilities (different values) for each hyperparamether of each algorithm."
      ],
      "metadata": {
        "id": "KzJY0Gjh23sQ"
      }
    },
    {
      "cell_type": "code",
      "source": [
        "gridCV_rf = {\n",
        "  \t'n_estimators': [5, 10, 100],\n",
        "\t\t'max_features': ['sqrt', 'log2'],\n",
        "\t\t'max_depth': [5, 10, 15],\n",
        "\t\t'max_leaf_nodes': [3, 9, 15]\n",
        "}\n",
        "\n",
        "gridCV_lr = {\n",
        "\t\t'C': [0.1, 1, 100],\n",
        "\t\t'max_iter': [100, 1000, 100000],\n",
        "\t\t'multi_class': ['auto', 'ovr', 'multinomial']\n",
        "}\n",
        "\n",
        "gridCV_svm = {\n",
        "\t\t'C': [0.1, 1, 100],\n",
        "\t\t'max_iter': [100, 1000, 50000]\n",
        "}\n",
        "\n",
        "gridCV_naivebyes = {\n",
        "\t\t'var_smoothing': numpy.logspace(0,-9, num=100)\n",
        "}\n",
        "\n",
        "gridCV_adaboost = {\n",
        "  \t'n_estimators': [1, 10, 100],\n",
        "\t\t'algorithm': ['SAMME', 'SAMME.R']\n",
        "}\n",
        "\n",
        "gridCV_gradientboost = {\n",
        "  \t'learning_rate': [0.01, 0.05, 0.1, 0.2, 0.5],\n",
        "\t\t'max_depth': [3, 9, 15],\n",
        "\t\t'n_estimators': [1, 10, 100]\n",
        "}\n",
        "\n",
        "gridCV_MLP = {\n",
        "\t\t'max_iter': [100, 1000, 10000],\n",
        "  \t'hidden_layer_sizes': [(150, 100, 50), (40, 80, 120), (100, 150, 30), (50, 50, 50)],\n",
        "    'activation': ['tanh', 'relu', 'logistic'],\n",
        "    'solver': ['sgd', 'adam', 'lbfgs'],\n",
        "    'learning_rate': ['constant', 'adaptive']\n",
        "}"
      ],
      "metadata": {
        "id": "MsjtRVGqh1sF"
      },
      "execution_count": null,
      "outputs": []
    },
    {
      "cell_type": "markdown",
      "source": [
        "At this point, we are ready to iterate again between the seeds, finding the best tuning of each hyperparamether, of each algorithm, on each seed.\n",
        "\n",
        "Having the best tuning options for each algorithm, it's time to develop the models taking these hyperparameters as training-rules. We will do this by training again our models, but now with the best tune option, given by the GridSearchCV.\n",
        "\n",
        "After that, we will save the best tuning into an array.\n"
      ],
      "metadata": {
        "id": "9t86gDFK3m0s"
      }
    },
    {
      "cell_type": "code",
      "source": [
        "best_tuning_default = {}\n",
        "grid_rf, grid_lr, grid_svm, grid_nb, grid_ab, grid_gb, grid_mlp = {}\n",
        "\n",
        "for seed in lista_seeds:\n",
        "    grid_rf[seed] = GridSearchCV(rf[seed], param_grid=gridCV_rf, cv=5)\n",
        "    grid_lr[seed] = GridSearchCV(lr[seed], param_grid=gridCV_lr, cv=5)\n",
        "    grid_svm[seed] = GridSearchCV(csvm[seed], param_grid=gridCV_svm, cv=5)\n",
        "    grid_nb[seed] = GridSearchCV(nb[seed], param_grid=gridCV_naivebyes, cv=5)\n",
        "    grid_ab[seed] = GridSearchCV(ab[seed], param_grid=gridCV_adaboost, cv=5)\n",
        "    grid_gb[seed] = GridSearchCV(gb[seed], param_grid=gridCV_gradientboost, cv=5)\n",
        "    grid_mlp[seed] = GridSearchCV(mlp[seed], param_grid=gridCV_MLP, cv=5)\n",
        "\n",
        "    grid_rf[seed].fit(dados_treino[seed], classe_treino[seed])\n",
        "    grid_lr[seed].fit(dados_treino[seed], classe_treino[seed])\n",
        "    grid_svm[seed].fit(dados_treino[seed], classe_treino[seed])\n",
        "    grid_nb[seed].fit(dados_treino[seed], classe_treino[seed])\n",
        "    grid_ab[seed].fit(dados_treino[seed], classe_treino[seed])\n",
        "    grid_gb[seed].fit(dados_treino[seed], classe_treino[seed])\n",
        "    grid_mlp[seed].fit(dados_treino[seed], classe_treino[seed])\n",
        "\n",
        "    best_tuning_default[seed] = {\n",
        "        'Random Forest': grid_rf[seed].best_estimator_,\n",
        "        'Logistic Regression': grid_lr[seed].best_estimator_,\n",
        "        'Linear SVM': grid_svm[seed].best_estimator_,\n",
        "        'Gaussian Naive Bayes': grid_nb[seed].best_estimator_,\n",
        "        'AdaBoost': grid_ab[seed].best_estimator_,\n",
        "        'Gradient Boosting': grid_gb[seed].best_estimator_,\n",
        "        'MLP': grid_mlp[seed].best_estimator_\n",
        "    }"
      ],
      "metadata": {
        "id": "dHjA3TOh6DW1"
      },
      "execution_count": null,
      "outputs": []
    },
    {
      "cell_type": "markdown",
      "source": [
        "At this point, we already know the best tune of each one. So, let's train again our models, giving it the option to know its best hyperparamethers and set them."
      ],
      "metadata": {
        "id": "rpqeJ6E267Xz"
      }
    },
    {
      "cell_type": "code",
      "source": [
        "rf_tuned, lr_tuned, csvm_tuned, nb_tuned, ab_tuned, gb_tuned, mlp_tuned = {}\n",
        "\n",
        "for seed in lista_seeds:\n",
        "    rf_tuned[seed] = grid_rf[seed].best_estimator_\n",
        "    lr_tuned[seed] = grid_lr[seed].best_estimator_\n",
        "    csvm_tuned[seed] = grid_svm[seed].best_estimator_\n",
        "    nb_tuned[seed] = grid_nb[seed].best_estimator_\n",
        "    ab_tuned[seed] = grid_ab[seed].best_estimator_\n",
        "    gb_tuned[seed] = grid_gb[seed].best_estimator_\n",
        "    mlp_tuned[seed] = grid_mlp[seed].best_estimator_\n",
        "\n",
        "    rf_tuned[seed].fit(dados_treino[seed], classe_treino[seed])\n",
        "    lr_tuned[seed].fit(dados_treino[seed], classe_treino[seed])\n",
        "    csvm_tuned[seed].fit(dados_treino[seed], classe_treino[seed])\n",
        "    nb_tuned[seed].fit(dados_treino[seed], classe_treino[seed])\n",
        "    ab_tuned[seed].fit(dados_treino[seed], classe_treino[seed])\n",
        "    gb_tuned[seed].fit(dados_treino[seed], classe_treino[seed])\n",
        "    mlp_tuned[seed].fit(dados_treino[seed], classe_treino[seed])"
      ],
      "metadata": {
        "id": "juEJ60Pg6vtf"
      },
      "execution_count": null,
      "outputs": []
    },
    {
      "cell_type": "markdown",
      "source": [
        "After that, we will get the predictions of each model (setup default-tuned) for each seed."
      ],
      "metadata": {
        "id": "f_K4FUZLNysw"
      }
    },
    {
      "cell_type": "code",
      "source": [
        "predicoes_rf_tuned, predicoes_lr_tuned, predicoes_svm_tuned, predicoes_nb_tuned, predicoes_ab_tuned, predicoes_gb_tuned, predicoes_mlp_tuned = {}\n",
        "\n",
        "for seed in lista_seeds:\n",
        "    predicoes_rf_tuned[seed] = rf_tuned[seed].predict(dados_teste[seed])\n",
        "    predicoes_lr_tuned[seed] = lr_tuned[seed].predict(dados_teste[seed])\n",
        "    predicoes_svm_tuned[seed] = csvm_tuned[seed].predict(dados_teste[seed])\n",
        "    predicoes_nb_tuned[seed] = nb_tuned[seed].predict(dados_teste[seed])\n",
        "    predicoes_ab_tuned[seed] = ab_tuned[seed].predict(dados_teste[seed])\n",
        "    predicoes_gb_tuned[seed] = gb_tuned[seed].predict(dados_teste[seed])\n",
        "    predicoes_mlp_tuned[seed] = mlp_tuned[seed].predict(dados_teste[seed])"
      ],
      "metadata": {
        "id": "DhRfvvM0N57r"
      },
      "execution_count": null,
      "outputs": []
    },
    {
      "cell_type": "markdown",
      "source": [
        "Now, we will save the evaluation metrics of the tuned models."
      ],
      "metadata": {
        "id": "cj6FxVHK7oVl"
      }
    },
    {
      "cell_type": "code",
      "source": [
        "cm_default_tuned, clasreport_default_tuned = {}\n",
        "accuracy_default_tuned, precision_default_tuned, recall_default_tuned, f1_default_tuned = {}\n",
        "\n",
        "for seed in lista_seeds:\n",
        "    cm_default_tuned[seed] = {\n",
        "        'Random Forest': confusion_matrix(classe_teste[seed], predicoes_rf_tuned[seed]),\n",
        "        'Logistic Regression': confusion_matrix(classe_teste[seed], predicoes_lr_tuned[seed]),\n",
        "        'Linear SVM': confusion_matrix(classe_teste[seed], predicoes_svm_tuned[seed]),\n",
        "        'Gaussian Naive Bayes': confusion_matrix(classe_teste[seed], predicoes_nb_tuned[seed]),\n",
        "        'AdaBoost': confusion_matrix(classe_teste[seed], predicoes_ab_tuned[seed]),\n",
        "        'Gradient Boosting': confusion_matrix(classe_teste[seed], predicoes_gb_tuned[seed]),\n",
        "        'MLP': confusion_matrix(classe_teste[seed], predicoes_mlp_tuned[seed])\n",
        "    }\n",
        "\n",
        "    clasreport_default_tuned[seed] = {\n",
        "        'Random Forest': classification_report(classe_teste[seed], predicoes_rf_tuned[seed]),\n",
        "        'Logistic Regression': classification_report(classe_teste[seed], predicoes_lr_tuned[seed]),\n",
        "        'Linear SVM': classification_report(classe_teste[seed], predicoes_svm_tuned[seed]),\n",
        "        'Gaussian Naive Bayes': classification_report(classe_teste[seed], predicoes_nb_tuned[seed]),\n",
        "        'AdaBoost': classification_report(classe_teste[seed], predicoes_ab_tuned[seed]),\n",
        "        'Gradient Boosting': classification_report(classe_teste[seed], predicoes_gb_tuned[seed]),\n",
        "        'MLP': classification_report(classe_teste[seed], predicoes_mlp_tuned[seed])\n",
        "    }\n",
        "\n",
        "    accuracy_default_tuned[seed] = {\n",
        "        'Random Forest': accuracy_score(classe_teste[seed], predicoes_rf_tuned[seed]),\n",
        "        'Logistic Regression': accuracy_score(classe_teste[seed], predicoes_lr_tuned[seed]),\n",
        "        'Linear SVM': accuracy_score(classe_teste[seed], predicoes_svm_tuned[seed]),\n",
        "        'Gaussian Naive Bayes': accuracy_score(classe_teste[seed], predicoes_nb_tuned[seed]),\n",
        "        'AdaBoost': accuracy_score(classe_teste[seed], predicoes_ab_tuned[seed]),\n",
        "        'Gradient Boosting': accuracy_score(classe_teste[seed], predicoes_gb_tuned[seed]),\n",
        "        'MLP': accuracy_score(classe_teste[seed], predicoes_mlp_tuned[seed])\n",
        "    }\n",
        "\n",
        "    precision_default_tuned[seed] = {\n",
        "        'Random Forest': precision_score(classe_teste[seed], predicoes_rf_tuned[seed], average='weighted'),\n",
        "        'Logistic Regression': precision_score(classe_teste[seed], predicoes_lr_tuned[seed], average='weighted'),\n",
        "        'Linear SVM': precision_score(classe_teste[seed], predicoes_svm_tuned[seed], average='weighted'),\n",
        "        'Gaussian Naive Bayes': precision_score(classe_teste[seed], predicoes_nb_tuned[seed], average='weighted'),\n",
        "        'AdaBoost': precision_score(classe_teste[seed], predicoes_ab_tuned[seed], average='weighted'),\n",
        "        'Gradient Boosting': precision_score(classe_teste[seed], predicoes_gb_tuned[seed], average='weighted'),\n",
        "        'MLP': precision_score(classe_teste[seed], predicoes_mlp_tuned[seed], average='weighted')\n",
        "    }\n",
        "\n",
        "    recall_default_tuned[seed] = {\n",
        "        'Random Forest': recall_score(classe_teste, predicoes_rf_tuned, average='weighted'),\n",
        "        'Logistic Regression': recall_score(classe_teste, predicoes_lr_tuned, average='weighted'),\n",
        "        'Linear SVM': recall_score(classe_teste, predicoes_svm_tuned, average='weighted'),\n",
        "        'Gaussian Naive Bayes': recall_score(classe_teste, predicoes_nb_tuned, average='weighted'),\n",
        "        'AdaBoost': recall_score(classe_teste, predicoes_ab_tuned, average='weighted'),\n",
        "        'Gradient Boosting': recall_score(classe_teste, predicoes_gb_tuned, average='weighted'),\n",
        "        'MLP': recall_score(classe_teste, predicoes_mlp_tuned, average='weighted')\n",
        "    }\n",
        "\n",
        "    f1_default_tuned [seed] = {\n",
        "        'Random Forest': f1_score(classe_teste[seed], predicoes_rf_tuned[seed], average='weighted'),\n",
        "        'Logistic Regression': f1_score(classe_teste[seed], predicoes_lr_tuned[seed], average='weighted'),\n",
        "        'Linear SVM': f1_score(classe_teste[seed], predicoes_svm_tuned[seed], average='weighted'),\n",
        "        'Gaussian Naive Bayes': f1_score(classe_teste[seed], predicoes_nb_tuned[seed], average='weighted'),\n",
        "        'AdaBoost': f1_score(classe_teste[seed], predicoes_ab_tuned[seed], average='weighted'),\n",
        "        'Gradient Boosting': f1_score(classe_teste[seed], predicoes_gb_tuned[seed], average='weighted'),\n",
        "        'MLP': f1_score(classe_teste[seed], predicoes_mlp_tuned[seed], average='weighted')\n",
        "    }"
      ],
      "metadata": {
        "id": "eZLs8Wer7bHv"
      },
      "execution_count": null,
      "outputs": []
    },
    {
      "cell_type": "markdown",
      "source": [
        "The next step is about solving the imbalance problem of the dataset and take a look again. To better evaluate our models, we have to test them into a balanced dataset, inserting synthetic instances on it. Let's use the SMOTE library to handle with it.\n",
        "\n",
        "It's important to notice that the process of balancing datasets has some troubles dealing with the categorical attributes. We have to solve it before going ahead. We used the one-hot encoding approach to deal with the categorical data. It roughly turns the categorical possibilities into columns, with binary values, 0 and 1.\n",
        "\n",
        "The SMOTE algorithm treated these attributes as numerical rather than categorical, and so, instead of filling in values 0 or 1, it fills the synthetic instances with values between 0 and 1 (0,73, e.g.). To solve this, we'll use the following strategy: we'll iterate over each categorical column that we've performed the one-hot-encoding (PRODUTO, CASCA, ESPECIE and DIAMETRO), looking for the highest value for each one of them. The column with the highest value will be replaced by the value 1, and the others will be replaced by the value 0.\n",
        "\n",
        "This way, we keep the original characteristics of the dataset closer, even after the classes are unbalanced, forcing SMOTE to work only with numerical attributes.\n",
        "\n",
        "After that, we will train our models with the balanced data, without tuning the hyperparamethers, and get its predictions."
      ],
      "metadata": {
        "id": "Eere2d5P2DwS"
      }
    },
    {
      "cell_type": "code",
      "source": [
        "rf_balanced, lr_balanced, svm_balanced, nb_balanced, ab_balanced, gb_balanced, mlp_balanced = {}\n",
        "predicoes_balanced_rf, predicoes_balanced_lr, predicoes_balanced_svm, predicoes_balanced_nb, predicoes_balanced_ab, predicoes_balanced_gb, predicoes_balanced_mlp = {}\n",
        "\n",
        "produtos = ['PRODUTO_EUCALYPTUS', 'PRODUTO_PINUS']\n",
        "cascas = ['CASCA_NO', 'CASCA_YES']\n",
        "especies = ['ESPECIE_DUNNII', 'ESPECIE_ELLIOTTI', 'ESPECIE_GRANDIS', 'ESPECIE_SALIGNA']\n",
        "diametros = ['DIAMETRO_12 a 20', 'DIAMETRO_14 a 22', 'DIAMETRO_20 a 30', 'DIAMETRO_22 a 32', 'DIAMETRO_30 a 40', 'DIAMETRO_32 a 42', 'DIAMETRO_40 a 60', 'DIAMETRO_8 a 12', 'DIAMETRO_8 a 14', 'DIAMETRO_8 a 20']\n",
        "\n",
        "for seed in lista_seeds:\n",
        "\n",
        "    sm[seed] = SMOTE(sampling_strategy=\"not majority\", random_state=seed)\n",
        "    dados_treino_balanced[seed], classe_treino_balanced[seed] = sm[seed].fit_resample(dados_treino[seed], classe_treino[seed])\n",
        "\n",
        "    for coluna in produtos:\n",
        "        max_value = dados_treino_balanced[seed][coluna].max()\n",
        "        dados_treino_balanced[seed][coluna] = (dados_treino_balanced[seed][coluna] == max_value).astype(int)\n",
        "\n",
        "    for coluna in cascas:\n",
        "        max_value = dados_treino_balanced[seed][coluna].max()\n",
        "        dados_treino_balanced[seed][coluna] = (dados_treino_balanced[seed][coluna] == max_value).astype(int)\n",
        "\n",
        "    for coluna in especies:\n",
        "        max_value = dados_treino_balanced[seed][coluna].max()\n",
        "        dados_treino_balanced[seed][coluna] = (dados_treino_balanced[seed][coluna] == max_value).astype(int)\n",
        "\n",
        "    for coluna in diametros:\n",
        "        max_value = dados_treino_balanced[seed][coluna].max()\n",
        "        dados_treino_balanced[seed][coluna] = (dados_treino_balanced[seed][coluna] == max_value).astype(int)\n",
        "\n",
        "    rf_balanced[seed] = RandomForestClassifier()\n",
        "    lr_balanced[seed] = LogisticRegression()\n",
        "    svm_balanced[seed] = svm.LinearSVC()\n",
        "    nb_balanced[seed] = GaussianNB()\n",
        "    ab_balanced[seed] = AdaBoostClassifier()\n",
        "    gb_balanced[seed] = GradientBoostingClassifier()\n",
        "    mlp_balanced[seed] = MLPClassifier()\n",
        "\n",
        "    rf_balanced[seed].fit(dados_treino_balanced[seed], classe_treino_balanced[seed])\n",
        "    lr_balanced[seed].fit(dados_treino_balanced[seed], classe_treino_balanced[seed])\n",
        "    svm_balanced[seed].fit(dados_treino_balanced[seed], classe_treino_balanced[seed])\n",
        "    nb_balanced[seed].fit(dados_treino_balanced[seed], classe_treino_balanced[seed])\n",
        "    ab_balanced[seed].fit(dados_treino_balanced[seed], classe_treino_balanced[seed])\n",
        "    gb_balanced[seed].fit(dados_treino_balanced[seed], classe_treino_balanced[seed])\n",
        "    mlp_balanced[seed].fit(dados_treino_balanced[seed], classe_treino_balanced[seed])\n",
        "\n",
        "    predicoes_balanced_rf[seed] = rf_balanced[seed].predict(dados_teste[seed])\n",
        "    predicoes_balanced_lr[seed] = lr_balanced[seed].predict(dados_teste[seed])\n",
        "    predicoes_balanced_svm[seed] = svm_balanced[seed].predict(dados_teste[seed])\n",
        "    predicoes_balanced_nb[seed] = nb_balanced[seed].predict(dados_teste[seed])\n",
        "    predicoes_balanced_ab[seed] = ab_balanced[seed].predict(dados_teste[seed])\n",
        "    predicoes_balanced_gb[seed] = gb_balanced[seed].predict(dados_teste[seed])\n",
        "    predicoes_balanced_mlp[seed] = mlp_balanced[seed].predict(dados_teste[seed])"
      ],
      "metadata": {
        "id": "jFQbO6fhyRgN"
      },
      "execution_count": null,
      "outputs": []
    },
    {
      "cell_type": "markdown",
      "source": [
        "After that, we are ready to save the evaluation metrics of the models (setup balanced)."
      ],
      "metadata": {
        "id": "kTICpD1rii_V"
      }
    },
    {
      "cell_type": "code",
      "source": [
        "cm_balanced, clasreport_balanced = {}\n",
        "accuracy_balanced, precision_balanced, recall_balanced, f1_balanced = {}\n",
        "\n",
        "for seed in lista_seeds:\n",
        "    cm_balanced[seed] = {\n",
        "        'Random Forest': confusion_matrix(classe_teste[seed], predicoes_balanced_rf[seed]),\n",
        "        'Logistic Regression': confusion_matrix(classe_teste[seed], predicoes_balanced_lr[seed]),\n",
        "        'Linear SVM': confusion_matrix(classe_teste[seed], predicoes_balanced_svm[seed]),\n",
        "        'Gaussian Naive Bayes': confusion_matrix(classe_teste[seed], predicoes_balanced_nb[seed]),\n",
        "        'AdaBoost': confusion_matrix(classe_teste[seed], predicoes_balanced_ab[seed]),\n",
        "        'Gradient Boosting': confusion_matrix(classe_teste[seed], predicoes_balanced_gb[seed]),\n",
        "        'MLP': confusion_matrix(classe_teste[seed], predicoes_balanced_mlp[seed])\n",
        "    }\n",
        "\n",
        "    clasreport_balanced[seed] = {\n",
        "        'Random Forest': classification_report(classe_teste[seed], predicoes_balanced_rf[seed]),\n",
        "        'Logistic Regression': classification_report(classe_teste[seed], predicoes_balanced_lr[seed]),\n",
        "        'Linear SVM': classification_report(classe_teste[seed], predicoes_balanced_svm[seed]),\n",
        "        'Gaussian Naive Bayes': classification_report(classe_teste[seed], predicoes_balanced_nb[seed]),\n",
        "        'AdaBoost': classification_report(classe_teste[seed], predicoes_balanced_ab[seed]),\n",
        "        'Gradient Boosting': classification_report(classe_teste[seed], predicoes_balanced_gb[seed]),\n",
        "        'MLP': classification_report(classe_teste[seed], predicoes_balanced_mlp[seed])\n",
        "    }\n",
        "\n",
        "    accuracy_balanced[seed] = {\n",
        "        'Random Forest': accuracy_score(classe_teste[seed], predicoes_balanced_rf[seed]),\n",
        "        'Logistic Regression': accuracy_score(classe_teste[seed], predicoes_balanced_lr[seed]),\n",
        "        'Linear SVM': accuracy_score(classe_teste[seed], predicoes_balanced_svm[seed]),\n",
        "        'Gaussian Naive Bayes': accuracy_score(classe_teste[seed], predicoes_balanced_nb[seed]),\n",
        "        'AdaBoost': accuracy_score(classe_teste[seed], predicoes_balanced_ab[seed]),\n",
        "        'Gradient Boosting': accuracy_score(classe_teste[seed], predicoes_balanced_gb[seed]),\n",
        "        'MLP': accuracy_score(classe_teste[seed], predicoes_balanced_mlp[seed])\n",
        "    }\n",
        "\n",
        "    precision_balanced[seed] = {\n",
        "        'Random Forest': precision_score(classe_teste[seed], predicoes_balanced_rf[seed], average='weighted'),\n",
        "        'Logistic Regression': precision_score(classe_teste[seed], predicoes_balanced_lr[seed], average='weighted'),\n",
        "        'Linear SVM': precision_score(classe_teste[seed], predicoes_balanced_svm[seed], average='weighted'),\n",
        "        'Gaussian Naive Bayes': precision_score(classe_teste[seed], predicoes_balanced_nb[seed], average='weighted'),\n",
        "        'AdaBoost': precision_score(classe_teste[seed], predicoes_balanced_ab[seed], average='weighted'),\n",
        "        'Gradient Boosting': precision_score(classe_teste[seed], predicoes_balanced_gb[seed], average='weighted'),\n",
        "        'MLP': precision_score(classe_teste[seed], predicoes_balanced_mlp[seed], average='weighted')\n",
        "    }\n",
        "\n",
        "    recall_balanced[seed] = {\n",
        "        'Random Forest': recall_score(classe_teste[seed], predicoes_balanced_rf[seed], average='weighted'),\n",
        "        'Logistic Regression': recall_score(classe_teste[seed], predicoes_balanced_lr[seed], average='weighted'),\n",
        "        'Linear SVM': recall_score(classe_teste[seed], predicoes_balanced_svm[seed], average='weighted'),\n",
        "        'Gaussian Naive Bayes': recall_score(classe_teste[seed], predicoes_balanced_nb[seed], average='weighted'),\n",
        "        'AdaBoost': recall_score(classe_teste[seed], predicoes_balanced_ab[seed], average='weighted'),\n",
        "        'Gradient Boosting': recall_score(classe_teste[seed], predicoes_balanced_gb[seed], average='weighted'),\n",
        "        'MLP': recall_score(classe_teste[seed], predicoes_balanced_mlp[seed], average='weighted')\n",
        "    }\n",
        "\n",
        "    f1_balanced[seed] = {\n",
        "        'Random Forest': f1_score(classe_teste[seed], predicoes_balanced_rf[seed], average='weighted'),\n",
        "        'Logistic Regression': f1_score(classe_teste[seed], predicoes_balanced_lr[seed], average='weighted'),\n",
        "        'Linear SVM': f1_score(classe_teste[seed], predicoes_balanced_svm[seed], average='weighted'),\n",
        "        'Gaussian Naive Bayes': f1_score(classe_teste[seed], predicoes_balanced_nb[seed], average='weighted'),\n",
        "        'AdaBoost': f1_score(classe_teste[seed], predicoes_balanced_ab[seed], average='weighted'),\n",
        "        'Gradient Boosting': f1_score(classe_teste[seed], predicoes_balanced_gb[seed], average='weighted'),\n",
        "        'MLP': f1_score(classe_teste[seed], predicoes_balanced_mlp[seed], average='weighted')\n",
        "    }"
      ],
      "metadata": {
        "id": "irrtrycHitw7"
      },
      "execution_count": null,
      "outputs": []
    },
    {
      "cell_type": "markdown",
      "source": [
        "Now, it's time to have the last models, on setup balanced-tuned. In this data setup, we'll solve the imbalancing problem and we will tune the models with the best tuning that's possible - using the same strategy: GridSearchCV.\n",
        "\n",
        "So, let's start by looking for the best tuning of each balanced-tuned model, on each seed, and save it into an array."
      ],
      "metadata": {
        "id": "k8rVGkaRjTV9"
      }
    },
    {
      "cell_type": "code",
      "source": [
        "grid_rf_balanced, grid_lr_balanced, grid_svm_balanced, grid_nb_balanced, grid_ab_balanced, grid_gb_balanced, grid_mlp_balanced = {}\n",
        "best_tuning_balanced = {}\n",
        "\n",
        "for seed in lista_seeds:\n",
        "    grid_rf_balanced[seed] = GridSearchCV(rf_balanced[seed], param_grid=gridCV_rf, cv=5)\n",
        "    grid_lr_balanced[seed] = GridSearchCV(lr_balanced[seed], param_grid=gridCV_lr, cv=5)\n",
        "    grid_svm_balanced[seed] = GridSearchCV(svm_balanced[seed], param_grid=gridCV_svm, cv=5)\n",
        "    grid_nb_balanced[seed] = GridSearchCV(nb_balanced[seed], param_grid=gridCV_naivebyes, cv=5)\n",
        "    grid_ab_balanced[seed] = GridSearchCV(ab_balanced[seed], param_grid=gridCV_adaboost, cv=5)\n",
        "    grid_gb_balanced[seed] = GridSearchCV(gb_balanced[seed], param_grid=gridCV_gradientboost, cv=5)\n",
        "    grid_mlp_balanced[seed] = GridSearchCV(mlp_balanced[seed], param_grid=gridCV_MLP, cv=5)\n",
        "\n",
        "    grid_rf_balanced[seed].fit(dados_treino[seed], classe_treino[seed])\n",
        "    grid_lr_balanced[seed].fit(dados_treino[seed], classe_treino[seed])\n",
        "    grid_svm_balanced[seed].fit(dados_treino[seed], classe_treino[seed])\n",
        "    grid_nb_balanced[seed].fit(dados_treino[seed], classe_treino[seed])\n",
        "    grid_ab_balanced[seed].fit(dados_treino[seed], classe_treino[seed])\n",
        "    grid_gb_balanced[seed].fit(dados_treino[seed], classe_treino[seed])\n",
        "    grid_mlp_balanced[seed].fit(dados_treino[seed], classe_treino[seed])\n",
        "\n",
        "    best_tuning_balanced[seed] = {\n",
        "        'Random Forest': grid_rf_balanced[seed].best_estimator_,\n",
        "        'Logistic Regression': grid_lr_balanced[seed].best_estimator_,\n",
        "        'Linear SVM': grid_svm_balanced[seed].best_estimator_,\n",
        "        'Gaussian Naive Bayes': grid_nb_balanced[seed].best_estimator_,\n",
        "        'AdaBoost': grid_ab_balanced[seed].best_estimator_,\n",
        "        'Gradient Boosting': grid_gb_balanced[seed].best_estimator_,\n",
        "        'MLP': grid_mlp_balanced[seed].best_estimator_\n",
        "    }"
      ],
      "metadata": {
        "id": "OpZz_XL3j8yy"
      },
      "execution_count": null,
      "outputs": []
    },
    {
      "cell_type": "markdown",
      "source": [
        "Now that we already know the best tuning of each model on each seed, we will instantiate, train and get the predictions of each balanced-tuned model."
      ],
      "metadata": {
        "id": "Tiqk4CqLkWNU"
      }
    },
    {
      "cell_type": "code",
      "source": [
        "rf_balanced_tuned, lr_balanced_tuned, svm_balanced_tuned, nb_balanced_tuned, ab_balanced_tuned, gb_balanced_tuned, mlp_balanced_tuned = {}\n",
        "predicoes_rf_balanced_tuned, predicoes_lr_balanced_tuned, predicoes_svm_balanced_tuned, predicoes_nb_balanced_tuned, predicoes_ab_balanced_tuned, predicoes_gb_balanced_tuned, predicoes_mlp_balanced_tuned = {}\n",
        "\n",
        "for seed in lista_seeds:\n",
        "    rf_balanced_tuned[seed] = grid_rf_balanced[seed].best_estimator_\n",
        "    lr_balanced_tuned[seed] = grid_lr_balanced[seed].best_estimator_\n",
        "    svm_balanced_tuned[seed] = grid_svm_balanced[seed].best_estimator_\n",
        "    nb_balanced_tuned[seed] = grid_nb_balanced[seed].best_estimator_\n",
        "    ab_balanced_tuned[seed] = grid_ab_balanced[seed].best_estimator_\n",
        "    gb_balanced_tuned[seed] = grid_gb_balanced[seed].best_estimator_\n",
        "    mlp_balanced_tuned[seed] = grid_mlp_balanced[seed].best_estimator_\n",
        "\n",
        "    rf_balanced_tuned[seed].fit(dados_treino[seed], classe_treino[seed])\n",
        "    lr_balanced_tuned[seed].fit(dados_treino[seed], classe_treino[seed])\n",
        "    svm_balanced_tuned[seed].fit(dados_treino[seed], classe_treino[seed])\n",
        "    nb_balanced_tuned[seed].fit(dados_treino[seed], classe_treino[seed])\n",
        "    ab_balanced_tuned[seed].fit(dados_treino[seed], classe_treino[seed])\n",
        "    gb_balanced_tuned[seed].fit(dados_treino[seed], classe_treino[seed])\n",
        "    mlp_balanced_tuned[seed].fit(dados_treino[seed], classe_treino[seed])\n",
        "\n",
        "    predicoes_rf_balanced_tuned[seed] = rf_balanced_tuned[seed].predict(dados_teste[seed])\n",
        "    predicoes_lr_balanced_tuned[seed] = lr_balanced_tuned[seed].predict(dados_teste[seed])\n",
        "    predicoes_svm_balanced_tuned[seed] = svm_balanced_tuned[seed].predict(dados_teste[seed])\n",
        "    predicoes_nb_balanced_tuned[seed] = nb_balanced_tuned[seed].predict(dados_teste[seed])\n",
        "    predicoes_ab_balanced_tuned[seed] = ab_balanced_tuned[seed].predict(dados_teste[seed])\n",
        "    predicoes_gb_balanced_tuned[seed] = gb_balanced_tuned[seed].predict(dados_teste[seed])\n",
        "    predicoes_mlp_balanced_tuned[seed] = mlp_balanced_tuned[seed].predict(dados_teste[seed])"
      ],
      "metadata": {
        "id": "Ycub1giMkbiU"
      },
      "execution_count": null,
      "outputs": []
    },
    {
      "cell_type": "markdown",
      "source": [
        "At last, let's save the metrics of the balanced-tuned models."
      ],
      "metadata": {
        "id": "TSOHGCiLklTE"
      }
    },
    {
      "cell_type": "code",
      "source": [
        "cm_balanced_tuned, clasreport_balanced_tuned = {}\n",
        "accuracy_balanced_tuned, precision_balanced_tuned, recall_balanced_tuned, f1_balanced_tuned = {}\n",
        "\n",
        "for seed in lista_seeds:\n",
        "    cm_balanced_tuned[seed] = {\n",
        "        'Random Forest': confusion_matrix(classe_teste[seed], predicoes_rf_balanced_tuned[seed]),\n",
        "        'Logistic Regression': confusion_matrix(classe_teste[seed], predicoes_lr_balanced_tuned[seed]),\n",
        "        'Linear SVM': confusion_matrix(classe_teste[seed], predicoes_svm_balanced_tuned[seed]),\n",
        "        'Gaussian Naive Bayes': confusion_matrix(classe_teste[seed], predicoes_nb_balanced_tuned[seed]),\n",
        "        'AdaBoost': confusion_matrix(classe_teste[seed], predicoes_ab_balanced_tuned[seed]),\n",
        "        'Gradient Boosting': confusion_matrix(classe_teste[seed], predicoes_gb_balanced_tuned[seed]),\n",
        "        'MLP': confusion_matrix(classe_teste[seed], predicoes_mlp_balanced_tuned[seed])\n",
        "    }\n",
        "\n",
        "    clasreport_balanced_tuned[seed] = {\n",
        "        'Random Forest': classification_report(classe_teste[seed], predicoes_rf_balanced_tuned[seed]),\n",
        "        'Logistic Regression': classification_report(classe_teste[seed], predicoes_lr_balanced_tuned[seed]),\n",
        "        'Linear SVM': classification_report(classe_teste[seed], predicoes_svm_balanced_tuned[seed]),\n",
        "        'Gaussian Naive Bayes': classification_report(classe_teste[seed], predicoes_nb_balanced_tuned[seed]),\n",
        "        'AdaBoost': classification_report(classe_teste[seed], predicoes_ab_balanced_tuned[seed]),\n",
        "        'Gradient Boosting': classification_report(classe_teste[seed], predicoes_gb_balanced_tuned[seed]),\n",
        "        'MLP': classification_report(classe_teste[seed], predicoes_mlp_balanced_tuned[seed])\n",
        "    }\n",
        "\n",
        "    accuracy_balanced_tuned[seed] = {\n",
        "        'Random Forest': accuracy_score(classe_teste[seed], predicoes_rf_balanced_tuned[seed]),\n",
        "        'Logistic Regression': accuracy_score(classe_teste[seed], predicoes_lr_balanced_tuned[seed]),\n",
        "        'Linear SVM': accuracy_score(classe_teste[seed], predicoes_svm_balanced_tuned[seed]),\n",
        "        'Gaussian Naive Bayes': accuracy_score(classe_teste[seed], predicoes_nb_balanced_tuned[seed]),\n",
        "        'AdaBoost': accuracy_score(classe_teste[seed], predicoes_ab_balanced_tuned[seed]),\n",
        "        'Gradient Boosting': accuracy_score(classe_teste[seed], predicoes_gb_balanced_tuned[seed]),\n",
        "        'MLP': accuracy_score(classe_teste[seed], predicoes_mlp_balanced_tuned[seed])\n",
        "    }\n",
        "\n",
        "    precision_balanced_tuned[seed] = {\n",
        "        'Random Forest': precision_score(classe_teste[seed], predicoes_rf_balanced_tuned[seed], average='weighted'),\n",
        "        'Logistic Regression': precision_score(classe_teste[seed], predicoes_lr_balanced_tuned[seed], average='weighted'),\n",
        "        'Linear SVM': precision_score(classe_teste[seed], predicoes_svm_balanced_tuned[seed], average='weighted'),\n",
        "        'Gaussian Naive Bayes': precision_score(classe_teste[seed], predicoes_nb_balanced_tuned[seed], average='weighted'),\n",
        "        'AdaBoost': precision_score(classe_teste[seed], predicoes_ab_balanced_tuned[seed], average='weighted'),\n",
        "        'Gradient Boosting': precision_score(classe_teste[seed], predicoes_gb_balanced_tuned[seed], average='weighted'),\n",
        "        'MLP': precision_score(classe_teste[seed], predicoes_mlp_balanced_tuned[seed], average='weighted')\n",
        "    }\n",
        "\n",
        "    recall_balanced_tuned[seed] = {\n",
        "        'Random Forest': recall_score(classe_teste[seed], predicoes_rf_balanced_tuned[seed], average='weighted'),\n",
        "        'Logistic Regression': recall_score(classe_teste[seed], predicoes_lr_balanced_tuned[seed], average='weighted'),\n",
        "        'Linear SVM': recall_score(classe_teste[seed], predicoes_svm_balanced_tuned[seed], average='weighted'),\n",
        "        'Gaussian Naive Bayes': recall_score(classe_teste[seed], predicoes_nb_balanced_tuned[seed], average='weighted'),\n",
        "        'AdaBoost': recall_score(classe_teste[seed], predicoes_ab_balanced_tuned[seed], average='weighted'),\n",
        "        'Gradient Boosting': recall_score(classe_teste[seed], predicoes_gb_balanced_tuned[seed], average='weighted'),\n",
        "        'MLP': recall_score(classe_teste[seed], predicoes_mlp_balanced_tuned[seed], average='weighted')\n",
        "    }\n",
        "\n",
        "    f1_balanced_tuned [seed] = {\n",
        "        'Random Forest': f1_score(classe_teste[seed], predicoes_rf_balanced_tuned[seed], average='weighted'),\n",
        "        'Logistic Regression': f1_score(classe_teste[seed], predicoes_lr_balanced_tuned[seed], average='weighted'),\n",
        "        'Linear SVM': f1_score(classe_teste[seed], predicoes_svm_balanced_tuned[seed], average='weighted'),\n",
        "        'Gaussian Naive Bayes': f1_score(classe_teste[seed], predicoes_nb_balanced_tuned[seed], average='weighted'),\n",
        "        'AdaBoost': f1_score(classe_teste[seed], predicoes_ab_balanced_tuned[seed], average='weighted'),\n",
        "        'Gradient Boosting': f1_score(classe_teste[seed], predicoes_gb_balanced_tuned[seed], average='weighted'),\n",
        "        'MLP': f1_score(classe_teste[seed], predicoes_mlp_balanced_tuned[seed], average='weighted')\n",
        "    }"
      ],
      "metadata": {
        "id": "51vaLDeSkqbP"
      },
      "execution_count": null,
      "outputs": []
    },
    {
      "cell_type": "code",
      "source": [
        "f1_balanced"
      ],
      "metadata": {
        "id": "7TSFp9E0AmC2"
      },
      "execution_count": null,
      "outputs": []
    },
    {
      "cell_type": "code",
      "source": [
        "f1_balanced_tuned"
      ],
      "metadata": {
        "id": "7v9TwaOWAm_E"
      },
      "execution_count": null,
      "outputs": []
    },
    {
      "cell_type": "code",
      "source": [
        "cm_balanced"
      ],
      "metadata": {
        "id": "IZQQYVdPKNXW"
      },
      "execution_count": null,
      "outputs": []
    },
    {
      "cell_type": "code",
      "source": [
        "cm_balanced_tuned"
      ],
      "metadata": {
        "id": "Fm1n6IciKQjd"
      },
      "execution_count": null,
      "outputs": []
    },
    {
      "cell_type": "code",
      "source": [
        "clasreport_balanced"
      ],
      "metadata": {
        "id": "F9EHgC3WKSSt"
      },
      "execution_count": null,
      "outputs": []
    },
    {
      "cell_type": "code",
      "source": [
        "clasreport_balanced_tuned"
      ],
      "metadata": {
        "id": "cuFlfp4bKUZq"
      },
      "execution_count": null,
      "outputs": []
    },
    {
      "cell_type": "code",
      "source": [
        "best_tuning_balanced"
      ],
      "metadata": {
        "id": "avMSlfmtKVqH"
      },
      "execution_count": null,
      "outputs": []
    },
    {
      "cell_type": "markdown",
      "metadata": {
        "id": "DkWHQEdVyA91"
      },
      "source": [
        "At this point, our classifiers are already trained with different kinds of setups and also different kinds of data.\n",
        "\n",
        "Let's remind.\n",
        "\n",
        "We have 2 kinds of data:\n",
        "- Imbalanced\n",
        "- Balanced (using SMOTE)\n",
        "\n",
        "And we have 2 kinds of tuning (setup of the models):\n",
        "- Default\n",
        "- Tuned (with the best tuning)\n",
        "\n",
        "Now, we are ready to start the evaluation stage of our models. We have, until now, many prediction metrics. We must decide which one is better to solve the prediction of the moisture content variation on wood problem. So, we will start by evaluating empirically the developed models.\n",
        "\n",
        "The classification reports gives us a few metrics that can be observed: accuracy, precision, recall and F1-score.\n",
        "\n",
        "*   *Accuracy* is how close a given set of predictions are to their true value;\n",
        "```\n",
        "(TP + TN) / (TP + TN + FP + FN)\n",
        "```\n",
        "*   *Precision* is the ability of the model not to label as positive a sample that is negative;\n",
        "```\n",
        "TP / (TP + FP)\n",
        "```\n",
        "*   *Recall* is the ability of the model to find all the positive samples;\n",
        "```\n",
        "TP / (TP + FN)\n",
        "```\n",
        "*   *F1* is the harmonic mean between precision and recall.\n",
        "```\n",
        "2 * (PRECISION * RECALL) / (PRECISION + RECALL)\n",
        "```\n",
        "\n",
        "Observing the classification report of our models, we can see some differences, specially about the precision and recall metrics: micro, macro and weighted. It's very important to understand it before making a decision. Here are some brief descriptions:\n",
        "\n",
        "- *micro*: calculates the metric globally, considering all the classes. It's usually recommended to problems that deals with imbalanced classes;\n",
        "\n",
        "- *macro*: calculates the metric for each class, ingoring the balancing of the classes. It's recommended when equal weight is wanted to all classes\n",
        "\n",
        "- *weighted*: calculates the weighted average for each class, given the number of samples in each class. It's recommended when the dataset is imbalanced and more weight to the minority class is wanted.\n",
        "\n",
        "So, we will use the *weighted* average, trying to deal with our imbalanced problem in some sets of data.\n",
        "\n",
        "Let's start by taking the mean values of F1 for each algorithm and ordering it."
      ]
    },
    {
      "cell_type": "code",
      "source": [
        "conjuntos = [f1_default, f1_default_tuned, f1_balanced, f1_balanced_tuned]\n",
        "soma_f1 = {}\n",
        "contador = {}\n",
        "medias = {}\n",
        "\n",
        "for conjunto in conjuntos:\n",
        "    for seed in conjunto.values():\n",
        "        for modelo, valor in seed.items():\n",
        "            if modelo in soma_f1:\n",
        "                soma_f1[modelo] += valor\n",
        "                contador[modelo] += 1\n",
        "            else:\n",
        "                soma_f1[modelo] = valor\n",
        "                contador[modelo] = 1\n",
        "\n",
        "for modelo, soma in soma_f1.items():\n",
        "    medias[modelo] = soma / contador[modelo]\n",
        "\n",
        "modelos_ordenados = sorted(medias.items(), key=lambda x: x[1], reverse=True)\n",
        "\n",
        "for modelo, media in modelos_ordenados:\n",
        "    print(modelo, media)\n"
      ],
      "metadata": {
        "id": "TlB1Ss7d7ytV"
      },
      "execution_count": null,
      "outputs": []
    },
    {
      "cell_type": "markdown",
      "source": [
        "As we can see, considering all the 10 seeds, the Random *Forest* algorithm returned the best mean values of the F1-score. The complete table can be seed below:\n",
        "\n",
        "MODEL | F1-SCORE (mean)\n",
        "--- | ---\n",
        "Random Forest | 0.6897\n",
        "Gradient Boosting | 0.6797\n",
        "Logistic Regression | 0.6329\n",
        "AdaBoost | 0.6009\n",
        "Gaussian Naive Bayes | 0.5802\n",
        "Linear SVM | 0.4013\n",
        "MLP | 0.3708"
      ],
      "metadata": {
        "id": "BGXJzlaH8-gm"
      }
    },
    {
      "cell_type": "markdown",
      "source": [
        "To help us to better understand the performance of the models, let's take a look to some graphs that ease our knowlodge about them. But first, we need to transform our arrays (dictionaries) into dataframes in Pandas format - and also transpose it. It's very simple, as you can see below."
      ],
      "metadata": {
        "id": "0SsEiQNAjUPn"
      }
    },
    {
      "cell_type": "code",
      "source": [
        "df_f1_default = pandas.DataFrame(f1_default)\n",
        "df_f1_default_tuned = pandas.DataFrame(f1_default_tuned)\n",
        "df_f1_balanced = pandas.DataFrame(f1_balanced)\n",
        "df_f1_balanced_tuned = pandas.DataFrame(f1_balanced_tuned)\n",
        "\n",
        "df_default_transposto = df_f1_default.transpose()\n",
        "df_default_tuned_transposto = df_f1_default_tuned.transpose()\n",
        "df_balanced_transposto = df_f1_balanced.transpose()\n",
        "df_balanced_tuned_transposto = df_f1_balanced_tuned.transpose()\n",
        "\n",
        "# from google.colab import files\n",
        "# df_modelos_default.to_csv('modelos_default.csv')\n",
        "# files.download('modelos_default.csv')\n",
        "\n",
        "# df_modelos_default_tuned.to_csv('modelos_default_tuned.csv')\n",
        "# files.download('modelos_default_tuned.csv')\n",
        "\n",
        "# df_modelos_balanced.to_csv('modelos_balanced.csv')\n",
        "# files.download('modelos_balanced.csv')\n",
        "\n",
        "# df_modelos_balanced_tuned.to_csv('modelos_balanced_tuned.csv')\n",
        "# files.download('modelos_balanced_tuned.csv')"
      ],
      "metadata": {
        "id": "jCUHoLH_HfHs"
      },
      "execution_count": null,
      "outputs": []
    },
    {
      "cell_type": "markdown",
      "source": [
        "Now let's see through boxplots the comparative of the models performances for each set of data.\n",
        "\n",
        "At first, let's take a look on the models with default setup and imbalanced data."
      ],
      "metadata": {
        "id": "7wBbee__kKMw"
      }
    },
    {
      "cell_type": "code",
      "source": [
        "rf = df_default_transposto['Random Forest']\n",
        "lr = df_default_transposto['Logistic Regression']\n",
        "svm = df_default_transposto['Linear SVM']\n",
        "nb = df_default_transposto['Gaussian Naive Bayes']\n",
        "ab = df_default_transposto['AdaBoost']\n",
        "gb = df_default_transposto['Gradient Boosting']\n",
        "mlp = df_default_transposto['MLP']\n",
        "\n",
        "algoritmos = ['Random Forest', 'Logistic Regression', 'Linear SVM', 'Gaussian Naive Bayes', 'AdaBoost', 'Gradient Boosting', 'MLP']\n",
        "resultados = [rf, lr, svm, nb, ab, gb, mlp]\n",
        "\n",
        "fig = plt.figure(figsize=(14, 6))\n",
        "plt.boxplot(resultados, labels=algoritmos)\n",
        "\n",
        "plt.title('Performance of different algorithms in imbalanced data and default setup')\n",
        "plt.xlabel('Algorithms')\n",
        "plt.ylabel('F1-score')\n",
        "\n",
        "plt.show()"
      ],
      "metadata": {
        "colab": {
          "base_uri": "https://localhost:8080/",
          "height": 564
        },
        "id": "Qpb8insjLhDY",
        "outputId": "7520710c-7f53-4667-dede-971be32d74e6"
      },
      "execution_count": null,
      "outputs": [
        {
          "output_type": "display_data",
          "data": {
            "text/plain": [
              "<Figure size 1400x600 with 1 Axes>"
            ],
            "image/png": "[encoded data removed]"
          },
          "metadata": {}
        }
      ]
    },
    {
      "cell_type": "markdown",
      "source": [
        "Now, let's see the performances over the imbalanced data and tuned setup (with the best tuning we could find)."
      ],
      "metadata": {
        "id": "RS7Gxk0Zkq-N"
      }
    },
    {
      "cell_type": "code",
      "source": [
        "rf = df_default_tuned_transposto['Random Forest']\n",
        "lr = df_default_tuned_transposto['Logistic Regression']\n",
        "svm = df_default_tuned_transposto['Linear SVM']\n",
        "nb = df_default_tuned_transposto['Gaussian Naive Bayes']\n",
        "ab = df_default_tuned_transposto['AdaBoost']\n",
        "gb = df_default_tuned_transposto['Gradient Boosting']\n",
        "mlp = df_default_tuned_transposto['MLP']\n",
        "\n",
        "algoritmos = ['Random Forest', 'Logistic Regression', 'Linear SVM', 'Gaussian Naive Bayes', 'AdaBoost', 'Gradient Boosting', 'MLP']\n",
        "resultados = [rf, lr, svm, nb, ab, gb, mlp]\n",
        "\n",
        "fig = plt.figure(figsize=(14, 6))\n",
        "plt.boxplot(resultados, labels=algoritmos)\n",
        "\n",
        "plt.title('Performance of different algorithms over imbalanced data and tuned setup')\n",
        "plt.xlabel('Algorithms')\n",
        "plt.ylabel('F1-score')\n",
        "\n",
        "plt.show()"
      ],
      "metadata": {
        "colab": {
          "base_uri": "https://localhost:8080/",
          "height": 564
        },
        "id": "oyKtWCfTLmyv",
        "outputId": "05f02252-f376-4f87-ec62-1c032dc1c285"
      },
      "execution_count": null,
      "outputs": [
        {
          "output_type": "display_data",
          "data": {
            "text/plain": [
              "<Figure size 1400x600 with 1 Axes>"
            ],
            "image/png": "[encoded data removed]"
          },
          "metadata": {}
        }
      ]
    },
    {
      "cell_type": "markdown",
      "source": [
        "Over the balanced data and default setup."
      ],
      "metadata": {
        "id": "HT9EA0KmlCWD"
      }
    },
    {
      "cell_type": "code",
      "source": [
        "rf = df_balanced_transposto['Random Forest']\n",
        "lr = df_balanced_transposto['Logistic Regression']\n",
        "svm = df_balanced_transposto['Linear SVM']\n",
        "nb = df_balanced_transposto['Gaussian Naive Bayes']\n",
        "ab = df_balanced_transposto['AdaBoost']\n",
        "gb = df_balanced_transposto['Gradient Boosting']\n",
        "mlp = df_balanced_transposto['MLP']\n",
        "\n",
        "algoritmos = ['Random Forest', 'Logistic Regression', 'Linear SVM', 'Gaussian Naive Bayes', 'AdaBoost', 'Gradient Boosting', 'MLP']\n",
        "resultados = [rf, lr, svm, nb, ab, gb, mlp]\n",
        "\n",
        "fig = plt.figure(figsize=(14, 6))\n",
        "plt.boxplot(resultados, labels=algoritmos)\n",
        "\n",
        "plt.title('Performance of different algorithms over balanced data and default setup')\n",
        "plt.xlabel('Algorithms')\n",
        "plt.ylabel('F1-score')\n",
        "\n",
        "plt.show()"
      ],
      "metadata": {
        "colab": {
          "base_uri": "https://localhost:8080/",
          "height": 564
        },
        "id": "eBqsec2RL5GA",
        "outputId": "18e0f737-498e-4414-8ee2-4eb81d9d0971"
      },
      "execution_count": null,
      "outputs": [
        {
          "output_type": "display_data",
          "data": {
            "text/plain": [
              "<Figure size 1400x600 with 1 Axes>"
            ],
            "image/png": "[encoded data removed]"
          },
          "metadata": {}
        }
      ]
    },
    {
      "cell_type": "code",
      "source": [
        "rf = df_balanced_tuned_transposto['Random Forest']\n",
        "lr = df_balanced_tuned_transposto['Logistic Regression']\n",
        "svm = df_balanced_tuned_transposto['Linear SVM']\n",
        "nb = df_balanced_tuned_transposto['Gaussian Naive Bayes']\n",
        "ab = df_balanced_tuned_transposto['AdaBoost']\n",
        "gb = df_balanced_tuned_transposto['Gradient Boosting']\n",
        "mlp = df_balanced_tuned_transposto['MLP']\n",
        "\n",
        "algoritmos = ['Random Forest', 'Logistic Regression', 'Linear SVM', 'Gaussian Naive Bayes', 'AdaBoost', 'Gradient Boosting', 'MLP']\n",
        "resultados = [rf, lr, svm, nb, ab, gb, mlp]\n",
        "\n",
        "fig = plt.figure(figsize=(14, 6))\n",
        "plt.boxplot(resultados, labels=algoritmos)\n",
        "\n",
        "plt.title('Performance of different algorithms over balanced data and tuned setup')\n",
        "plt.xlabel('Algorithms')\n",
        "plt.ylabel('F1-score')\n",
        "\n",
        "plt.show()"
      ],
      "metadata": {
        "colab": {
          "base_uri": "https://localhost:8080/",
          "height": 564
        },
        "id": "6nawOqPZQAu6",
        "outputId": "07b793ba-8cbb-433b-f1f6-d5dcec0719d1"
      },
      "execution_count": null,
      "outputs": [
        {
          "output_type": "display_data",
          "data": {
            "text/plain": [
              "<Figure size 1400x600 with 1 Axes>"
            ],
            "image/png": "[encoded data removed]"
          },
          "metadata": {}
        }
      ]
    },
    {
      "cell_type": "code",
      "source": [
        "lista_medias = []\n",
        "\n",
        "for df in [df_default_transposto, df_default_tuned_transposto, df_balanced_transposto, df_balanced_tuned_transposto]:\n",
        "    df_medias = df.mean()\n",
        "    lista_medias.append(df_medias)\n",
        "\n",
        "df_combined_medias = pandas.concat(lista_medias, axis=1)\n",
        "\n",
        "datasets = ['default', 'default tuned', 'balanced', 'balanced tuned']\n",
        "\n",
        "fig = plt.figure(figsize=(14, 6))\n",
        "plt.plot(df_combined_medias)\n",
        "\n",
        "plt.xlabel('Algorithms')\n",
        "plt.ylabel('F1-score (mean)')\n",
        "plt.title('Mean of F1-score metric over each dataset')\n",
        "plt.legend(datasets)\n",
        "\n",
        "plt.show()"
      ],
      "metadata": {
        "colab": {
          "base_uri": "https://localhost:8080/",
          "height": 565
        },
        "id": "_cgzkjT0l-nc",
        "outputId": "ac23ae2b-24c2-42e4-e253-4118423e7ae1"
      },
      "execution_count": null,
      "outputs": [
        {
          "output_type": "display_data",
          "data": {
            "text/plain": [
              "<Figure size 1400x600 with 1 Axes>"
            ],
            "image/png": "[encoded data removed]"
          },
          "metadata": {}
        }
      ]
    },
    {
      "cell_type": "code",
      "source": [
        "import matplotlib.pyplot as plt\n",
        "\n",
        "lista_medias = []\n",
        "\n",
        "for df in [df_default_transposto, df_default_tuned_transposto, df_balanced_transposto, df_balanced_tuned_transposto]:\n",
        "    df_medias = df.mean()\n",
        "    lista_medias.append(df_medias)\n",
        "\n",
        "df_combined_medias = pandas.concat(lista_medias, axis=1)\n",
        "\n",
        "nomes_dataframes = ['df_default', 'df_default_tuned', 'df_balanced', 'df_balanced_tuned']\n",
        "#cores = ['b', 'g', 'r', 'c', 'm', 'y', 'k']\n",
        "marcadores = ['o', 's', '^', 'v', 'D', 'p', '*']\n",
        "\n",
        "fig = plt.figure(figsize=(14, 6))\n",
        "\n",
        "for i, algoritmo in enumerate(df_combined_medias.index):\n",
        "    valores = df_combined_medias.loc[algoritmo]\n",
        "    plt.plot(nomes_dataframes, valores, label=algoritmo, marker=marcadores[i])\n",
        "\n",
        "plt.xlabel('Datasets')\n",
        "plt.ylabel('F1-score (mean)')\n",
        "plt.legend(loc='lower left')\n",
        "plt.title('Mean of the F1-score metric for each algorithm over each dataset')\n",
        "plt.show()"
      ],
      "metadata": {
        "colab": {
          "base_uri": "https://localhost:8080/",
          "height": 565
        },
        "id": "JGrqu-sYDLMq",
        "outputId": "b2a437d8-0837-4714-8343-e167e7e70c59"
      },
      "execution_count": null,
      "outputs": [
        {
          "output_type": "display_data",
          "data": {
            "text/plain": [
              "<Figure size 1400x600 with 1 Axes>"
            ],
            "image/png": "[encoded data removed]"
          },
          "metadata": {}
        }
      ]
    },
    {
      "cell_type": "markdown",
      "source": [
        "To find the better model to solve this problem, we will need a deeper analysis. One interesting analysis we can perform is a statistical test, looking for statistical differences between the models.\n",
        "\n",
        "For this, the commonly used is the Align-Friedman test, a statistical technique also used - among many other purposes - to compare the performance of machine learning models. It's a non-parametric test, applied to data that doesn't perform over a normal distribution (our case). With the Align-Friedman test, we can interpret the *p-value* to determine whether there is a statistically significant difference between the models developed to solve the referred problem.\n",
        "\n",
        "The Align-Friedman test uses the following null and alternative hypotheses:\n",
        "\n",
        "* The null hypothesis (H0): the models performance are equal;\n",
        "* The alternative hypothesis (Ha): at least one model performance is statiscally different from the others.\n",
        "\n",
        "If the *p-value* is less than a predetermined significance level (usually 5%, or 0.05), the null hypothesis (that the models are equal, by they performance) can be rejected, and thus we can conclude that at least one of the models that was developed is significantly better than the others. Otherwise, the null hypothesis cannot be rejected - this means concluding that all models performed similarly. The statistic generated by the test is a measure of how different the compared models are in terms of their average overall rating across all evaluation metrics.\n",
        "\n",
        "So, let's apply this test."
      ],
      "metadata": {
        "id": "CebbALYkuoHY"
      }
    },
    {
      "cell_type": "code",
      "source": [
        "print(\"Teste de Friedman em dataset desbalanceado e setup default: \")\n",
        "pg.friedman(df_f1_default)"
      ],
      "metadata": {
        "colab": {
          "base_uri": "https://localhost:8080/",
          "height": 99
        },
        "id": "4OwAW5cCaq9p",
        "outputId": "61556a18-a4ac-4172-f956-36efc6544c7c"
      },
      "execution_count": null,
      "outputs": [
        {
          "output_type": "stream",
          "name": "stdout",
          "text": [
            "Teste de Friedman em dataset desbalanceado e setup default: \n"
          ]
        },
        {
          "output_type": "execute_result",
          "data": {
            "text/plain": [
              "          Source         W  ddof1          Q     p-unc\n",
              "Friedman  Within  0.366923      9  23.116118  0.005941"
            ],
            "text/html": [
              "\n",
              "  <div id=\"df-c5ebcb62-a787-4c3b-b7e9-f7c43d15cc76\">\n",
              "    <div class=\"colab-df-container\">\n",
              "      <div>\n",
              "<style scoped>\n",
              "    .dataframe tbody tr th:only-of-type {\n",
              "        vertical-align: middle;\n",
              "    }\n",
              "\n",
              "    .dataframe tbody tr th {\n",
              "        vertical-align: top;\n",
              "    }\n",
              "\n",
              "    .dataframe thead th {\n",
              "        text-align: right;\n",
              "    }\n",
              "</style>\n",
              "<table border=\"1\" class=\"dataframe\">\n",
              "  <thead>\n",
              "    <tr style=\"text-align: right;\">\n",
              "      <th></th>\n",
              "      <th>Source</th>\n",
              "      <th>W</th>\n",
              "      <th>ddof1</th>\n",
              "      <th>Q</th>\n",
              "      <th>p-unc</th>\n",
              "    </tr>\n",
              "  </thead>\n",
              "  <tbody>\n",
              "    <tr>\n",
              "      <th>Friedman</th>\n",
              "      <td>Within</td>\n",
              "      <td>0.366923</td>\n",
              "      <td>9</td>\n",
              "      <td>23.116118</td>\n",
              "      <td>0.005941</td>\n",
              "    </tr>\n",
              "  </tbody>\n",
              "</table>\n",
              "</div>\n",
              "      <button class=\"colab-df-convert\" onclick=\"convertToInteractive('df-c5ebcb62-a787-4c3b-b7e9-f7c43d15cc76')\"\n",
              "              title=\"Convert this dataframe to an interactive table.\"\n",
              "              style=\"display:none;\">\n",
              "        \n",
              "  <svg xmlns=\"http://www.w3.org/2000/svg\" height=\"24px\"viewBox=\"0 0 24 24\"\n",
              "       width=\"24px\">\n",
              "    <path d=\"M0 0h24v24H0V0z\" fill=\"none\"/>\n",
              "    <path d=\"M18.56 5.44l.94 2.06.94-2.06 2.06-.94-2.06-.94-.94-2.06-.94 2.06-2.06.94zm-11 1L8.5 8.5l.94-2.06 2.06-.94-2.06-.94L8.5 2.5l-.94 2.06-2.06.94zm10 10l.94 2.06.94-2.06 2.06-.94-2.06-.94-.94-2.06-.94 2.06-2.06.94z\"/><path d=\"M17.41 7.96l-1.37-1.37c-.4-.4-.92-.59-1.43-.59-.52 0-1.04.2-1.43.59L10.3 9.45l-7.72 7.72c-.78.78-.78 2.05 0 2.83L4 21.41c.39.39.9.59 1.41.59.51 0 1.02-.2 1.41-.59l7.78-7.78 2.81-2.81c.8-.78.8-2.07 0-2.86zM5.41 20L4 18.59l7.72-7.72 1.47 1.35L5.41 20z\"/>\n",
              "  </svg>\n",
              "      </button>\n",
              "      \n",
              "  <style>\n",
              "    .colab-df-container {\n",
              "      display:flex;\n",
              "      flex-wrap:wrap;\n",
              "      gap: 12px;\n",
              "    }\n",
              "\n",
              "    .colab-df-convert {\n",
              "      background-color: #E8F0FE;\n",
              "      border: none;\n",
              "      border-radius: 50%;\n",
              "      cursor: pointer;\n",
              "      display: none;\n",
              "      fill: #1967D2;\n",
              "      height: 32px;\n",
              "      padding: 0 0 0 0;\n",
              "      width: 32px;\n",
              "    }\n",
              "\n",
              "    .colab-df-convert:hover {\n",
              "      background-color: #E2EBFA;\n",
              "      box-shadow: 0px 1px 2px rgba(60, 64, 67, 0.3), 0px 1px 3px 1px rgba(60, 64, 67, 0.15);\n",
              "      fill: #174EA6;\n",
              "    }\n",
              "\n",
              "    [theme=dark] .colab-df-convert {\n",
              "      background-color: #3B4455;\n",
              "      fill: #D2E3FC;\n",
              "    }\n",
              "\n",
              "    [theme=dark] .colab-df-convert:hover {\n",
              "      background-color: #434B5C;\n",
              "      box-shadow: 0px 1px 3px 1px rgba(0, 0, 0, 0.15);\n",
              "      filter: drop-shadow(0px 1px 2px rgba(0, 0, 0, 0.3));\n",
              "      fill: #FFFFFF;\n",
              "    }\n",
              "  </style>\n",
              "\n",
              "      <script>\n",
              "        const buttonEl =\n",
              "          document.querySelector('#df-c5ebcb62-a787-4c3b-b7e9-f7c43d15cc76 button.colab-df-convert');\n",
              "        buttonEl.style.display =\n",
              "          google.colab.kernel.accessAllowed ? 'block' : 'none';\n",
              "\n",
              "        async function convertToInteractive(key) {\n",
              "          const element = document.querySelector('#df-c5ebcb62-a787-4c3b-b7e9-f7c43d15cc76');\n",
              "          const dataTable =\n",
              "            await google.colab.kernel.invokeFunction('convertToInteractive',\n",
              "                                                     [key], {});\n",
              "          if (!dataTable) return;\n",
              "\n",
              "          const docLinkHtml = 'Like what you see? Visit the ' +\n",
              "            '<a target=\"_blank\" href=https://colab.research.google.com/notebooks/data_table.ipynb>data table notebook</a>'\n",
              "            + ' to learn more about interactive tables.';\n",
              "          element.innerHTML = '';\n",
              "          dataTable['output_type'] = 'display_data';\n",
              "          await google.colab.output.renderOutput(dataTable, element);\n",
              "          const docLink = document.createElement('div');\n",
              "          docLink.innerHTML = docLinkHtml;\n",
              "          element.appendChild(docLink);\n",
              "        }\n",
              "      </script>\n",
              "    </div>\n",
              "  </div>\n",
              "  "
            ]
          },
          "metadata": {},
          "execution_count": 5
        }
      ]
    },
    {
      "cell_type": "code",
      "source": [
        "print(\"Teste de Friedman em dataset desbalanceado e setup tunado: \")\n",
        "pg.friedman(df_f1_default_tuned)"
      ],
      "metadata": {
        "colab": {
          "base_uri": "https://localhost:8080/",
          "height": 99
        },
        "id": "nrXWNGoV7Tgp",
        "outputId": "8f724407-9a0f-4001-b2b1-7445d828c5f0"
      },
      "execution_count": null,
      "outputs": [
        {
          "output_type": "stream",
          "name": "stdout",
          "text": [
            "Teste de Friedman em dataset desbalanceado e setup tunado: \n"
          ]
        },
        {
          "output_type": "execute_result",
          "data": {
            "text/plain": [
              "          Source         W  ddof1          Q     p-unc\n",
              "Friedman  Within  0.517267      9  32.587826  0.000158"
            ],
            "text/html": [
              "\n",
              "  <div id=\"df-ff43dd5e-72e9-4eb7-8566-bb60779021b6\">\n",
              "    <div class=\"colab-df-container\">\n",
              "      <div>\n",
              "<style scoped>\n",
              "    .dataframe tbody tr th:only-of-type {\n",
              "        vertical-align: middle;\n",
              "    }\n",
              "\n",
              "    .dataframe tbody tr th {\n",
              "        vertical-align: top;\n",
              "    }\n",
              "\n",
              "    .dataframe thead th {\n",
              "        text-align: right;\n",
              "    }\n",
              "</style>\n",
              "<table border=\"1\" class=\"dataframe\">\n",
              "  <thead>\n",
              "    <tr style=\"text-align: right;\">\n",
              "      <th></th>\n",
              "      <th>Source</th>\n",
              "      <th>W</th>\n",
              "      <th>ddof1</th>\n",
              "      <th>Q</th>\n",
              "      <th>p-unc</th>\n",
              "    </tr>\n",
              "  </thead>\n",
              "  <tbody>\n",
              "    <tr>\n",
              "      <th>Friedman</th>\n",
              "      <td>Within</td>\n",
              "      <td>0.517267</td>\n",
              "      <td>9</td>\n",
              "      <td>32.587826</td>\n",
              "      <td>0.000158</td>\n",
              "    </tr>\n",
              "  </tbody>\n",
              "</table>\n",
              "</div>\n",
              "      <button class=\"colab-df-convert\" onclick=\"convertToInteractive('df-ff43dd5e-72e9-4eb7-8566-bb60779021b6')\"\n",
              "              title=\"Convert this dataframe to an interactive table.\"\n",
              "              style=\"display:none;\">\n",
              "        \n",
              "  <svg xmlns=\"http://www.w3.org/2000/svg\" height=\"24px\"viewBox=\"0 0 24 24\"\n",
              "       width=\"24px\">\n",
              "    <path d=\"M0 0h24v24H0V0z\" fill=\"none\"/>\n",
              "    <path d=\"M18.56 5.44l.94 2.06.94-2.06 2.06-.94-2.06-.94-.94-2.06-.94 2.06-2.06.94zm-11 1L8.5 8.5l.94-2.06 2.06-.94-2.06-.94L8.5 2.5l-.94 2.06-2.06.94zm10 10l.94 2.06.94-2.06 2.06-.94-2.06-.94-.94-2.06-.94 2.06-2.06.94z\"/><path d=\"M17.41 7.96l-1.37-1.37c-.4-.4-.92-.59-1.43-.59-.52 0-1.04.2-1.43.59L10.3 9.45l-7.72 7.72c-.78.78-.78 2.05 0 2.83L4 21.41c.39.39.9.59 1.41.59.51 0 1.02-.2 1.41-.59l7.78-7.78 2.81-2.81c.8-.78.8-2.07 0-2.86zM5.41 20L4 18.59l7.72-7.72 1.47 1.35L5.41 20z\"/>\n",
              "  </svg>\n",
              "      </button>\n",
              "      \n",
              "  <style>\n",
              "    .colab-df-container {\n",
              "      display:flex;\n",
              "      flex-wrap:wrap;\n",
              "      gap: 12px;\n",
              "    }\n",
              "\n",
              "    .colab-df-convert {\n",
              "      background-color: #E8F0FE;\n",
              "      border: none;\n",
              "      border-radius: 50%;\n",
              "      cursor: pointer;\n",
              "      display: none;\n",
              "      fill: #1967D2;\n",
              "      height: 32px;\n",
              "      padding: 0 0 0 0;\n",
              "      width: 32px;\n",
              "    }\n",
              "\n",
              "    .colab-df-convert:hover {\n",
              "      background-color: #E2EBFA;\n",
              "      box-shadow: 0px 1px 2px rgba(60, 64, 67, 0.3), 0px 1px 3px 1px rgba(60, 64, 67, 0.15);\n",
              "      fill: #174EA6;\n",
              "    }\n",
              "\n",
              "    [theme=dark] .colab-df-convert {\n",
              "      background-color: #3B4455;\n",
              "      fill: #D2E3FC;\n",
              "    }\n",
              "\n",
              "    [theme=dark] .colab-df-convert:hover {\n",
              "      background-color: #434B5C;\n",
              "      box-shadow: 0px 1px 3px 1px rgba(0, 0, 0, 0.15);\n",
              "      filter: drop-shadow(0px 1px 2px rgba(0, 0, 0, 0.3));\n",
              "      fill: #FFFFFF;\n",
              "    }\n",
              "  </style>\n",
              "\n",
              "      <script>\n",
              "        const buttonEl =\n",
              "          document.querySelector('#df-ff43dd5e-72e9-4eb7-8566-bb60779021b6 button.colab-df-convert');\n",
              "        buttonEl.style.display =\n",
              "          google.colab.kernel.accessAllowed ? 'block' : 'none';\n",
              "\n",
              "        async function convertToInteractive(key) {\n",
              "          const element = document.querySelector('#df-ff43dd5e-72e9-4eb7-8566-bb60779021b6');\n",
              "          const dataTable =\n",
              "            await google.colab.kernel.invokeFunction('convertToInteractive',\n",
              "                                                     [key], {});\n",
              "          if (!dataTable) return;\n",
              "\n",
              "          const docLinkHtml = 'Like what you see? Visit the ' +\n",
              "            '<a target=\"_blank\" href=https://colab.research.google.com/notebooks/data_table.ipynb>data table notebook</a>'\n",
              "            + ' to learn more about interactive tables.';\n",
              "          element.innerHTML = '';\n",
              "          dataTable['output_type'] = 'display_data';\n",
              "          await google.colab.output.renderOutput(dataTable, element);\n",
              "          const docLink = document.createElement('div');\n",
              "          docLink.innerHTML = docLinkHtml;\n",
              "          element.appendChild(docLink);\n",
              "        }\n",
              "      </script>\n",
              "    </div>\n",
              "  </div>\n",
              "  "
            ]
          },
          "metadata": {},
          "execution_count": 11
        }
      ]
    },
    {
      "cell_type": "code",
      "source": [
        "print(\"Teste de Friedman em dataset balanceado e setup default: \")\n",
        "pg.friedman(df_f1_balanced)"
      ],
      "metadata": {
        "colab": {
          "base_uri": "https://localhost:8080/",
          "height": 99
        },
        "id": "AYHrUJkj7Zwe",
        "outputId": "27747259-44cd-4cc7-f944-9f622555af43"
      },
      "execution_count": null,
      "outputs": [
        {
          "output_type": "stream",
          "name": "stdout",
          "text": [
            "Teste de Friedman em dataset balanceado e setup default: \n"
          ]
        },
        {
          "output_type": "execute_result",
          "data": {
            "text/plain": [
              "          Source        W  ddof1          Q     p-unc\n",
              "Friedman  Within  0.33457      9  21.077922  0.012309"
            ],
            "text/html": [
              "\n",
              "  <div id=\"df-36893514-789b-4193-9dc8-5d01c1f2db92\">\n",
              "    <div class=\"colab-df-container\">\n",
              "      <div>\n",
              "<style scoped>\n",
              "    .dataframe tbody tr th:only-of-type {\n",
              "        vertical-align: middle;\n",
              "    }\n",
              "\n",
              "    .dataframe tbody tr th {\n",
              "        vertical-align: top;\n",
              "    }\n",
              "\n",
              "    .dataframe thead th {\n",
              "        text-align: right;\n",
              "    }\n",
              "</style>\n",
              "<table border=\"1\" class=\"dataframe\">\n",
              "  <thead>\n",
              "    <tr style=\"text-align: right;\">\n",
              "      <th></th>\n",
              "      <th>Source</th>\n",
              "      <th>W</th>\n",
              "      <th>ddof1</th>\n",
              "      <th>Q</th>\n",
              "      <th>p-unc</th>\n",
              "    </tr>\n",
              "  </thead>\n",
              "  <tbody>\n",
              "    <tr>\n",
              "      <th>Friedman</th>\n",
              "      <td>Within</td>\n",
              "      <td>0.33457</td>\n",
              "      <td>9</td>\n",
              "      <td>21.077922</td>\n",
              "      <td>0.012309</td>\n",
              "    </tr>\n",
              "  </tbody>\n",
              "</table>\n",
              "</div>\n",
              "      <button class=\"colab-df-convert\" onclick=\"convertToInteractive('df-36893514-789b-4193-9dc8-5d01c1f2db92')\"\n",
              "              title=\"Convert this dataframe to an interactive table.\"\n",
              "              style=\"display:none;\">\n",
              "        \n",
              "  <svg xmlns=\"http://www.w3.org/2000/svg\" height=\"24px\"viewBox=\"0 0 24 24\"\n",
              "       width=\"24px\">\n",
              "    <path d=\"M0 0h24v24H0V0z\" fill=\"none\"/>\n",
              "    <path d=\"M18.56 5.44l.94 2.06.94-2.06 2.06-.94-2.06-.94-.94-2.06-.94 2.06-2.06.94zm-11 1L8.5 8.5l.94-2.06 2.06-.94-2.06-.94L8.5 2.5l-.94 2.06-2.06.94zm10 10l.94 2.06.94-2.06 2.06-.94-2.06-.94-.94-2.06-.94 2.06-2.06.94z\"/><path d=\"M17.41 7.96l-1.37-1.37c-.4-.4-.92-.59-1.43-.59-.52 0-1.04.2-1.43.59L10.3 9.45l-7.72 7.72c-.78.78-.78 2.05 0 2.83L4 21.41c.39.39.9.59 1.41.59.51 0 1.02-.2 1.41-.59l7.78-7.78 2.81-2.81c.8-.78.8-2.07 0-2.86zM5.41 20L4 18.59l7.72-7.72 1.47 1.35L5.41 20z\"/>\n",
              "  </svg>\n",
              "      </button>\n",
              "      \n",
              "  <style>\n",
              "    .colab-df-container {\n",
              "      display:flex;\n",
              "      flex-wrap:wrap;\n",
              "      gap: 12px;\n",
              "    }\n",
              "\n",
              "    .colab-df-convert {\n",
              "      background-color: #E8F0FE;\n",
              "      border: none;\n",
              "      border-radius: 50%;\n",
              "      cursor: pointer;\n",
              "      display: none;\n",
              "      fill: #1967D2;\n",
              "      height: 32px;\n",
              "      padding: 0 0 0 0;\n",
              "      width: 32px;\n",
              "    }\n",
              "\n",
              "    .colab-df-convert:hover {\n",
              "      background-color: #E2EBFA;\n",
              "      box-shadow: 0px 1px 2px rgba(60, 64, 67, 0.3), 0px 1px 3px 1px rgba(60, 64, 67, 0.15);\n",
              "      fill: #174EA6;\n",
              "    }\n",
              "\n",
              "    [theme=dark] .colab-df-convert {\n",
              "      background-color: #3B4455;\n",
              "      fill: #D2E3FC;\n",
              "    }\n",
              "\n",
              "    [theme=dark] .colab-df-convert:hover {\n",
              "      background-color: #434B5C;\n",
              "      box-shadow: 0px 1px 3px 1px rgba(0, 0, 0, 0.15);\n",
              "      filter: drop-shadow(0px 1px 2px rgba(0, 0, 0, 0.3));\n",
              "      fill: #FFFFFF;\n",
              "    }\n",
              "  </style>\n",
              "\n",
              "      <script>\n",
              "        const buttonEl =\n",
              "          document.querySelector('#df-36893514-789b-4193-9dc8-5d01c1f2db92 button.colab-df-convert');\n",
              "        buttonEl.style.display =\n",
              "          google.colab.kernel.accessAllowed ? 'block' : 'none';\n",
              "\n",
              "        async function convertToInteractive(key) {\n",
              "          const element = document.querySelector('#df-36893514-789b-4193-9dc8-5d01c1f2db92');\n",
              "          const dataTable =\n",
              "            await google.colab.kernel.invokeFunction('convertToInteractive',\n",
              "                                                     [key], {});\n",
              "          if (!dataTable) return;\n",
              "\n",
              "          const docLinkHtml = 'Like what you see? Visit the ' +\n",
              "            '<a target=\"_blank\" href=https://colab.research.google.com/notebooks/data_table.ipynb>data table notebook</a>'\n",
              "            + ' to learn more about interactive tables.';\n",
              "          element.innerHTML = '';\n",
              "          dataTable['output_type'] = 'display_data';\n",
              "          await google.colab.output.renderOutput(dataTable, element);\n",
              "          const docLink = document.createElement('div');\n",
              "          docLink.innerHTML = docLinkHtml;\n",
              "          element.appendChild(docLink);\n",
              "        }\n",
              "      </script>\n",
              "    </div>\n",
              "  </div>\n",
              "  "
            ]
          },
          "metadata": {},
          "execution_count": 12
        }
      ]
    },
    {
      "cell_type": "code",
      "source": [
        "print(\"Teste de Friedman em dataset balanceado e setup tunado: \")\n",
        "pg.friedman(df_f1_balanced_tuned)"
      ],
      "metadata": {
        "colab": {
          "base_uri": "https://localhost:8080/",
          "height": 99
        },
        "id": "Ax_bKLRQ7foi",
        "outputId": "cd987084-cd80-400a-919f-d9af619198f1"
      },
      "execution_count": null,
      "outputs": [
        {
          "output_type": "stream",
          "name": "stdout",
          "text": [
            "Teste de Friedman em dataset balanceado e setup tunado: \n"
          ]
        },
        {
          "output_type": "execute_result",
          "data": {
            "text/plain": [
              "          Source         W  ddof1         Q     p-unc\n",
              "Friedman  Within  0.404245      9  25.46742  0.002495"
            ],
            "text/html": [
              "\n",
              "  <div id=\"df-ad51e208-77cd-469f-bf1f-2911058ee97a\">\n",
              "    <div class=\"colab-df-container\">\n",
              "      <div>\n",
              "<style scoped>\n",
              "    .dataframe tbody tr th:only-of-type {\n",
              "        vertical-align: middle;\n",
              "    }\n",
              "\n",
              "    .dataframe tbody tr th {\n",
              "        vertical-align: top;\n",
              "    }\n",
              "\n",
              "    .dataframe thead th {\n",
              "        text-align: right;\n",
              "    }\n",
              "</style>\n",
              "<table border=\"1\" class=\"dataframe\">\n",
              "  <thead>\n",
              "    <tr style=\"text-align: right;\">\n",
              "      <th></th>\n",
              "      <th>Source</th>\n",
              "      <th>W</th>\n",
              "      <th>ddof1</th>\n",
              "      <th>Q</th>\n",
              "      <th>p-unc</th>\n",
              "    </tr>\n",
              "  </thead>\n",
              "  <tbody>\n",
              "    <tr>\n",
              "      <th>Friedman</th>\n",
              "      <td>Within</td>\n",
              "      <td>0.404245</td>\n",
              "      <td>9</td>\n",
              "      <td>25.46742</td>\n",
              "      <td>0.002495</td>\n",
              "    </tr>\n",
              "  </tbody>\n",
              "</table>\n",
              "</div>\n",
              "      <button class=\"colab-df-convert\" onclick=\"convertToInteractive('df-ad51e208-77cd-469f-bf1f-2911058ee97a')\"\n",
              "              title=\"Convert this dataframe to an interactive table.\"\n",
              "              style=\"display:none;\">\n",
              "        \n",
              "  <svg xmlns=\"http://www.w3.org/2000/svg\" height=\"24px\"viewBox=\"0 0 24 24\"\n",
              "       width=\"24px\">\n",
              "    <path d=\"M0 0h24v24H0V0z\" fill=\"none\"/>\n",
              "    <path d=\"M18.56 5.44l.94 2.06.94-2.06 2.06-.94-2.06-.94-.94-2.06-.94 2.06-2.06.94zm-11 1L8.5 8.5l.94-2.06 2.06-.94-2.06-.94L8.5 2.5l-.94 2.06-2.06.94zm10 10l.94 2.06.94-2.06 2.06-.94-2.06-.94-.94-2.06-.94 2.06-2.06.94z\"/><path d=\"M17.41 7.96l-1.37-1.37c-.4-.4-.92-.59-1.43-.59-.52 0-1.04.2-1.43.59L10.3 9.45l-7.72 7.72c-.78.78-.78 2.05 0 2.83L4 21.41c.39.39.9.59 1.41.59.51 0 1.02-.2 1.41-.59l7.78-7.78 2.81-2.81c.8-.78.8-2.07 0-2.86zM5.41 20L4 18.59l7.72-7.72 1.47 1.35L5.41 20z\"/>\n",
              "  </svg>\n",
              "      </button>\n",
              "      \n",
              "  <style>\n",
              "    .colab-df-container {\n",
              "      display:flex;\n",
              "      flex-wrap:wrap;\n",
              "      gap: 12px;\n",
              "    }\n",
              "\n",
              "    .colab-df-convert {\n",
              "      background-color: #E8F0FE;\n",
              "      border: none;\n",
              "      border-radius: 50%;\n",
              "      cursor: pointer;\n",
              "      display: none;\n",
              "      fill: #1967D2;\n",
              "      height: 32px;\n",
              "      padding: 0 0 0 0;\n",
              "      width: 32px;\n",
              "    }\n",
              "\n",
              "    .colab-df-convert:hover {\n",
              "      background-color: #E2EBFA;\n",
              "      box-shadow: 0px 1px 2px rgba(60, 64, 67, 0.3), 0px 1px 3px 1px rgba(60, 64, 67, 0.15);\n",
              "      fill: #174EA6;\n",
              "    }\n",
              "\n",
              "    [theme=dark] .colab-df-convert {\n",
              "      background-color: #3B4455;\n",
              "      fill: #D2E3FC;\n",
              "    }\n",
              "\n",
              "    [theme=dark] .colab-df-convert:hover {\n",
              "      background-color: #434B5C;\n",
              "      box-shadow: 0px 1px 3px 1px rgba(0, 0, 0, 0.15);\n",
              "      filter: drop-shadow(0px 1px 2px rgba(0, 0, 0, 0.3));\n",
              "      fill: #FFFFFF;\n",
              "    }\n",
              "  </style>\n",
              "\n",
              "      <script>\n",
              "        const buttonEl =\n",
              "          document.querySelector('#df-ad51e208-77cd-469f-bf1f-2911058ee97a button.colab-df-convert');\n",
              "        buttonEl.style.display =\n",
              "          google.colab.kernel.accessAllowed ? 'block' : 'none';\n",
              "\n",
              "        async function convertToInteractive(key) {\n",
              "          const element = document.querySelector('#df-ad51e208-77cd-469f-bf1f-2911058ee97a');\n",
              "          const dataTable =\n",
              "            await google.colab.kernel.invokeFunction('convertToInteractive',\n",
              "                                                     [key], {});\n",
              "          if (!dataTable) return;\n",
              "\n",
              "          const docLinkHtml = 'Like what you see? Visit the ' +\n",
              "            '<a target=\"_blank\" href=https://colab.research.google.com/notebooks/data_table.ipynb>data table notebook</a>'\n",
              "            + ' to learn more about interactive tables.';\n",
              "          element.innerHTML = '';\n",
              "          dataTable['output_type'] = 'display_data';\n",
              "          await google.colab.output.renderOutput(dataTable, element);\n",
              "          const docLink = document.createElement('div');\n",
              "          docLink.innerHTML = docLinkHtml;\n",
              "          element.appendChild(docLink);\n",
              "        }\n",
              "      </script>\n",
              "    </div>\n",
              "  </div>\n",
              "  "
            ]
          },
          "metadata": {},
          "execution_count": 13
        }
      ]
    },
    {
      "cell_type": "markdown",
      "source": [
        "As we can see above, a low p-value, as is the case over all the datasets, indicates that it is highly unlikely that the observed result occurred by chance, reinforcing the evidence against the null hypothesis and in favor of the alternative hypothesis. Therefore, we can reject the null hypothesis and conclude that there is a significant difference between the tested models.\n",
        "\n",
        "Now it's time to find the best model.\n",
        "\n",
        "Let's apply the Holm's post hoc test and build a ranking over the algorithm's performances.\n",
        "\n",
        "(I couldn't find the Holm's test in Python, so I exported the data and applied to an external website, link here: )"
      ],
      "metadata": {
        "id": "Qqxua3u0d5S5"
      }
    },
    {
      "cell_type": "markdown",
      "source": [
        "As result, we got the table below:\n",
        "\n",
        "MODEL | F1-SCORE (mean)\n",
        "--- | ---\n",
        "Random Forest | 6.50\n",
        "Gradient Boosting | 6.30\n",
        "Logistic Regression | 4.50\n",
        "Gaussian Naive Bayes | 4.00\n",
        "AdaBoost | 3.30\n",
        "Linear SVM | 2.05\n",
        "MLP | 1.35\n",
        "\n",
        "This result shows to us that Random Forest is the indicated algorithm to handle with this problem."
      ],
      "metadata": {
        "id": "eEaFPM_Jms-E"
      }
    },
    {
      "cell_type": "code",
      "source": [
        "f1_default = {1: {'Random Forest': 0.6872303206997085,\n",
        "  'Logistic Regression': 0.5900521833267083,\n",
        "  'Linear SVM': 0.3620466824686302,\n",
        "  'Gaussian Naive Bayes': 0.584828079396728,\n",
        "  'AdaBoost': 0.5096969696969698,\n",
        "  'Gradient Boosting': 0.6371816638370119,\n",
        "  'MLP': 0.44226053713822333},\n",
        " 10: {'Random Forest': 0.5788929978049764,\n",
        "  'Logistic Regression': 0.5527070332265138,\n",
        "  'Linear SVM': 0.3993973428297493,\n",
        "  'Gaussian Naive Bayes': 0.5934230835191219,\n",
        "  'AdaBoost': 0.5299363266100736,\n",
        "  'Gradient Boosting': 0.6650502824080451,\n",
        "  'MLP': 0.1520329061857301},\n",
        " 100: {'Random Forest': 0.6455718658072218,\n",
        "  'Logistic Regression': 0.6414021164021164,\n",
        "  'Linear SVM': 0.33983706981947576,\n",
        "  'Gaussian Naive Bayes': 0.6083116971024373,\n",
        "  'AdaBoost': 0.4739205886436207,\n",
        "  'Gradient Boosting': 0.6428911187116356,\n",
        "  'MLP': 0.0892224658458425},\n",
        " 500: {'Random Forest': 0.6979180683262317,\n",
        "  'Logistic Regression': 0.6401288936627283,\n",
        "  'Linear SVM': 0.5510204081632653,\n",
        "  'Gaussian Naive Bayes': 0.6193470382365557,\n",
        "  'AdaBoost': 0.4947667564148119,\n",
        "  'Gradient Boosting': 0.6790287543588864,\n",
        "  'MLP': 0.5031055900621119},\n",
        " 1000: {'Random Forest': 0.6593357039785611,\n",
        "  'Logistic Regression': 0.5877750367546287,\n",
        "  'Linear SVM': 0.3447324875896305,\n",
        "  'Gaussian Naive Bayes': 0.573429009519235,\n",
        "  'AdaBoost': 0.4878780870146223,\n",
        "  'Gradient Boosting': 0.6698412698412699,\n",
        "  'MLP': 0.3447324875896305},\n",
        " 10000: {'Random Forest': 0.7741828438692551,\n",
        "  'Logistic Regression': 0.6944357230071516,\n",
        "  'Linear SVM': 0.6238859885039286,\n",
        "  'Gaussian Naive Bayes': 0.5838635049161365,\n",
        "  'AdaBoost': 0.710989010989011,\n",
        "  'Gradient Boosting': 0.732163984623125,\n",
        "  'MLP': 0.1520329061857301},\n",
        " 50000: {'Random Forest': 0.7339935974389756,\n",
        "  'Logistic Regression': 0.6882957041571633,\n",
        "  'Linear SVM': 0.17872603586889302,\n",
        "  'Gaussian Naive Bayes': 0.7112730806608358,\n",
        "  'AdaBoost': 0.5515873015873016,\n",
        "  'Gradient Boosting': 0.7774395472474703,\n",
        "  'MLP': 0.4625850340136054},\n",
        " 100000: {'Random Forest': 0.7100380977223185,\n",
        "  'Logistic Regression': 0.667055393586006,\n",
        "  'Linear SVM': 0.5952858001545639,\n",
        "  'Gaussian Naive Bayes': 0.5522777777777778,\n",
        "  'AdaBoost': 0.5991514340460478,\n",
        "  'Gradient Boosting': 0.69325492909028,\n",
        "  'MLP': 0.4757571818536332},\n",
        " 500000: {'Random Forest': 0.6538113160023443,\n",
        "  'Logistic Regression': 0.6164502164502165,\n",
        "  'Linear SVM': 0.5495694781409067,\n",
        "  'Gaussian Naive Bayes': 0.6443246194798989,\n",
        "  'AdaBoost': 0.5546490070047108,\n",
        "  'Gradient Boosting': 0.6426456050400455,\n",
        "  'MLP': 0.4034947312258237},\n",
        " 1000000: {'Random Forest': 0.6564309093925819,\n",
        "  'Logistic Regression': 0.6037682789651294,\n",
        "  'Linear SVM': 0.4412244897959184,\n",
        "  'Gaussian Naive Bayes': 0.587329931972789,\n",
        "  'AdaBoost': 0.6083181172651653,\n",
        "  'Gradient Boosting': 0.6724784527394094,\n",
        "  'MLP': 0.11902040816326528}}\n",
        "\n",
        "f1_default_tuned = {1: {'Random Forest': 0.6885645105499828,\n",
        "  'Logistic Regression': 0.6664580461276927,\n",
        "  'Linear SVM': 0.47027506654835854,\n",
        "  'Gaussian Naive Bayes': 0.5797811235368349,\n",
        "  'AdaBoost': 0.6830583105796524,\n",
        "  'Gradient Boosting': 0.6993745885450954,\n",
        "  'MLP': 0.45248927596516314},\n",
        " 10: {'Random Forest': 0.6931337752492301,\n",
        "  'Logistic Regression': 0.6079884679121927,\n",
        "  'Linear SVM': 0.3915145005370569,\n",
        "  'Gaussian Naive Bayes': 0.5574037133650452,\n",
        "  'AdaBoost': 0.6414959239336697,\n",
        "  'Gradient Boosting': 0.6506793698911926,\n",
        "  'MLP': 0.009523809523809525},\n",
        " 100: {'Random Forest': 0.6574846975296921,\n",
        "  'Logistic Regression': 0.6663935647251601,\n",
        "  'Linear SVM': 0.18749409182097954,\n",
        "  'Gaussian Naive Bayes': 0.609947194506974,\n",
        "  'AdaBoost': 0.613628502248357,\n",
        "  'Gradient Boosting': 0.6510049339070713,\n",
        "  'MLP': 0.49030612244897964},\n",
        " 500: {'Random Forest': 0.6677551020408163,\n",
        "  'Logistic Regression': 0.6449928808732796,\n",
        "  'Linear SVM': 0.5556622649059624,\n",
        "  'Gaussian Naive Bayes': 0.6228127614682237,\n",
        "  'AdaBoost': 0.6441930037617369,\n",
        "  'Gradient Boosting': 0.6404614019520851,\n",
        "  'MLP': 0.5031055900621119},\n",
        " 1000: {'Random Forest': 0.6605144518240864,\n",
        "  'Logistic Regression': 0.5946991783726479,\n",
        "  'Linear SVM': 0.3447324875896305,\n",
        "  'Gaussian Naive Bayes': 0.4929879036399693,\n",
        "  'AdaBoost': 0.6425250234774044,\n",
        "  'Gradient Boosting': 0.6236264243389564,\n",
        "  'MLP': 0.3447324875896305},\n",
        " 10000: {'Random Forest': 0.7520825491383402,\n",
        "  'Logistic Regression': 0.7064571860490227,\n",
        "  'Linear SVM': 0.4400837257980115,\n",
        "  'Gaussian Naive Bayes': 0.5448212367653827,\n",
        "  'AdaBoost': 0.7344814584694143,\n",
        "  'Gradient Boosting': 0.7490881220909417,\n",
        "  'MLP': 0.4400837257980115},\n",
        " 50000: {'Random Forest': 0.7827167396639021,\n",
        "  'Logistic Regression': 0.7235728187037845,\n",
        "  'Linear SVM': 0.46501457725947526,\n",
        "  'Gaussian Naive Bayes': 0.6846117757447806,\n",
        "  'AdaBoost': 0.7291833747348729,\n",
        "  'Gradient Boosting': 0.75427388346643,\n",
        "  'MLP': 0.4400837257980115},\n",
        " 100000: {'Random Forest': 0.7609059771397434,\n",
        "  'Logistic Regression': 0.6954711223967313,\n",
        "  'Linear SVM': 0.4855596784168213,\n",
        "  'Gaussian Naive Bayes': 0.5162001559517088,\n",
        "  'AdaBoost': 0.721959776646736,\n",
        "  'Gradient Boosting': 0.7351327627825324,\n",
        "  'MLP': 0.47760236169939674},\n",
        " 500000: {'Random Forest': 0.6457702698304202,\n",
        "  'Logistic Regression': 0.6415125919148413,\n",
        "  'Linear SVM': 0.39041703637976927,\n",
        "  'Gaussian Naive Bayes': 0.588916797488226,\n",
        "  'AdaBoost': 0.617993676343777,\n",
        "  'Gradient Boosting': 0.6385882288137927,\n",
        "  'MLP': 0.4034947312258237},\n",
        " 1000000: {'Random Forest': 0.6932701652089406,\n",
        "  'Logistic Regression': 0.6444577831132453,\n",
        "  'Linear SVM': 0.4400837257980115,\n",
        "  'Gaussian Naive Bayes': 0.587329931972789,\n",
        "  'AdaBoost': 0.6588773605949978,\n",
        "  'Gradient Boosting': 0.6948724744643111,\n",
        "  'MLP': 0.4400837257980115}}\n",
        "\n",
        "f1_balanced = {1: {'Random Forest': 0.6599618473778798,\n",
        "  'Logistic Regression': 0.5764163921598324,\n",
        "  'Linear SVM': 0.5738002478890167,\n",
        "  'Gaussian Naive Bayes': 0.5009315306351261,\n",
        "  'AdaBoost': 0.455271098482067,\n",
        "  'Gradient Boosting': 0.6978466498372821,\n",
        "  'MLP': 0.11700449083626654},\n",
        " 10: {'Random Forest': 0.6086272719598028,\n",
        "  'Logistic Regression': 0.5036674957064166,\n",
        "  'Linear SVM': 0.4385148285035799,\n",
        "  'Gaussian Naive Bayes': 0.4837444305662566,\n",
        "  'AdaBoost': 0.5115281827016522,\n",
        "  'Gradient Boosting': 0.5970196529315952,\n",
        "  'MLP': 0.04429847286990144},\n",
        " 100: {'Random Forest': 0.6531140508597015,\n",
        "  'Logistic Regression': 0.6373294673060481,\n",
        "  'Linear SVM': 0.18121751806312586,\n",
        "  'Gaussian Naive Bayes': 0.5892083490028643,\n",
        "  'AdaBoost': 0.5145168067226891,\n",
        "  'Gradient Boosting': 0.6738474593945408,\n",
        "  'MLP': 0.4804959958667011},\n",
        " 500: {'Random Forest': 0.6683647102251754,\n",
        "  'Logistic Regression': 0.6157861213983663,\n",
        "  'Linear SVM': 0.5740515060776039,\n",
        "  'Gaussian Naive Bayes': 0.6377426832802086,\n",
        "  'AdaBoost': 0.5629888318963949,\n",
        "  'Gradient Boosting': 0.6783451271748425,\n",
        "  'MLP': 0.5031055900621119},\n",
        " 1000: {'Random Forest': 0.693288465066823,\n",
        "  'Logistic Regression': 0.6132701384973209,\n",
        "  'Linear SVM': 0.34231523117721663,\n",
        "  'Gaussian Naive Bayes': 0.5259387069497452,\n",
        "  'AdaBoost': 0.42849501599825685,\n",
        "  'Gradient Boosting': 0.6776051329622756,\n",
        "  'MLP': 0.1638969873663751},\n",
        " 10000: {'Random Forest': 0.7514662992176587,\n",
        "  'Logistic Regression': 0.5982909982626254,\n",
        "  'Linear SVM': 0.018690129112869637,\n",
        "  'Gaussian Naive Bayes': 0.5523623382062584,\n",
        "  'AdaBoost': 0.5277486488666613,\n",
        "  'Gradient Boosting': 0.7580133748414621,\n",
        "  'MLP': 0.43870415298986737},\n",
        " 50000: {'Random Forest': 0.7571164612883956,\n",
        "  'Logistic Regression': 0.6408643801500944,\n",
        "  'Linear SVM': 0.09247448979591838,\n",
        "  'Gaussian Naive Bayes': 0.6359484648827323,\n",
        "  'AdaBoost': 0.6050127692272922,\n",
        "  'Gradient Boosting': 0.721637546127342,\n",
        "  'MLP': 0.43265306122448977},\n",
        " 100000: {'Random Forest': 0.722846765824974,\n",
        "  'Logistic Regression': 0.5359441915179084,\n",
        "  'Linear SVM': 0.23434306948845507,\n",
        "  'Gaussian Naive Bayes': 0.4938565979201702,\n",
        "  'AdaBoost': 0.5543046439085749,\n",
        "  'Gradient Boosting': 0.7061447893642017,\n",
        "  'MLP': 0.43735645734545425},\n",
        " 500000: {'Random Forest': 0.6292389136105572,\n",
        "  'Logistic Regression': 0.5397866009953339,\n",
        "  'Linear SVM': 0.48912300888137794,\n",
        "  'Gaussian Naive Bayes': 0.5911745189673446,\n",
        "  'AdaBoost': 0.572759538598048,\n",
        "  'Gradient Boosting': 0.5991171286916704,\n",
        "  'MLP': 0.582089552238806},\n",
        " 1000000: {'Random Forest': 0.6632551272906316,\n",
        "  'Logistic Regression': 0.5899467806762639,\n",
        "  'Linear SVM': 0.4400837257980115,\n",
        "  'Gaussian Naive Bayes': 0.5696112091453123,\n",
        "  'AdaBoost': 0.4095094880057287,\n",
        "  'Gradient Boosting': 0.6308469382018281,\n",
        "  'MLP': 0.10566512319213399}}\n",
        "\n",
        "f1_balanced_tuned = {1: {'Random Forest': 0.6993745885450954,\n",
        "  'Logistic Regression': 0.6664580461276927,\n",
        "  'Linear SVM': 0.5497353303737602,\n",
        "  'Gaussian Naive Bayes': 0.5797811235368349,\n",
        "  'AdaBoost': 0.6830583105796524,\n",
        "  'Gradient Boosting': 0.6858641120519399,\n",
        "  'MLP': 0.45248927596516314},\n",
        " 10: {'Random Forest': 0.6638114844496728,\n",
        "  'Logistic Regression': 0.6079884679121927,\n",
        "  'Linear SVM': 0.1520329061857301,\n",
        "  'Gaussian Naive Bayes': 0.5574037133650452,\n",
        "  'AdaBoost': 0.6414959239336697,\n",
        "  'Gradient Boosting': 0.6442206192821955,\n",
        "  'MLP': 0.3915145005370569},\n",
        " 100: {'Random Forest': 0.6447472170686457,\n",
        "  'Logistic Regression': 0.6663935647251601,\n",
        "  'Linear SVM': 0.521083650851645,\n",
        "  'Gaussian Naive Bayes': 0.609947194506974,\n",
        "  'AdaBoost': 0.613628502248357,\n",
        "  'Gradient Boosting': 0.6410418935728273,\n",
        "  'MLP': 0.49030612244897964},\n",
        " 500: {'Random Forest': 0.664625850340136,\n",
        "  'Logistic Regression': 0.6449928808732796,\n",
        "  'Linear SVM': 0.5281414452573483,\n",
        "  'Gaussian Naive Bayes': 0.6228127614682237,\n",
        "  'AdaBoost': 0.6441930037617369,\n",
        "  'Gradient Boosting': 0.6404614019520851,\n",
        "  'MLP': 0.5031055900621119},\n",
        " 1000: {'Random Forest': 0.7161058061165472,\n",
        "  'Logistic Regression': 0.5946991783726479,\n",
        "  'Linear SVM': 0.49984225060529697,\n",
        "  'Gaussian Naive Bayes': 0.4929879036399693,\n",
        "  'AdaBoost': 0.6425250234774044,\n",
        "  'Gradient Boosting': 0.6236264243389564,\n",
        "  'MLP': 0.3447324875896305},\n",
        " 10000: {'Random Forest': 0.7369614512471656,\n",
        "  'Logistic Regression': 0.7064571860490227,\n",
        "  'Linear SVM': 0.1038453485937609,\n",
        "  'Gaussian Naive Bayes': 0.5448212367653827,\n",
        "  'AdaBoost': 0.7344814584694143,\n",
        "  'Gradient Boosting': 0.7417547376093295,\n",
        "  'MLP': 0.4400837257980115},\n",
        " 50000: {'Random Forest': 0.772185710442369,\n",
        "  'Logistic Regression': 0.7235728187037845,\n",
        "  'Linear SVM': 0.4400837257980115,\n",
        "  'Gaussian Naive Bayes': 0.6846117757447806,\n",
        "  'AdaBoost': 0.7291833747348729,\n",
        "  'Gradient Boosting': 0.75427388346643,\n",
        "  'MLP': 0.4400837257980115},\n",
        " 100000: {'Random Forest': 0.7380952380952381,\n",
        "  'Logistic Regression': 0.6954711223967313,\n",
        "  'Linear SVM': 0.5022541743970316,\n",
        "  'Gaussian Naive Bayes': 0.5162001559517088,\n",
        "  'AdaBoost': 0.721959776646736,\n",
        "  'Gradient Boosting': 0.7351327627825324,\n",
        "  'MLP': 0.47760236169939674},\n",
        " 500000: {'Random Forest': 0.6416606168158963,\n",
        "  'Logistic Regression': 0.6415125919148413,\n",
        "  'Linear SVM': 0.4034947312258237,\n",
        "  'Gaussian Naive Bayes': 0.588916797488226,\n",
        "  'AdaBoost': 0.617993676343777,\n",
        "  'Gradient Boosting': 0.6385882288137927,\n",
        "  'MLP': 0.4034947312258237},\n",
        " 1000000: {'Random Forest': 0.7040608664518438,\n",
        "  'Logistic Regression': 0.6444577831132453,\n",
        "  'Linear SVM': 0.4110204081632653,\n",
        "  'Gaussian Naive Bayes': 0.587329931972789,\n",
        "  'AdaBoost': 0.6588773605949978,\n",
        "  'Gradient Boosting': 0.6948724744643111,\n",
        "  'MLP': 0.4400837257980115}}"
      ],
      "metadata": {
        "id": "V-WMAeopGqmC"
      },
      "execution_count": null,
      "outputs": []
    }
  ],
  "metadata": {
    "colab": {
      "provenance": [],
      "include_colab_link": true
    },
    "kernelspec": {
      "display_name": "Python 3",
      "name": "python3"
    },
    "language_info": {
      "name": "python"
    }
  },
  "nbformat": 4,
  "nbformat_minor": 0
}